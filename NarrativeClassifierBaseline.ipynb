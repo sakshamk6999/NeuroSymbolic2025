{
  "cells": [
    {
      "cell_type": "code",
      "execution_count": 1,
      "metadata": {
        "id": "5SEhLoA-kjrF"
      },
      "outputs": [],
      "source": [
        "import pandas as pd\n",
        "import numpy as np\n",
        "import matplotlib.pyplot as plt\n",
        "from sklearn import preprocessing\n",
        "import statistics as stat\n",
        "import seaborn as sns"
      ]
    },
    {
      "cell_type": "code",
      "execution_count": 2,
      "metadata": {
        "id": "sCkMHlNDqsUc"
      },
      "outputs": [],
      "source": [
        "import pandas as pd\n",
        "import numpy as np\n",
        "import transformers\n",
        "from transformers import BertTokenizer, BertModel, get_linear_schedule_with_warmup, AutoTokenizer, DebertaForSequenceClassification, DebertaModel\n",
        "import torch\n",
        "from sklearn.preprocessing import LabelEncoder\n",
        "from tqdm import tqdm\n",
        "import torch.nn as nn\n",
        "from sklearn.metrics import accuracy_score\n",
        "import pickle as pkl\n",
        "from sklearn.model_selection import train_test_split\n",
        "from torch.utils.data import DataLoader, Dataset, random_split\n",
        "import string"
      ]
    },
    {
      "cell_type": "code",
      "execution_count": 3,
      "metadata": {
        "id": "P4qCgONHqsGk"
      },
      "outputs": [],
      "source": [
        "import os"
      ]
    },
    {
      "cell_type": "code",
      "execution_count": 4,
      "metadata": {
        "colab": {
          "base_uri": "https://localhost:8080/"
        },
        "id": "ggVNG6zLqv2r",
        "outputId": "d884af1d-07f9-4bd4-9654-9717216d43c5"
      },
      "outputs": [
        {
          "output_type": "stream",
          "name": "stdout",
          "text": [
            "Mounted at /content/drive\n"
          ]
        }
      ],
      "source": [
        "from google.colab import drive\n",
        "drive.mount('/content/drive')"
      ]
    },
    {
      "cell_type": "code",
      "execution_count": 5,
      "metadata": {
        "id": "PSpkafviBoL7"
      },
      "outputs": [],
      "source": [
        "USE_CUDA = torch.cuda.is_available()\n",
        "device = torch.device(\"cuda\" if USE_CUDA else \"cpu\")"
      ]
    },
    {
      "cell_type": "code",
      "execution_count": 6,
      "metadata": {
        "id": "pXir2Ydfqxgg"
      },
      "outputs": [],
      "source": [
        "urw_rec = {\n",
        "\"Blaming the war on others rather than the invader\": [\"Ukraine is the aggressor\", \"The West are the aggressors\"],\n",
        "\"Discrediting Ukraine\": [\"Rewriting Ukraine’s history\", \"Discrediting Ukrainian nation and society\", \"Discrediting Ukrainian military\", \"Discrediting Ukrainian government and officials and policies\", \"Ukraine is a puppet of the West\", \"Ukraine is a hub for criminal activities\", \"Ukraine is associated with nazism\", \"Situation in Ukraine is hopeless\"],\n",
        "\"Russia is the Victim\": [\"The West is russophobic\", \"Russia actions in Ukraine are only self-defence\", \"UA is anti-RU extremists\"],\n",
        "\"Praise of Russia\": [\"Praise of Russian military might\", \"Praise of Russian President Vladimir Putin\", \"Russia is a guarantor of peace and prosperity\", \"Russia has international support from a number of countries and people\", \"Russian invasion has strong national support\"],\n",
        "\"Overpraising the West\": [\"NATO will destroy Russia\", \"The West belongs in the right side of history\", \"The West has the strongest international support\"],\n",
        "\"Speculating war outcomes\": [\"Russian army is collapsing\", \"Russian army will lose all the occupied territories\", \"Ukrainian army is collapsing\"],\n",
        "\"Discrediting the West, Diplomacy\": [\"The EU is divided\", \"The West is weak\", \"The West is overreacting\", \"The West does not care about Ukraine, only about its interests\", \"Diplomacy does/will not work\", \"West is tired of Ukraine\"],\n",
        "\"Negative Consequences for the West\": [\"Sanctions imposed by Western countries will backfire\", \"The conflict will increase the Ukrainian refugee flows to Europe\"],\n",
        "\"Distrust towards Media\": [\"Western media is an instrument of propaganda\", \"Ukrainian media cannot be trusted\"],\n",
        "\"Amplifying war-related fears\": [\"By continuing the war we risk WWIII\", \"Russia will also attack other countries\", \"There is a real possibility that nuclear weapons will be employed\", \"NATO should/will directly intervene\"],\n",
        "\"Hidden plots by secret schemes of powerful groups\": []}"
      ]
    },
    {
      "cell_type": "code",
      "execution_count": 7,
      "metadata": {
        "id": "I2jNnyScrCqD"
      },
      "outputs": [],
      "source": [
        "cc_rec = {\n",
        "\"Criticism of climate policies\" : [\"Climate policies are ineffective\", \"Climate policies have negative impact on the economy\", \"Climate policies are only for profit\"],\n",
        "\"Criticism of institutions and authorities\": [\"Criticism of the EU\", \"Criticism of international entities\", \"Criticism of national governments\", \"Criticism of political organizations and figures\"],\n",
        "\"Climate change is beneficial\": [\"CO2 is beneficial\", \"Temperature increase is beneficial\"],\n",
        "\"Downplaying climate change\": [\"Climate cycles are natural\", \"Weather suggests the trend is global cooling\", \"Temperature increase does not have significant impact\", \"CO2 concentrations are too small to have an impact\", \"Human activities do not impact climate change\", \"Ice is not melting\", \"Sea levels are not rising\", \"Humans and nature will adapt to the changes\"],\n",
        "\"Questioning the measurements and science\": [\"Methodologies/metrics used are unreliable/faulty\", \"Data shows no temperature increase\", \"Greenhouse effect/carbon dioxide do not drive climate change\", \"Scientific community is unreliable\"],\n",
        "\"Criticism of climate movement\": [\"Climate movement is alarmist\", \"Climate movement is corrupt\", \"Ad hominem attacks on key activists\"],\n",
        "\"Controversy about green technologies\": [\"Renewable energy is dangerous\", \"Renewable energy is unreliable\", \"Renewable energy is costly\", \"Nuclear energy is not climate friendly\"],\n",
        "\"Hidden plots by secret schemes of powerful groups\": [\"Blaming global elites\", \"Climate agenda has hidden motives\"],\n",
        "\"Amplifying Climate Fears\": [\"Earth will be uninhabitable soon\", \"Amplifying existing fears of global warming\", \"Doomsday scenarios for humans\", \"Whatever we do it is already too late\"],\n",
        "\"Green policies are geopolitical instruments\": [\"Climate-related international relations are abusive/exploitative\", \"Green activities are a form of neo-colonialism\"]}"
      ]
    },
    {
      "cell_type": "code",
      "execution_count": 8,
      "metadata": {
        "id": "DuuMo2uwrEDI"
      },
      "outputs": [],
      "source": [
        "from collections import defaultdict\n",
        "\n",
        "label2Id = {}\n",
        "Id2Label = {}\n",
        "count = 0\n",
        "\n",
        "dominantLabel2Id = {}\n",
        "dominantId2Label = {}\n",
        "dominantCount = 0\n",
        "\n",
        "for k in urw_rec.keys():\n",
        "\n",
        "  dominantLabel2Id[\"URW: \"+ k] = dominantCount\n",
        "  dominantId2Label[dominantCount] = \"URW: \"+ k\n",
        "  dominantCount += 1\n",
        "\n",
        "  urw_rec[k].append(\"Other\")\n",
        "  for i in urw_rec[k]:\n",
        "    label = \"URW: \" + k + \": \" + i\n",
        "    label2Id[label] = count\n",
        "    Id2Label[count] = label\n",
        "    count += 1\n",
        "\n",
        "for k in cc_rec.keys():\n",
        "\n",
        "  dominantLabel2Id[\"CC: \"+ k] = dominantCount\n",
        "  dominantId2Label[dominantCount] = \"CC: \"+ k\n",
        "  dominantCount += 1\n",
        "\n",
        "  cc_rec[k].append(\"Other\")\n",
        "  for i in cc_rec[k]:\n",
        "    label = \"CC: \" + k + \": \" + i\n",
        "    label2Id[label] = count\n",
        "    Id2Label[count] = label\n",
        "    count += 1\n",
        "\n",
        "label2Id[\"Other\"] = count\n",
        "Id2Label[count] = \"Other\"\n",
        "\n",
        "dominantLabel2Id[\"Other\"] = dominantCount\n",
        "dominantId2Label[dominantCount] = \"Other\""
      ]
    },
    {
      "cell_type": "code",
      "execution_count": null,
      "metadata": {
        "colab": {
          "base_uri": "https://localhost:8080/"
        },
        "id": "6Yz1S3EiBQNx",
        "outputId": "a35c1f37-0645-4cce-ae27-435c8769837a"
      },
      "outputs": [
        {
          "data": {
            "text/plain": [
              "22"
            ]
          },
          "execution_count": 9,
          "metadata": {},
          "output_type": "execute_result"
        }
      ],
      "source": [
        "len(dominantLabel2Id.keys())"
      ]
    },
    {
      "cell_type": "code",
      "execution_count": 9,
      "metadata": {
        "id": "PoM92IjErFmq"
      },
      "outputs": [],
      "source": [
        "enRawFiles = \"drive/MyDrive/SemEvalTaskData/target_4_December_release/EN/raw-documents/\"\n",
        "enSubTask2File = \"drive/MyDrive/SemEvalTaskData/target_4_December_release/EN/subtask-2-annotations.txt\"\n",
        "\n",
        "hiRawFiles = \"drive/MyDrive/SemEvalTaskData/target_4_December_release/HI/raw-documents/\"\n",
        "hiSubTask2File = \"drive/MyDrive/SemEvalTaskData/target_4_December_release/HI/subtask-2-annotations.txt\"\n",
        "\n",
        "bgRawFiles = \"drive/MyDrive/SemEvalTaskData/target_4_December_release/BG/raw-documents/\"\n",
        "bgSubTask2File = \"drive/MyDrive/SemEvalTaskData/target_4_December_release/BG/subtask-2-annotations.txt\"\n",
        "\n",
        "ptRawFiles = \"drive/MyDrive/SemEvalTaskData/target_4_December_release/PT/raw-documents/\"\n",
        "ptSubTask2File = \"drive/MyDrive/SemEvalTaskData/target_4_December_release/PT/subtask-2-annotations.txt\"\n",
        "\n",
        "ruRawFiles = \"drive/MyDrive/SemEvalTaskData/target_4_December_release/RU/raw-documents/\"\n",
        "ruSubTask2File = \"drive/MyDrive/SemEvalTaskData/target_4_December_release/RU/subtask-2-annotations.txt\"\n",
        "\n",
        "files_of_interest = \"drive/MyDrive/SemEvalTaskData/target_4_December_release/files_of_interest.txt\""
      ]
    },
    {
      "cell_type": "code",
      "execution_count": 10,
      "metadata": {
        "id": "_HGDM0649aF1"
      },
      "outputs": [],
      "source": [
        "files = open(files_of_interest, \"r\").read().split(\"\\n\")"
      ]
    },
    {
      "cell_type": "code",
      "execution_count": 11,
      "metadata": {
        "colab": {
          "base_uri": "https://localhost:8080/",
          "height": 35
        },
        "id": "KHUYp9U8DxEi",
        "outputId": "8ad47736-1cda-4209-bb91-cae01e8ddbaa"
      },
      "outputs": [
        {
          "output_type": "execute_result",
          "data": {
            "text/plain": [
              "''"
            ],
            "application/vnd.google.colaboratory.intrinsic+json": {
              "type": "string"
            }
          },
          "metadata": {},
          "execution_count": 11
        }
      ],
      "source": [
        "files.pop()"
      ]
    },
    {
      "cell_type": "code",
      "execution_count": null,
      "metadata": {
        "colab": {
          "base_uri": "https://localhost:8080/"
        },
        "id": "tnXI_-R39s46",
        "outputId": "febd30f4-53e4-49d7-e1c7-1d96f649218e"
      },
      "outputs": [
        {
          "data": {
            "text/plain": [
              "1200"
            ]
          },
          "execution_count": 12,
          "metadata": {},
          "output_type": "execute_result"
        }
      ],
      "source": [
        "len(files)"
      ]
    },
    {
      "cell_type": "code",
      "execution_count": 12,
      "metadata": {
        "id": "i8YlXs0d8YzT"
      },
      "outputs": [],
      "source": [
        "from sklearn.metrics import f1_score\n",
        "\n",
        "def evaluate(model, dataset, label):\n",
        "  model.eval()\n",
        "\n",
        "  predicitons = []\n",
        "  actual_np = []\n",
        "\n",
        "  with torch.no_grad():\n",
        "    for i in range(len(dataset)):\n",
        "      prediction = model(dataset[i]['input_ids'].squeeze(1).to(device), dataset[i]['attention_mask'].squeeze(1).to(device))\n",
        "      predicitons.append(prediction)\n",
        "      actual_np.append(dataset[i][label].numpy())\n",
        "\n",
        "    predcition_tensor = torch.sigmoid(torch.stack(predicitons).squeeze(1))\n",
        "    predicted_labels_np = torch.where(predcition_tensor > 0.5, 1, 0).cpu().numpy()\n",
        "    actual_np = np.array(actual_np)\n",
        "\n",
        "    print(\"prediction\", predicted_labels_np.shape, \"actual\", actual_np.shape)\n",
        "\n",
        "    f1_avg_score_micro = f1_score(actual_np, predicted_labels_np, average='micro')\n",
        "    f1_avg_score_macro = f1_score(actual_np, predicted_labels_np, average='macro')\n",
        "    f1_score_weighted = f1_score(actual_np, predicted_labels_np, average='weighted')\n",
        "    f1_avg_score_samples = f1_score(actual_np, predicted_labels_np, average='samples')\n",
        "\n",
        "    return f1_avg_score_micro, f1_avg_score_macro, f1_score_weighted, f1_avg_score_samples\n"
      ]
    },
    {
      "cell_type": "code",
      "execution_count": 13,
      "metadata": {
        "id": "NchY3-iJiUb7"
      },
      "outputs": [],
      "source": [
        "def evaluateF1Samples(model, dataset, label):\n",
        "  model.eval()\n",
        "\n",
        "  predicitons = []\n",
        "  actual_np = []\n",
        "\n",
        "  with torch.no_grad():\n",
        "    for i in range(len(dataset)):\n",
        "      prediction = model(dataset[i]['input_ids'].squeeze(1).to(device), dataset[i]['attention_mask'].squeeze(1).to(device))\n",
        "      predicitons.append(prediction)\n",
        "      actual_np.append(dataset[i][label].numpy())\n",
        "\n",
        "    predcition_tensor = torch.sigmoid(torch.stack(predicitons).squeeze(1))\n",
        "    predicted_labels_np = torch.where(predcition_tensor > 0.5, 1, 0).cpu().numpy()\n",
        "    actual_np = np.array(actual_np)\n",
        "\n",
        "    print(\"prediction\", predicted_labels_np.shape, \"actual\", actual_np.shape)\n",
        "\n",
        "    f1_avg_score_samples = f1_score(actual_np, predicted_labels_np, average='samples')\n",
        "\n",
        "    return f1_avg_score_samples"
      ]
    },
    {
      "cell_type": "code",
      "execution_count": 14,
      "metadata": {
        "id": "htcpw0LN58cO"
      },
      "outputs": [],
      "source": [
        "class NewsDatasetMultilingual(Dataset):\n",
        "  def __init__(self):\n",
        "    self.files = files\n",
        "    # self.annotation_file = annotations_file\n",
        "    self.enSubTask2File = enSubTask2File\n",
        "    self.hiSubTask2File = hiSubTask2File\n",
        "    self.bgSubTask2File = bgSubTask2File\n",
        "    self.ptSubTask2File = ptSubTask2File\n",
        "    self.ruSubTask2File = ruSubTask2File\n",
        "    self.tokenizer = BertTokenizer.from_pretrained('bert-base-multilingual-uncased')\n",
        "\n",
        "  def __len__(self):\n",
        "    return len(self.files)\n",
        "\n",
        "  def __getitem__(self, index: int):\n",
        "    file_name  = self.files[index]\n",
        "    text = open(file_name, \"r\", encoding='utf-8').read()\n",
        "    text_labels = []\n",
        "    narr_text_labels = []\n",
        "    total_labels = [0 for i in range(96)]\n",
        "    narr_labels = [0 for i in range(22)]\n",
        "\n",
        "    sub_narrative_df = {}\n",
        "    narrative_df = {}\n",
        "\n",
        "    for k in label2Id.keys():\n",
        "      sub_narrative_df[k] = 0\n",
        "\n",
        "    for k in dominantLabel2Id.keys():\n",
        "      narrative_df[k] = 0\n",
        "\n",
        "    encoded_input = self.tokenizer(text, max_length=512, padding='max_length', truncation=True, return_tensors='pt')\n",
        "\n",
        "    if \"EN\" in file_name:\n",
        "      annotation_file = self.enSubTask2File\n",
        "    elif \"HI\" in file_name:\n",
        "      annotation_file = self.hiSubTask2File\n",
        "    elif \"BG\" in file_name:\n",
        "      annotation_file = self.bgSubTask2File\n",
        "    elif \"PT\" in file_name:\n",
        "      annotation_file = self.ptSubTask2File\n",
        "    elif \"RU\" in file_name:\n",
        "      annotation_file = self.ruSubTask2File\n",
        "\n",
        "    with open(annotation_file, encoding='utf-8') as annotations:\n",
        "      for line in annotations:\n",
        "        splits = line.split(\"\\t\")\n",
        "\n",
        "        if file_name.split(\"/\")[-1] == splits[0]:\n",
        "          sub_narrative_df['fileName'] = splits[0]\n",
        "          narrative_df['fileName'] = splits[0]\n",
        "          text_labels = splits[2].replace(\"\\n\", \"\").split(';')\n",
        "          narr_text_labels = splits[1].split(';')\n",
        "          break\n",
        "\n",
        "    for l in text_labels:\n",
        "      total_labels[label2Id[l]] = 1\n",
        "      sub_narrative_df[l] = 1\n",
        "\n",
        "    for l in narr_text_labels:\n",
        "      narr_labels[dominantLabel2Id[l]] = 1\n",
        "      narrative_df[l] = 1\n",
        "\n",
        "\n",
        "    rec = {}\n",
        "\n",
        "    rec = {\n",
        "        **encoded_input,\n",
        "        \"narr_labels\": torch.FloatTensor(narr_labels),\n",
        "        \"sub_narr_labels\": torch.FloatTensor(total_labels),\n",
        "        \"narr_dic\": narrative_df,\n",
        "        \"sub_narr_dic\": sub_narrative_df,\n",
        "        \"fileName\": file_name.split(\"/\")[-1]\n",
        "    }\n",
        "\n",
        "    return rec"
      ]
    },
    {
      "cell_type": "code",
      "execution_count": 15,
      "metadata": {
        "colab": {
          "base_uri": "https://localhost:8080/",
          "height": 272,
          "referenced_widgets": [
            "e10414181a004736b4c2b7cded7b38dd",
            "d77f883c5ebc444681f8c4d89202696c",
            "a2ad6759686e4fd59f1008af69316881",
            "3b5239e0bb704c74ac03c233d003444b",
            "fd01d5cd52d7472590a76e91651743ff",
            "ec42d831a18144e880614b1f8d1bc358",
            "8900a86581e047c2a03093a319ab7f2c",
            "ad3322f02b8549c4bcac5f82546703eb",
            "a89f14d839aa447f8962d21a2e1f2190",
            "45c09548743e46d3908decc8699b6fa3",
            "49ebf12950ad480e9b71f838c0be4458",
            "6598d6c6fa3d4b65a2ce7e3678ef1d17",
            "97081e5ae56f48d8a7748b6bcf60c5eb",
            "be444b4dbffc4cbd9b3f9053d1a6eaf3",
            "597c4b7e146a494c8fb651d18d57c972",
            "984e8bd4ddd54abd8ab9442a42aa8e80",
            "fe3bf3e723324cdea514a7496a3b07b9",
            "db8e3a09e4184d5e97084a38419cc366",
            "579423dc742a488abcf57dca9b1d474d",
            "3f9aa9bd7da94b4a82bcd1b63a76019d",
            "68215807e6db4b0296d3c29439569101",
            "8dc06aec85f041c38176689d3b5c72c8",
            "5ed5107aab664b47b761c9601d46510b",
            "a1be6366573c419fb0c43cb3498b2629",
            "79a48d8dcd054fc486f20c512821351b",
            "e4d5344df26e43be8602382a0e6bd9d4",
            "b7d2309213b04dd68ce16bfeb9474d65",
            "b0637ed08704450686427b05bb0cadd2",
            "113a696ad0af4bef97d07207208d9b00",
            "935a9007a7ed4fa79d27d24b148ac1c6",
            "e7d5ba4b0c2c457687ed7f6cc3744f69",
            "ac5fb82f23fd4eaf99fe817d54ad2529",
            "4e8f38b9a89d451bb185c33438fed283",
            "9e94f050ff70458089e8db6947a06ffc",
            "11cfebf0b49d4d38b2c9a236cbb7634c",
            "37e82d36304f476381ec0082ddaf3c0a",
            "ea02631a5d4c4bb0b6a130073e8992f8",
            "124c16bb95634e539c725d65f60bf2a9",
            "9981a690508b49d2a155483c2a434e3a",
            "eafa1cd6bf67448f806d25ee646bc03e",
            "167b5de7366d4f43ae137abd0fa08c44",
            "e549c97d50724851a894b5136a10ca8c",
            "87d40c67414649f3a500fe4fc6f932a4",
            "425b5ce6939a4a95b25c73226bba8580"
          ]
        },
        "id": "2P4Ci3vO985d",
        "outputId": "1d715a2f-685d-4df8-999a-b4d873549fec"
      },
      "outputs": [
        {
          "output_type": "stream",
          "name": "stderr",
          "text": [
            "/usr/local/lib/python3.10/dist-packages/huggingface_hub/utils/_auth.py:94: UserWarning: \n",
            "The secret `HF_TOKEN` does not exist in your Colab secrets.\n",
            "To authenticate with the Hugging Face Hub, create a token in your settings tab (https://huggingface.co/settings/tokens), set it as secret in your Google Colab and restart your session.\n",
            "You will be able to reuse this secret in all of your notebooks.\n",
            "Please note that authentication is recommended but still optional to access public models or datasets.\n",
            "  warnings.warn(\n"
          ]
        },
        {
          "output_type": "display_data",
          "data": {
            "text/plain": [
              "tokenizer_config.json:   0%|          | 0.00/48.0 [00:00<?, ?B/s]"
            ],
            "application/vnd.jupyter.widget-view+json": {
              "version_major": 2,
              "version_minor": 0,
              "model_id": "e10414181a004736b4c2b7cded7b38dd"
            }
          },
          "metadata": {}
        },
        {
          "output_type": "display_data",
          "data": {
            "text/plain": [
              "vocab.txt:   0%|          | 0.00/872k [00:00<?, ?B/s]"
            ],
            "application/vnd.jupyter.widget-view+json": {
              "version_major": 2,
              "version_minor": 0,
              "model_id": "6598d6c6fa3d4b65a2ce7e3678ef1d17"
            }
          },
          "metadata": {}
        },
        {
          "output_type": "display_data",
          "data": {
            "text/plain": [
              "tokenizer.json:   0%|          | 0.00/1.72M [00:00<?, ?B/s]"
            ],
            "application/vnd.jupyter.widget-view+json": {
              "version_major": 2,
              "version_minor": 0,
              "model_id": "5ed5107aab664b47b761c9601d46510b"
            }
          },
          "metadata": {}
        },
        {
          "output_type": "display_data",
          "data": {
            "text/plain": [
              "config.json:   0%|          | 0.00/625 [00:00<?, ?B/s]"
            ],
            "application/vnd.jupyter.widget-view+json": {
              "version_major": 2,
              "version_minor": 0,
              "model_id": "9e94f050ff70458089e8db6947a06ffc"
            }
          },
          "metadata": {}
        }
      ],
      "source": [
        "total_dataset = NewsDatasetMultilingual()"
      ]
    },
    {
      "cell_type": "code",
      "execution_count": null,
      "metadata": {
        "colab": {
          "base_uri": "https://localhost:8080/"
        },
        "id": "C4aTeGGcQk5L",
        "outputId": "b927334b-8f40-4274-fc63-e0b64a33a86d"
      },
      "outputs": [
        {
          "name": "stderr",
          "output_type": "stream",
          "text": [
            "<ipython-input-26-efb1375d8569>:1: FutureWarning: You are using `torch.load` with `weights_only=False` (the current default value), which uses the default pickle module implicitly. It is possible to construct malicious pickle data which will execute arbitrary code during unpickling (See https://github.com/pytorch/pytorch/blob/main/SECURITY.md#untrusted-models for more details). In a future release, the default value for `weights_only` will be flipped to `True`. This limits the functions that could be executed during unpickling. Arbitrary objects will no longer be allowed to be loaded via this mode unless they are explicitly allowlisted by the user via `torch.serialization.add_safe_globals`. We recommend you start setting `weights_only=True` for any use case where you don't have full control of the loaded file. Please open an issue on GitHub for any issues related to this experimental feature.\n",
            "  model.load_state_dict(torch.load('drive/MyDrive/SemEvalTaskData/model/baselineNarrativeClassifier5Epoch.pth'))\n"
          ]
        },
        {
          "data": {
            "text/plain": [
              "BERTClassifier(\n",
              "  (bert): BertModel(\n",
              "    (embeddings): BertEmbeddings(\n",
              "      (word_embeddings): Embedding(105879, 768, padding_idx=0)\n",
              "      (position_embeddings): Embedding(512, 768)\n",
              "      (token_type_embeddings): Embedding(2, 768)\n",
              "      (LayerNorm): LayerNorm((768,), eps=1e-12, elementwise_affine=True)\n",
              "      (dropout): Dropout(p=0.1, inplace=False)\n",
              "    )\n",
              "    (encoder): BertEncoder(\n",
              "      (layer): ModuleList(\n",
              "        (0-11): 12 x BertLayer(\n",
              "          (attention): BertAttention(\n",
              "            (self): BertSdpaSelfAttention(\n",
              "              (query): Linear(in_features=768, out_features=768, bias=True)\n",
              "              (key): Linear(in_features=768, out_features=768, bias=True)\n",
              "              (value): Linear(in_features=768, out_features=768, bias=True)\n",
              "              (dropout): Dropout(p=0.1, inplace=False)\n",
              "            )\n",
              "            (output): BertSelfOutput(\n",
              "              (dense): Linear(in_features=768, out_features=768, bias=True)\n",
              "              (LayerNorm): LayerNorm((768,), eps=1e-12, elementwise_affine=True)\n",
              "              (dropout): Dropout(p=0.1, inplace=False)\n",
              "            )\n",
              "          )\n",
              "          (intermediate): BertIntermediate(\n",
              "            (dense): Linear(in_features=768, out_features=3072, bias=True)\n",
              "            (intermediate_act_fn): GELUActivation()\n",
              "          )\n",
              "          (output): BertOutput(\n",
              "            (dense): Linear(in_features=3072, out_features=768, bias=True)\n",
              "            (LayerNorm): LayerNorm((768,), eps=1e-12, elementwise_affine=True)\n",
              "            (dropout): Dropout(p=0.1, inplace=False)\n",
              "          )\n",
              "        )\n",
              "      )\n",
              "    )\n",
              "    (pooler): BertPooler(\n",
              "      (dense): Linear(in_features=768, out_features=768, bias=True)\n",
              "      (activation): Tanh()\n",
              "    )\n",
              "  )\n",
              "  (dropout): Dropout(p=0.1, inplace=False)\n",
              "  (classifier): Linear(in_features=768, out_features=22, bias=True)\n",
              ")"
            ]
          },
          "execution_count": 26,
          "metadata": {},
          "output_type": "execute_result"
        }
      ],
      "source": [
        "model.load_state_dict(torch.load('drive/MyDrive/SemEvalTaskData/model/baselineNarrativeClassifier5Epoch.pth'))\n",
        "model.eval()"
      ]
    },
    {
      "cell_type": "code",
      "execution_count": null,
      "metadata": {
        "colab": {
          "base_uri": "https://localhost:8080/"
        },
        "id": "kyiw8cD5RTXl",
        "outputId": "18199829-648f-496d-b4f8-b4ceb31b5778"
      },
      "outputs": [
        {
          "name": "stdout",
          "output_type": "stream",
          "text": [
            "prediction (1200, 22) actual (1200, 22)\n"
          ]
        },
        {
          "data": {
            "text/plain": [
              "(0.7827705397500665, 0.5022660896294767, 0.7367269497059412)"
            ]
          },
          "execution_count": 27,
          "metadata": {},
          "output_type": "execute_result"
        }
      ],
      "source": [
        "evaluate(model, total_dataset, 'narr_labels')"
      ]
    },
    {
      "cell_type": "code",
      "execution_count": null,
      "metadata": {
        "id": "r9mNj0ViVlpL"
      },
      "outputs": [],
      "source": [
        "evaluateF1Samples(model, total_dataset, 'narr_labels')"
      ]
    },
    {
      "cell_type": "code",
      "execution_count": null,
      "metadata": {
        "id": "JBcJC-S9RCG-"
      },
      "outputs": [],
      "source": []
    },
    {
      "cell_type": "code",
      "execution_count": null,
      "metadata": {
        "colab": {
          "base_uri": "https://localhost:8080/"
        },
        "id": "p5CeuWkb_MZI",
        "outputId": "e890715c-7ec3-49a4-ace9-9e83c4db8a09"
      },
      "outputs": [
        {
          "data": {
            "text/plain": [
              "torch.Size([512])"
            ]
          },
          "execution_count": 15,
          "metadata": {},
          "output_type": "execute_result"
        }
      ],
      "source": [
        "total_dataset[0]['input_ids'].squeeze(0).shape"
      ]
    },
    {
      "cell_type": "code",
      "execution_count": null,
      "metadata": {
        "colab": {
          "base_uri": "https://localhost:8080/"
        },
        "id": "rKbHsjnG_NRl",
        "outputId": "022cdcd1-c795-4ac2-fcfa-70554bdd1f05"
      },
      "outputs": [
        {
          "data": {
            "text/plain": [
              "1200"
            ]
          },
          "execution_count": 16,
          "metadata": {},
          "output_type": "execute_result"
        }
      ],
      "source": [
        "len(total_dataset)"
      ]
    },
    {
      "cell_type": "code",
      "execution_count": 16,
      "metadata": {
        "id": "oa_YmnVM_v1_"
      },
      "outputs": [],
      "source": [
        "class BERTClassifier(nn.Module):\n",
        "    def __init__(self, num_labels):\n",
        "        super(BERTClassifier, self).__init__()\n",
        "        self.bert = BertModel.from_pretrained('bert-base-multilingual-uncased', return_dict=True)\n",
        "        self.dropout = nn.Dropout(0.1)\n",
        "        self.classifier = nn.Linear(self.bert.config.hidden_size, num_labels)\n",
        "\n",
        "\n",
        "    def forward(self, input_ids, attention_mask, labels=None):\n",
        "        outputs = self.bert(input_ids=input_ids, attention_mask=attention_mask)\n",
        "        # sequence_output = outputs.pooler_output\n",
        "        # sequence_output = self.dropout(sequence_output)\n",
        "        # logits = self.classifier(sequence_output)\n",
        "        cls_output = outputs.last_hidden_state[:, 0, :]\n",
        "        cls_output = self.dropout(cls_output)\n",
        "        logits = self.classifier(cls_output)\n",
        "\n",
        "        return logits"
      ]
    },
    {
      "cell_type": "code",
      "execution_count": 17,
      "metadata": {
        "id": "5tWpss0kBA9-"
      },
      "outputs": [],
      "source": [
        "train_dataset, eval_dataset = random_split(total_dataset, [int(0.9 * len(total_dataset)), len(total_dataset) - int(0.9 * len(total_dataset))])\n",
        "train_data_loader = DataLoader(train_dataset, shuffle=True, batch_size=5)"
      ]
    },
    {
      "cell_type": "code",
      "execution_count": 18,
      "metadata": {
        "colab": {
          "base_uri": "https://localhost:8080/"
        },
        "id": "xVj0mmX5VR3J",
        "outputId": "a8662eb3-037d-400d-e705-caed3f815d02"
      },
      "outputs": [
        {
          "output_type": "execute_result",
          "data": {
            "text/plain": [
              "(1080, 120)"
            ]
          },
          "metadata": {},
          "execution_count": 18
        }
      ],
      "source": [
        "len(train_dataset), len(eval_dataset)"
      ]
    },
    {
      "cell_type": "code",
      "execution_count": 19,
      "metadata": {
        "colab": {
          "base_uri": "https://localhost:8080/",
          "height": 49,
          "referenced_widgets": [
            "f4b772b020484a318e78be009221c695",
            "6e0b446f9c9046d6b6fafd3a77af14f4",
            "d42a8c11f6c94eb4b47ef20963102ace",
            "7bf1bafe36374f89aa43e5536fe5f226",
            "209deb889de44ee2af35ea57a9bd58b0",
            "e604d117d98a41ef9f0cc9f8a7ee11bf",
            "7667e862edb340ffb73ab1ec6379473d",
            "68422ff1538248ad87ab6170612f5a99",
            "374f3e733e904058b8081a3acb9aaa0c",
            "cbf4eaec04d2406d944c56900be9dab8",
            "b108cb970ea441ea882be32ac0a026d4"
          ]
        },
        "id": "4u7IPyUABIo2",
        "outputId": "3cd1feed-0d85-4b24-ed52-02e931fba8f9"
      },
      "outputs": [
        {
          "output_type": "display_data",
          "data": {
            "text/plain": [
              "model.safetensors:   0%|          | 0.00/672M [00:00<?, ?B/s]"
            ],
            "application/vnd.jupyter.widget-view+json": {
              "version_major": 2,
              "version_minor": 0,
              "model_id": "f4b772b020484a318e78be009221c695"
            }
          },
          "metadata": {}
        }
      ],
      "source": [
        "model = BERTClassifier(22).to(device)"
      ]
    },
    {
      "cell_type": "code",
      "execution_count": null,
      "metadata": {
        "colab": {
          "base_uri": "https://localhost:8080/"
        },
        "id": "kALKcdCuBNnn",
        "outputId": "5c94ed6a-808b-4e0b-827e-bd0aa90f2def"
      },
      "outputs": [
        {
          "name": "stdout",
          "output_type": "stream",
          "text": [
            "epoch 0\n",
            "epoch 0 step 0 total loss 0.7043805718421936\n",
            "epoch 0 step 100 total loss 0.22069427371025085\n",
            "epoch 0 step 200 total loss 0.17955338954925537\n",
            "prediction (120, 22) actual (120, 22)\n",
            "epoch 0 eval f1 micro 0.2857142857142857 eval f1 macro 0.11134084062313727 eval f1 weighted 0.23143965066772082 eval f1 samples 0.1640674603174603\n",
            "epoch 1\n"
          ]
        },
        {
          "name": "stderr",
          "output_type": "stream",
          "text": [
            "/usr/local/lib/python3.10/dist-packages/sklearn/metrics/_classification.py:1531: UndefinedMetricWarning: F-score is ill-defined and being set to 0.0 in labels with no true nor predicted samples. Use `zero_division` parameter to control this behavior.\n",
            "  _warn_prf(average, modifier, f\"{metric.capitalize()} is\", len(result))\n",
            "/usr/local/lib/python3.10/dist-packages/sklearn/metrics/_classification.py:1531: UndefinedMetricWarning: F-score is ill-defined and being set to 0.0 in labels with no true nor predicted samples. Use `zero_division` parameter to control this behavior.\n",
            "  _warn_prf(average, modifier, f\"{metric.capitalize()} is\", len(result))\n"
          ]
        },
        {
          "name": "stdout",
          "output_type": "stream",
          "text": [
            "epoch 1 step 0 total loss 0.1670101433992386\n",
            "epoch 1 step 100 total loss 0.14668022096157074\n",
            "epoch 1 step 200 total loss 0.1341555416584015\n",
            "prediction (120, 22) actual (120, 22)\n",
            "epoch 1 eval f1 micro 0.1864406779661017 eval f1 macro 0.057475246578484594 eval f1 weighted 0.11345803411615017 eval f1 samples 0.1682142857142857\n",
            "epoch 2\n"
          ]
        },
        {
          "name": "stderr",
          "output_type": "stream",
          "text": [
            "/usr/local/lib/python3.10/dist-packages/sklearn/metrics/_classification.py:1531: UndefinedMetricWarning: F-score is ill-defined and being set to 0.0 in labels with no true nor predicted samples. Use `zero_division` parameter to control this behavior.\n",
            "  _warn_prf(average, modifier, f\"{metric.capitalize()} is\", len(result))\n",
            "/usr/local/lib/python3.10/dist-packages/sklearn/metrics/_classification.py:1531: UndefinedMetricWarning: F-score is ill-defined and being set to 0.0 in labels with no true nor predicted samples. Use `zero_division` parameter to control this behavior.\n",
            "  _warn_prf(average, modifier, f\"{metric.capitalize()} is\", len(result))\n"
          ]
        },
        {
          "name": "stdout",
          "output_type": "stream",
          "text": [
            "epoch 2 step 0 total loss 0.16954320669174194\n",
            "epoch 2 step 100 total loss 0.1722099483013153\n",
            "epoch 2 step 200 total loss 0.22791768610477448\n",
            "prediction (120, 22) actual (120, 22)\n",
            "epoch 2 eval f1 micro 0.49299719887955185 eval f1 macro 0.21275305424544166 eval f1 weighted 0.423625272097076 eval f1 samples 0.41408970658970656\n",
            "epoch 3\n"
          ]
        },
        {
          "name": "stderr",
          "output_type": "stream",
          "text": [
            "/usr/local/lib/python3.10/dist-packages/sklearn/metrics/_classification.py:1531: UndefinedMetricWarning: F-score is ill-defined and being set to 0.0 in labels with no true nor predicted samples. Use `zero_division` parameter to control this behavior.\n",
            "  _warn_prf(average, modifier, f\"{metric.capitalize()} is\", len(result))\n",
            "/usr/local/lib/python3.10/dist-packages/sklearn/metrics/_classification.py:1531: UndefinedMetricWarning: F-score is ill-defined and being set to 0.0 in labels with no true nor predicted samples. Use `zero_division` parameter to control this behavior.\n",
            "  _warn_prf(average, modifier, f\"{metric.capitalize()} is\", len(result))\n"
          ]
        },
        {
          "name": "stdout",
          "output_type": "stream",
          "text": [
            "epoch 3 step 0 total loss 0.16479523479938507\n",
            "epoch 3 step 100 total loss 0.17327578365802765\n",
            "epoch 3 step 200 total loss 0.16221070289611816\n",
            "prediction (120, 22) actual (120, 22)\n",
            "epoch 3 eval f1 micro 0.4953560371517028 eval f1 macro 0.22059460661630165 eval f1 weighted 0.449459621042246 eval f1 samples 0.4061177248677249\n",
            "epoch 4\n"
          ]
        },
        {
          "name": "stderr",
          "output_type": "stream",
          "text": [
            "/usr/local/lib/python3.10/dist-packages/sklearn/metrics/_classification.py:1531: UndefinedMetricWarning: F-score is ill-defined and being set to 0.0 in labels with no true nor predicted samples. Use `zero_division` parameter to control this behavior.\n",
            "  _warn_prf(average, modifier, f\"{metric.capitalize()} is\", len(result))\n",
            "/usr/local/lib/python3.10/dist-packages/sklearn/metrics/_classification.py:1531: UndefinedMetricWarning: F-score is ill-defined and being set to 0.0 in labels with no true nor predicted samples. Use `zero_division` parameter to control this behavior.\n",
            "  _warn_prf(average, modifier, f\"{metric.capitalize()} is\", len(result))\n"
          ]
        },
        {
          "name": "stdout",
          "output_type": "stream",
          "text": [
            "epoch 4 step 0 total loss 0.15725693106651306\n",
            "epoch 4 step 100 total loss 0.1527320295572281\n",
            "epoch 4 step 200 total loss 0.15882724523544312\n",
            "prediction (120, 22) actual (120, 22)\n",
            "epoch 4 eval f1 micro 0.5454545454545454 eval f1 macro 0.26116463825002384 eval f1 weighted 0.4789461267227799 eval f1 samples 0.5097222222222223\n",
            "Finished Training\n"
          ]
        },
        {
          "name": "stderr",
          "output_type": "stream",
          "text": [
            "/usr/local/lib/python3.10/dist-packages/sklearn/metrics/_classification.py:1531: UndefinedMetricWarning: F-score is ill-defined and being set to 0.0 in labels with no true nor predicted samples. Use `zero_division` parameter to control this behavior.\n",
            "  _warn_prf(average, modifier, f\"{metric.capitalize()} is\", len(result))\n",
            "/usr/local/lib/python3.10/dist-packages/sklearn/metrics/_classification.py:1531: UndefinedMetricWarning: F-score is ill-defined and being set to 0.0 in labels with no true nor predicted samples. Use `zero_division` parameter to control this behavior.\n",
            "  _warn_prf(average, modifier, f\"{metric.capitalize()} is\", len(result))\n"
          ]
        }
      ],
      "source": [
        "train_loss_history = []\n",
        "eval_f1_history = []\n",
        "\n",
        "bceLoss = nn.BCEWithLogitsLoss().to(device)\n",
        "optimizer = torch.optim.AdamW(model.parameters(), lr=3e-5)\n",
        "\n",
        "for epoch in range(5):\n",
        "    model.train()\n",
        "    print(\"epoch\", epoch)\n",
        "    for i, data in enumerate(train_data_loader, 0):\n",
        "        # print(\"epoch\", epoch, \"step\", i)\n",
        "        inputs = data\n",
        "        input_ids = inputs['input_ids'].squeeze(1).to(device)\n",
        "        attention_mask = inputs['attention_mask'].squeeze(1).to(device)\n",
        "        dominantLabels = inputs['narr_labels'].to(device)\n",
        "        # zero the parameter gradients\n",
        "        optimizer.zero_grad()\n",
        "        # print(\"shape of input\", inputs['input_ids'].shape, \"max\", torch.max(inputs['input_ids'], dim=0))\n",
        "        # forward + backward + optimize\n",
        "        # print(\"input_ids\", input_ids.shape, \"dominantLabels\", dominantLabels.shape)\n",
        "        outputs = model(input_ids, attention_mask).to(device)\n",
        "        # print(\"shape of output\", outputs.shape, \"labels\", labels.shape)\n",
        "        loss = bceLoss(outputs, dominantLabels)\n",
        "\n",
        "        train_loss_history.append(loss.item())\n",
        "        if i % 100 == 0:\n",
        "          print(\"epoch\", epoch, \"step\", i, \"total loss\", loss.item())\n",
        "\n",
        "        loss.backward()\n",
        "        optimizer.step()\n",
        "\n",
        "    eval_f1_micro, eval_f1_macro, eval_f1_weighted, eval_f1_samples = evaluate(model, eval_dataset, 'narr_labels')\n",
        "    eval_f1_history.append([eval_f1_micro, eval_f1_macro, eval_f1_weighted, eval_f1_samples])\n",
        "    print(\"epoch\", epoch, \"eval f1 micro\", eval_f1_micro, \"eval f1 macro\", eval_f1_macro, \"eval f1 weighted\", eval_f1_weighted, \"eval f1 samples\", eval_f1_samples)\n",
        "\n",
        "print('Finished Training')"
      ]
    },
    {
      "cell_type": "code",
      "execution_count": null,
      "metadata": {
        "colab": {
          "background_save": true,
          "base_uri": "https://localhost:8080/"
        },
        "id": "S1_qjf9Tf8sB",
        "outputId": "482b2ae3-3b33-4545-beee-b75001c33df2"
      },
      "outputs": [
        {
          "name": "stdout",
          "output_type": "stream",
          "text": [
            "epoch 5\n",
            "epoch 5 step 0 total loss 0.15371790528297424\n",
            "epoch 5 step 100 total loss 0.0644197165966034\n",
            "epoch 5 step 200 total loss 0.07369507104158401\n",
            "prediction (120, 22) actual (120, 22)\n",
            "epoch 5 eval f1 micro 0.5396825396825397 eval f1 macro 0.31395843577372295 eval f1 weighted 0.5213177998005188\n",
            "epoch 6\n"
          ]
        },
        {
          "name": "stderr",
          "output_type": "stream",
          "text": [
            "/usr/local/lib/python3.10/dist-packages/sklearn/metrics/_classification.py:1531: UndefinedMetricWarning: F-score is ill-defined and being set to 0.0 in labels with no true nor predicted samples. Use `zero_division` parameter to control this behavior.\n",
            "  _warn_prf(average, modifier, f\"{metric.capitalize()} is\", len(result))\n",
            "/usr/local/lib/python3.10/dist-packages/sklearn/metrics/_classification.py:1531: UndefinedMetricWarning: F-score is ill-defined and being set to 0.0 in labels with no true nor predicted samples. Use `zero_division` parameter to control this behavior.\n",
            "  _warn_prf(average, modifier, f\"{metric.capitalize()} is\", len(result))\n"
          ]
        },
        {
          "name": "stdout",
          "output_type": "stream",
          "text": [
            "epoch 6 step 0 total loss 0.06903579831123352\n",
            "epoch 6 step 100 total loss 0.07078175246715546\n",
            "epoch 6 step 200 total loss 0.04442048817873001\n",
            "prediction (120, 22) actual (120, 22)\n",
            "epoch 6 eval f1 micro 0.5584045584045584 eval f1 macro 0.2515044450562421 eval f1 weighted 0.5106577967043083\n",
            "epoch 7\n"
          ]
        },
        {
          "name": "stderr",
          "output_type": "stream",
          "text": [
            "/usr/local/lib/python3.10/dist-packages/sklearn/metrics/_classification.py:1531: UndefinedMetricWarning: F-score is ill-defined and being set to 0.0 in labels with no true nor predicted samples. Use `zero_division` parameter to control this behavior.\n",
            "  _warn_prf(average, modifier, f\"{metric.capitalize()} is\", len(result))\n",
            "/usr/local/lib/python3.10/dist-packages/sklearn/metrics/_classification.py:1531: UndefinedMetricWarning: F-score is ill-defined and being set to 0.0 in labels with no true nor predicted samples. Use `zero_division` parameter to control this behavior.\n",
            "  _warn_prf(average, modifier, f\"{metric.capitalize()} is\", len(result))\n"
          ]
        },
        {
          "name": "stdout",
          "output_type": "stream",
          "text": [
            "epoch 7 step 0 total loss 0.03472083434462547\n",
            "epoch 7 step 100 total loss 0.04284067824482918\n",
            "epoch 7 step 200 total loss 0.02809644490480423\n",
            "prediction (120, 22) actual (120, 22)\n",
            "epoch 7 eval f1 micro 0.5414364640883977 eval f1 macro 0.3065898141029177 eval f1 weighted 0.5070232359199611\n",
            "epoch 8\n"
          ]
        },
        {
          "name": "stderr",
          "output_type": "stream",
          "text": [
            "/usr/local/lib/python3.10/dist-packages/sklearn/metrics/_classification.py:1531: UndefinedMetricWarning: F-score is ill-defined and being set to 0.0 in labels with no true nor predicted samples. Use `zero_division` parameter to control this behavior.\n",
            "  _warn_prf(average, modifier, f\"{metric.capitalize()} is\", len(result))\n",
            "/usr/local/lib/python3.10/dist-packages/sklearn/metrics/_classification.py:1531: UndefinedMetricWarning: F-score is ill-defined and being set to 0.0 in labels with no true nor predicted samples. Use `zero_division` parameter to control this behavior.\n",
            "  _warn_prf(average, modifier, f\"{metric.capitalize()} is\", len(result))\n"
          ]
        },
        {
          "name": "stdout",
          "output_type": "stream",
          "text": [
            "epoch 8 step 0 total loss 0.06616881489753723\n",
            "epoch 8 step 100 total loss 0.040936179459095\n",
            "epoch 8 step 200 total loss 0.07190601527690887\n",
            "prediction (120, 22) actual (120, 22)\n",
            "epoch 8 eval f1 micro 0.5561497326203209 eval f1 macro 0.31766326240821413 eval f1 weighted 0.5281478669346644\n",
            "epoch 9\n"
          ]
        },
        {
          "name": "stderr",
          "output_type": "stream",
          "text": [
            "/usr/local/lib/python3.10/dist-packages/sklearn/metrics/_classification.py:1531: UndefinedMetricWarning: F-score is ill-defined and being set to 0.0 in labels with no true nor predicted samples. Use `zero_division` parameter to control this behavior.\n",
            "  _warn_prf(average, modifier, f\"{metric.capitalize()} is\", len(result))\n",
            "/usr/local/lib/python3.10/dist-packages/sklearn/metrics/_classification.py:1531: UndefinedMetricWarning: F-score is ill-defined and being set to 0.0 in labels with no true nor predicted samples. Use `zero_division` parameter to control this behavior.\n",
            "  _warn_prf(average, modifier, f\"{metric.capitalize()} is\", len(result))\n"
          ]
        },
        {
          "name": "stdout",
          "output_type": "stream",
          "text": [
            "epoch 9 step 0 total loss 0.02218206599354744\n",
            "epoch 9 step 100 total loss 0.025765877217054367\n",
            "epoch 9 step 200 total loss 0.049039326608181\n",
            "prediction (120, 22) actual (120, 22)\n",
            "epoch 9 eval f1 micro 0.5454545454545454 eval f1 macro 0.294938054204727 eval f1 weighted 0.5188724340038765\n",
            "Finished Training\n"
          ]
        },
        {
          "name": "stderr",
          "output_type": "stream",
          "text": [
            "/usr/local/lib/python3.10/dist-packages/sklearn/metrics/_classification.py:1531: UndefinedMetricWarning: F-score is ill-defined and being set to 0.0 in labels with no true nor predicted samples. Use `zero_division` parameter to control this behavior.\n",
            "  _warn_prf(average, modifier, f\"{metric.capitalize()} is\", len(result))\n",
            "/usr/local/lib/python3.10/dist-packages/sklearn/metrics/_classification.py:1531: UndefinedMetricWarning: F-score is ill-defined and being set to 0.0 in labels with no true nor predicted samples. Use `zero_division` parameter to control this behavior.\n",
            "  _warn_prf(average, modifier, f\"{metric.capitalize()} is\", len(result))\n"
          ]
        }
      ],
      "source": [
        "for epoch in range(5, 10):\n",
        "    model.train()\n",
        "    print(\"epoch\", epoch)\n",
        "    for i, data in enumerate(train_data_loader, 0):\n",
        "        # print(\"epoch\", epoch, \"step\", i)\n",
        "        inputs = data\n",
        "        input_ids = inputs['input_ids'].squeeze(1).to(device)\n",
        "        attention_mask = inputs['attention_mask'].squeeze(1).to(device)\n",
        "        dominantLabels = inputs['narr_labels'].to(device)\n",
        "        # zero the parameter gradients\n",
        "        optimizer.zero_grad()\n",
        "        # print(\"shape of input\", inputs['input_ids'].shape, \"max\", torch.max(inputs['input_ids'], dim=0))\n",
        "        # forward + backward + optimize\n",
        "        # print(\"input_ids\", input_ids.shape, \"dominantLabels\", dominantLabels.shape)\n",
        "        outputs = model(input_ids, attention_mask).to(device)\n",
        "        # print(\"shape of output\", outputs.shape, \"labels\", labels.shape)\n",
        "        loss = bceLoss(outputs, dominantLabels)\n",
        "\n",
        "        train_loss_history.append(loss.item())\n",
        "        if i % 100 == 0:\n",
        "          print(\"epoch\", epoch, \"step\", i, \"total loss\", loss.item())\n",
        "\n",
        "        loss.backward()\n",
        "        optimizer.step()\n",
        "\n",
        "    eval_f1_micro, eval_f1_macro, eval_f1_weighted, eval_f1_samples = evaluate(model, eval_dataset, 'narr_labels')\n",
        "    eval_f1_history.append([eval_f1_micro, eval_f1_macro, eval_f1_weighted])\n",
        "    print(\"epoch\", epoch, \"eval f1 micro\", eval_f1_micro, \"eval f1 macro\", eval_f1_macro, \"eval f1 weighted\", eval_f1_weighted)\n",
        "\n",
        "print('Finished Training')"
      ]
    },
    {
      "cell_type": "code",
      "execution_count": null,
      "metadata": {
        "colab": {
          "base_uri": "https://localhost:8080/"
        },
        "id": "9wYs23BTnRJq",
        "outputId": "583b65c3-6cef-420b-9dc4-67392d0f5e59"
      },
      "outputs": [
        {
          "name": "stdout",
          "output_type": "stream",
          "text": [
            "prediction (120, 22) actual (120, 22)\n"
          ]
        },
        {
          "name": "stderr",
          "output_type": "stream",
          "text": [
            "/usr/local/lib/python3.10/dist-packages/sklearn/metrics/_classification.py:1531: UndefinedMetricWarning: F-score is ill-defined and being set to 0.0 in labels with no true nor predicted samples. Use `zero_division` parameter to control this behavior.\n",
            "  _warn_prf(average, modifier, f\"{metric.capitalize()} is\", len(result))\n",
            "/usr/local/lib/python3.10/dist-packages/sklearn/metrics/_classification.py:1531: UndefinedMetricWarning: F-score is ill-defined and being set to 0.0 in labels with no true nor predicted samples. Use `zero_division` parameter to control this behavior.\n",
            "  _warn_prf(average, modifier, f\"{metric.capitalize()} is\", len(result))\n"
          ]
        },
        {
          "data": {
            "text/plain": [
              "(0.5388888888888889,\n",
              " 0.2921767068937878,\n",
              " 0.5120175380867729,\n",
              " 0.49480158730158735)"
            ]
          },
          "execution_count": 32,
          "metadata": {},
          "output_type": "execute_result"
        }
      ],
      "source": [
        "evaluate(model, total_dataset, 'narr_labels')"
      ]
    },
    {
      "cell_type": "code",
      "execution_count": null,
      "metadata": {
        "colab": {
          "background_save": true
        },
        "id": "jnxJn7rwnmDO",
        "outputId": "03f45374-5533-489e-a012-0f4a24d40584"
      },
      "outputs": [
        {
          "name": "stdout",
          "output_type": "stream",
          "text": [
            "prediction (1080, 22) actual (1080, 22)\n",
            "train f1 micro 0.9609480204686237 train f1 macro 0.8394315885149376 train f1 weighted 0.9575668711593488 train f1 samples 0.9629129718018606\n"
          ]
        }
      ],
      "source": [
        "train_f1_micro, train_f1_macro, train_f1_weighted, train_f1_samples = evaluate(model, train_dataset, 'narr_labels')\n",
        "print(\"train f1 micro\", train_f1_micro, \"train f1 macro\", train_f1_macro, \"train f1 weighted\", train_f1_weighted, \"train f1 samples\", train_f1_samples)"
      ]
    },
    {
      "cell_type": "code",
      "execution_count": null,
      "metadata": {
        "colab": {
          "base_uri": "https://localhost:8080/"
        },
        "id": "U-a2yl91iuxU",
        "outputId": "99e56a28-a214-458a-e61d-fcb183ad76a7"
      },
      "outputs": [
        {
          "name": "stdout",
          "output_type": "stream",
          "text": [
            "prediction (12, 22) actual (12, 22)\n"
          ]
        },
        {
          "data": {
            "text/plain": [
              "0.6472222222222223"
            ]
          },
          "execution_count": 32,
          "metadata": {},
          "output_type": "execute_result"
        }
      ],
      "source": [
        "evaluateF1Samples(model, eval_dataset, 'narr_labels')"
      ]
    },
    {
      "cell_type": "code",
      "execution_count": null,
      "metadata": {
        "id": "nBDbd85gIBpp"
      },
      "outputs": [],
      "source": [
        "torch.save(model.state_dict(), \"drive/MyDrive/SemEvalTaskData/model/baselineNarrativeClassifier5Epoch.pth\")"
      ]
    },
    {
      "cell_type": "code",
      "execution_count": 20,
      "metadata": {
        "id": "qLOjudDOWnKE"
      },
      "outputs": [],
      "source": [
        "class GlobalMaxPooling1D(nn.Module):\n",
        "\n",
        "  def __init__(self, data_format='channels_last'):\n",
        "      super(GlobalMaxPooling1D, self).__init__()\n",
        "      self.data_format = data_format\n",
        "      self.step_axis = 1 if self.data_format == 'channels_last' else 2\n",
        "\n",
        "  def forward(self, input):\n",
        "      return torch.max(input, axis=self.step_axis).values"
      ]
    },
    {
      "cell_type": "code",
      "execution_count": 21,
      "metadata": {
        "id": "YqSx3TdRIziF"
      },
      "outputs": [],
      "source": [
        "class BERTClassifierPooler(nn.Module):\n",
        "    def __init__(self, num_labels):\n",
        "        super(BERTClassifierPooler, self).__init__()\n",
        "        self.bert = BertModel.from_pretrained('bert-base-multilingual-uncased', return_dict=True)\n",
        "        self.dropout = nn.Dropout(0.1)\n",
        "        self.classifier = nn.Linear(self.bert.config.hidden_size, num_labels)\n",
        "        self.pooler = GlobalMaxPooling1D()\n",
        "\n",
        "\n",
        "    def forward(self, input_ids, attention_mask, labels=None):\n",
        "        outputs = self.bert(input_ids=input_ids, attention_mask=attention_mask)\n",
        "        sequence_output = self.pooler(outputs.last_hidden_state)\n",
        "        sequence_output = self.dropout(sequence_output)\n",
        "        logits = self.classifier(sequence_output)\n",
        "        # cls_output = outputs.last_hidden_state[:, 0, :]\n",
        "        # cls_output = self.dropout(cls_output)\n",
        "        # logits = self.classifier(cls_output)\n",
        "\n",
        "        return logits"
      ]
    },
    {
      "cell_type": "code",
      "execution_count": 22,
      "metadata": {
        "id": "8XP-PM5DJOaa"
      },
      "outputs": [],
      "source": [
        "train_data_loader = DataLoader(train_dataset, shuffle=True, batch_size=5)"
      ]
    },
    {
      "cell_type": "code",
      "execution_count": 25,
      "metadata": {
        "id": "9Fl47XZkJVBy"
      },
      "outputs": [],
      "source": [
        "subNarrativeClassifier = BERTClassifierPooler(96).to(device)"
      ]
    },
    {
      "cell_type": "code",
      "execution_count": 26,
      "metadata": {
        "colab": {
          "base_uri": "https://localhost:8080/"
        },
        "id": "9aWgjUhoJQ-5",
        "outputId": "00631c09-3dbe-4487-b5da-e501e37b2e55"
      },
      "outputs": [
        {
          "output_type": "stream",
          "name": "stdout",
          "text": [
            "epoch 0\n",
            "epoch 0 step 0 total loss 0.786078691482544\n",
            "epoch 0 step 100 total loss 0.22732052206993103\n",
            "epoch 0 step 200 total loss 0.10312919318675995\n",
            "prediction (120, 96) actual (120, 96)\n",
            "epoch 0 eval f1 micro 0.0 eval f1 macro 0.0 eval f1 weighted 0.0 eval f1 samples 0.0\n",
            "epoch 1\n"
          ]
        },
        {
          "output_type": "stream",
          "name": "stderr",
          "text": [
            "/usr/local/lib/python3.10/dist-packages/sklearn/metrics/_classification.py:1531: UndefinedMetricWarning: F-score is ill-defined and being set to 0.0 in labels with no true nor predicted samples. Use `zero_division` parameter to control this behavior.\n",
            "  _warn_prf(average, modifier, f\"{metric.capitalize()} is\", len(result))\n",
            "/usr/local/lib/python3.10/dist-packages/sklearn/metrics/_classification.py:1531: UndefinedMetricWarning: F-score is ill-defined and being set to 0.0 in labels with no true nor predicted samples. Use `zero_division` parameter to control this behavior.\n",
            "  _warn_prf(average, modifier, f\"{metric.capitalize()} is\", len(result))\n"
          ]
        },
        {
          "output_type": "stream",
          "name": "stdout",
          "text": [
            "epoch 1 step 0 total loss 0.10371213406324387\n",
            "epoch 1 step 100 total loss 0.09876305609941483\n",
            "epoch 1 step 200 total loss 0.07021377980709076\n",
            "prediction (120, 96) actual (120, 96)\n",
            "epoch 1 eval f1 micro 0.0 eval f1 macro 0.0 eval f1 weighted 0.0 eval f1 samples 0.0\n",
            "epoch 2\n"
          ]
        },
        {
          "output_type": "stream",
          "name": "stderr",
          "text": [
            "/usr/local/lib/python3.10/dist-packages/sklearn/metrics/_classification.py:1531: UndefinedMetricWarning: F-score is ill-defined and being set to 0.0 in labels with no true nor predicted samples. Use `zero_division` parameter to control this behavior.\n",
            "  _warn_prf(average, modifier, f\"{metric.capitalize()} is\", len(result))\n",
            "/usr/local/lib/python3.10/dist-packages/sklearn/metrics/_classification.py:1531: UndefinedMetricWarning: F-score is ill-defined and being set to 0.0 in labels with no true nor predicted samples. Use `zero_division` parameter to control this behavior.\n",
            "  _warn_prf(average, modifier, f\"{metric.capitalize()} is\", len(result))\n"
          ]
        },
        {
          "output_type": "stream",
          "name": "stdout",
          "text": [
            "epoch 2 step 0 total loss 0.1103515550494194\n",
            "epoch 2 step 100 total loss 0.08558846265077591\n",
            "epoch 2 step 200 total loss 0.09804952889680862\n",
            "prediction (120, 96) actual (120, 96)\n",
            "epoch 2 eval f1 micro 0.0 eval f1 macro 0.0 eval f1 weighted 0.0 eval f1 samples 0.0\n",
            "epoch 3\n"
          ]
        },
        {
          "output_type": "stream",
          "name": "stderr",
          "text": [
            "/usr/local/lib/python3.10/dist-packages/sklearn/metrics/_classification.py:1531: UndefinedMetricWarning: F-score is ill-defined and being set to 0.0 in labels with no true nor predicted samples. Use `zero_division` parameter to control this behavior.\n",
            "  _warn_prf(average, modifier, f\"{metric.capitalize()} is\", len(result))\n",
            "/usr/local/lib/python3.10/dist-packages/sklearn/metrics/_classification.py:1531: UndefinedMetricWarning: F-score is ill-defined and being set to 0.0 in labels with no true nor predicted samples. Use `zero_division` parameter to control this behavior.\n",
            "  _warn_prf(average, modifier, f\"{metric.capitalize()} is\", len(result))\n"
          ]
        },
        {
          "output_type": "stream",
          "name": "stdout",
          "text": [
            "epoch 3 step 0 total loss 0.0894518494606018\n",
            "epoch 3 step 100 total loss 0.1204661875963211\n",
            "epoch 3 step 200 total loss 0.07204650342464447\n",
            "prediction (120, 96) actual (120, 96)\n",
            "epoch 3 eval f1 micro 0.03367003367003367 eval f1 macro 0.005176767676767676 eval f1 weighted 0.022975398585154683 eval f1 samples 0.018922558922558928\n",
            "epoch 4\n"
          ]
        },
        {
          "output_type": "stream",
          "name": "stderr",
          "text": [
            "/usr/local/lib/python3.10/dist-packages/sklearn/metrics/_classification.py:1531: UndefinedMetricWarning: F-score is ill-defined and being set to 0.0 in labels with no true nor predicted samples. Use `zero_division` parameter to control this behavior.\n",
            "  _warn_prf(average, modifier, f\"{metric.capitalize()} is\", len(result))\n",
            "/usr/local/lib/python3.10/dist-packages/sklearn/metrics/_classification.py:1531: UndefinedMetricWarning: F-score is ill-defined and being set to 0.0 in labels with no true nor predicted samples. Use `zero_division` parameter to control this behavior.\n",
            "  _warn_prf(average, modifier, f\"{metric.capitalize()} is\", len(result))\n"
          ]
        },
        {
          "output_type": "stream",
          "name": "stdout",
          "text": [
            "epoch 4 step 0 total loss 0.06894919276237488\n",
            "epoch 4 step 100 total loss 0.0716594010591507\n",
            "epoch 4 step 200 total loss 0.05754842981696129\n",
            "prediction (120, 96) actual (120, 96)\n",
            "epoch 4 eval f1 micro 0.13166144200626959 eval f1 macro 0.0158650153609831 eval f1 weighted 0.08142391496331026 eval f1 samples 0.10655483405483407\n",
            "Finished Training\n"
          ]
        },
        {
          "output_type": "stream",
          "name": "stderr",
          "text": [
            "/usr/local/lib/python3.10/dist-packages/sklearn/metrics/_classification.py:1531: UndefinedMetricWarning: F-score is ill-defined and being set to 0.0 in labels with no true nor predicted samples. Use `zero_division` parameter to control this behavior.\n",
            "  _warn_prf(average, modifier, f\"{metric.capitalize()} is\", len(result))\n",
            "/usr/local/lib/python3.10/dist-packages/sklearn/metrics/_classification.py:1531: UndefinedMetricWarning: F-score is ill-defined and being set to 0.0 in labels with no true nor predicted samples. Use `zero_division` parameter to control this behavior.\n",
            "  _warn_prf(average, modifier, f\"{metric.capitalize()} is\", len(result))\n"
          ]
        }
      ],
      "source": [
        "train_loss_history = []\n",
        "\n",
        "bceLoss = nn.BCEWithLogitsLoss().to(device)\n",
        "optimizer = torch.optim.AdamW(subNarrativeClassifier.parameters(), lr=1e-5)\n",
        "\n",
        "for epoch in range(5):\n",
        "    subNarrativeClassifier.train()\n",
        "    print(\"epoch\", epoch)\n",
        "    for i, data in enumerate(train_data_loader, 0):\n",
        "        # print(\"epoch\", epoch, \"step\", i)\n",
        "        inputs = data\n",
        "        input_ids = inputs['input_ids'].squeeze(1).to(device)\n",
        "        attention_mask = inputs['attention_mask'].squeeze(1).to(device)\n",
        "        subNarrativeLabels = inputs['sub_narr_labels'].to(device)\n",
        "        # zero the parameter gradients\n",
        "        optimizer.zero_grad()\n",
        "        # print(\"shape of input\", inputs['input_ids'].shape, \"max\", torch.max(inputs['input_ids'], dim=0))\n",
        "        # forward + backward + optimize\n",
        "        # print(\"input_ids\", input_ids.shape, \"dominantLabels\", dominantLabels.shape)\n",
        "        outputs = subNarrativeClassifier(input_ids, attention_mask).to(device)\n",
        "        # print(\"shape of output\", outputs.shape, \"labels\", labels.shape)\n",
        "        loss = bceLoss(outputs, subNarrativeLabels)\n",
        "\n",
        "        train_loss_history.append(loss.item())\n",
        "        if i % 100 == 0:\n",
        "          print(\"epoch\", epoch, \"step\", i, \"total loss\", loss.item())\n",
        "\n",
        "        loss.backward()\n",
        "        optimizer.step()\n",
        "\n",
        "    eval_f1_micro, eval_f1_macro, eval_f1_weighted, eval_f1_samples = evaluate(subNarrativeClassifier, eval_dataset, 'sub_narr_labels')\n",
        "    # eval_f1_history.append([eval_f1_micro, eval_f1_macro, eval_f1_weighted, eval_f1_samples])\n",
        "    print(\"epoch\", epoch, \"eval f1 micro\", eval_f1_micro, \"eval f1 macro\", eval_f1_macro, \"eval f1 weighted\", eval_f1_weighted, \"eval f1 samples\", eval_f1_samples)\n",
        "\n",
        "print('Finished Training')"
      ]
    },
    {
      "cell_type": "code",
      "execution_count": 27,
      "metadata": {
        "colab": {
          "base_uri": "https://localhost:8080/"
        },
        "id": "TzE-Cw2nfH1-",
        "outputId": "461cb367-ecb0-4130-c9fe-fc2bbec92153"
      },
      "outputs": [
        {
          "output_type": "stream",
          "name": "stdout",
          "text": [
            "epoch 5\n",
            "epoch 5 step 0 total loss 0.0908222645521164\n",
            "epoch 5 step 100 total loss 0.08706250786781311\n",
            "epoch 5 step 200 total loss 0.03368063271045685\n",
            "prediction (120, 96) actual (120, 96)\n",
            "epoch 5 eval f1 micro 0.1588235294117647 eval f1 macro 0.019634856630824375 eval f1 weighted 0.08719793188715297 eval f1 samples 0.13890873015873015\n",
            "epoch 6\n"
          ]
        },
        {
          "output_type": "stream",
          "name": "stderr",
          "text": [
            "/usr/local/lib/python3.10/dist-packages/sklearn/metrics/_classification.py:1531: UndefinedMetricWarning: F-score is ill-defined and being set to 0.0 in labels with no true nor predicted samples. Use `zero_division` parameter to control this behavior.\n",
            "  _warn_prf(average, modifier, f\"{metric.capitalize()} is\", len(result))\n",
            "/usr/local/lib/python3.10/dist-packages/sklearn/metrics/_classification.py:1531: UndefinedMetricWarning: F-score is ill-defined and being set to 0.0 in labels with no true nor predicted samples. Use `zero_division` parameter to control this behavior.\n",
            "  _warn_prf(average, modifier, f\"{metric.capitalize()} is\", len(result))\n"
          ]
        },
        {
          "output_type": "stream",
          "name": "stdout",
          "text": [
            "epoch 6 step 0 total loss 0.09953103214502335\n",
            "epoch 6 step 100 total loss 0.07174574583768845\n",
            "epoch 6 step 200 total loss 0.11170713603496552\n",
            "prediction (120, 96) actual (120, 96)\n",
            "epoch 6 eval f1 micro 0.11356466876971609 eval f1 macro 0.014101831810165144 eval f1 weighted 0.07228247297933708 eval f1 samples 0.11000721500721501\n",
            "epoch 7\n"
          ]
        },
        {
          "output_type": "stream",
          "name": "stderr",
          "text": [
            "/usr/local/lib/python3.10/dist-packages/sklearn/metrics/_classification.py:1531: UndefinedMetricWarning: F-score is ill-defined and being set to 0.0 in labels with no true nor predicted samples. Use `zero_division` parameter to control this behavior.\n",
            "  _warn_prf(average, modifier, f\"{metric.capitalize()} is\", len(result))\n",
            "/usr/local/lib/python3.10/dist-packages/sklearn/metrics/_classification.py:1531: UndefinedMetricWarning: F-score is ill-defined and being set to 0.0 in labels with no true nor predicted samples. Use `zero_division` parameter to control this behavior.\n",
            "  _warn_prf(average, modifier, f\"{metric.capitalize()} is\", len(result))\n"
          ]
        },
        {
          "output_type": "stream",
          "name": "stdout",
          "text": [
            "epoch 7 step 0 total loss 0.0422753281891346\n",
            "epoch 7 step 100 total loss 0.043236445635557175\n",
            "epoch 7 step 200 total loss 0.07011472433805466\n",
            "prediction (120, 96) actual (120, 96)\n",
            "epoch 7 eval f1 micro 0.1977401129943503 eval f1 macro 0.03960891856593703 eval f1 weighted 0.1466506650181167 eval f1 samples 0.13010780885780884\n",
            "epoch 8\n"
          ]
        },
        {
          "output_type": "stream",
          "name": "stderr",
          "text": [
            "/usr/local/lib/python3.10/dist-packages/sklearn/metrics/_classification.py:1531: UndefinedMetricWarning: F-score is ill-defined and being set to 0.0 in labels with no true nor predicted samples. Use `zero_division` parameter to control this behavior.\n",
            "  _warn_prf(average, modifier, f\"{metric.capitalize()} is\", len(result))\n",
            "/usr/local/lib/python3.10/dist-packages/sklearn/metrics/_classification.py:1531: UndefinedMetricWarning: F-score is ill-defined and being set to 0.0 in labels with no true nor predicted samples. Use `zero_division` parameter to control this behavior.\n",
            "  _warn_prf(average, modifier, f\"{metric.capitalize()} is\", len(result))\n"
          ]
        },
        {
          "output_type": "stream",
          "name": "stdout",
          "text": [
            "epoch 8 step 0 total loss 0.07135151326656342\n",
            "epoch 8 step 100 total loss 0.06606895476579666\n",
            "epoch 8 step 200 total loss 0.044117271900177\n",
            "prediction (120, 96) actual (120, 96)\n",
            "epoch 8 eval f1 micro 0.23163841807909605 eval f1 macro 0.051610179943513274 eval f1 weighted 0.17549822483620392 eval f1 samples 0.1734511322011322\n",
            "epoch 9\n"
          ]
        },
        {
          "output_type": "stream",
          "name": "stderr",
          "text": [
            "/usr/local/lib/python3.10/dist-packages/sklearn/metrics/_classification.py:1531: UndefinedMetricWarning: F-score is ill-defined and being set to 0.0 in labels with no true nor predicted samples. Use `zero_division` parameter to control this behavior.\n",
            "  _warn_prf(average, modifier, f\"{metric.capitalize()} is\", len(result))\n",
            "/usr/local/lib/python3.10/dist-packages/sklearn/metrics/_classification.py:1531: UndefinedMetricWarning: F-score is ill-defined and being set to 0.0 in labels with no true nor predicted samples. Use `zero_division` parameter to control this behavior.\n",
            "  _warn_prf(average, modifier, f\"{metric.capitalize()} is\", len(result))\n"
          ]
        },
        {
          "output_type": "stream",
          "name": "stdout",
          "text": [
            "epoch 9 step 0 total loss 0.10481591522693634\n",
            "epoch 9 step 100 total loss 0.06592901796102524\n",
            "epoch 9 step 200 total loss 0.04467029124498367\n",
            "prediction (120, 96) actual (120, 96)\n",
            "epoch 9 eval f1 micro 0.17647058823529413 eval f1 macro 0.033018208026973805 eval f1 weighted 0.12602726296839117 eval f1 samples 0.12874153624153625\n",
            "Finished Training\n"
          ]
        },
        {
          "output_type": "stream",
          "name": "stderr",
          "text": [
            "/usr/local/lib/python3.10/dist-packages/sklearn/metrics/_classification.py:1531: UndefinedMetricWarning: F-score is ill-defined and being set to 0.0 in labels with no true nor predicted samples. Use `zero_division` parameter to control this behavior.\n",
            "  _warn_prf(average, modifier, f\"{metric.capitalize()} is\", len(result))\n",
            "/usr/local/lib/python3.10/dist-packages/sklearn/metrics/_classification.py:1531: UndefinedMetricWarning: F-score is ill-defined and being set to 0.0 in labels with no true nor predicted samples. Use `zero_division` parameter to control this behavior.\n",
            "  _warn_prf(average, modifier, f\"{metric.capitalize()} is\", len(result))\n"
          ]
        }
      ],
      "source": [
        "for epoch in range(5, 10):\n",
        "    subNarrativeClassifier.train()\n",
        "    print(\"epoch\", epoch)\n",
        "    for i, data in enumerate(train_data_loader, 0):\n",
        "        # print(\"epoch\", epoch, \"step\", i)\n",
        "        inputs = data\n",
        "        input_ids = inputs['input_ids'].squeeze(1).to(device)\n",
        "        attention_mask = inputs['attention_mask'].squeeze(1).to(device)\n",
        "        subNarrativeLabels = inputs['sub_narr_labels'].to(device)\n",
        "        # zero the parameter gradients\n",
        "        optimizer.zero_grad()\n",
        "        # print(\"shape of input\", inputs['input_ids'].shape, \"max\", torch.max(inputs['input_ids'], dim=0))\n",
        "        # forward + backward + optimize\n",
        "        # print(\"input_ids\", input_ids.shape, \"dominantLabels\", dominantLabels.shape)\n",
        "        outputs = subNarrativeClassifier(input_ids, attention_mask).to(device)\n",
        "        # print(\"shape of output\", outputs.shape, \"labels\", labels.shape)\n",
        "        loss = bceLoss(outputs, subNarrativeLabels)\n",
        "\n",
        "        train_loss_history.append(loss.item())\n",
        "        if i % 100 == 0:\n",
        "          print(\"epoch\", epoch, \"step\", i, \"total loss\", loss.item())\n",
        "\n",
        "        loss.backward()\n",
        "        optimizer.step()\n",
        "\n",
        "    eval_f1_micro, eval_f1_macro, eval_f1_weighted, eval_f1_samples = evaluate(subNarrativeClassifier, eval_dataset, 'sub_narr_labels')\n",
        "    # eval_f1_history.append([eval_f1_micro, eval_f1_macro, eval_f1_weighted, eval_f1_samples])\n",
        "    print(\"epoch\", epoch, \"eval f1 micro\", eval_f1_micro, \"eval f1 macro\", eval_f1_macro, \"eval f1 weighted\", eval_f1_weighted, \"eval f1 samples\", eval_f1_samples)\n",
        "\n",
        "print('Finished Training')"
      ]
    },
    {
      "cell_type": "code",
      "source": [],
      "metadata": {
        "id": "de6f4WFbLDEo"
      },
      "execution_count": null,
      "outputs": []
    },
    {
      "cell_type": "code",
      "execution_count": null,
      "metadata": {
        "colab": {
          "base_uri": "https://localhost:8080/"
        },
        "id": "X2mb59I4UWD6",
        "outputId": "dc078331-533b-4b7e-bc13-a2d323e7de38"
      },
      "outputs": [
        {
          "data": {
            "text/plain": [
              "torch.Size([5, 96])"
            ]
          },
          "execution_count": 88,
          "metadata": {},
          "output_type": "execute_result"
        }
      ],
      "source": [
        "outputs.shape"
      ]
    },
    {
      "cell_type": "code",
      "execution_count": null,
      "metadata": {
        "id": "xv73pG9RUXzF"
      },
      "outputs": [],
      "source": []
    },
    {
      "cell_type": "code",
      "execution_count": null,
      "metadata": {
        "colab": {
          "base_uri": "https://localhost:8080/"
        },
        "id": "P9pF7kQxLxl5",
        "outputId": "af331d81-bac1-41e5-f4a8-87d0adfad796"
      },
      "outputs": [
        {
          "data": {
            "text/plain": [
              "BERTClassifierPooler(\n",
              "  (bert): BertModel(\n",
              "    (embeddings): BertEmbeddings(\n",
              "      (word_embeddings): Embedding(105879, 768, padding_idx=0)\n",
              "      (position_embeddings): Embedding(512, 768)\n",
              "      (token_type_embeddings): Embedding(2, 768)\n",
              "      (LayerNorm): LayerNorm((768,), eps=1e-12, elementwise_affine=True)\n",
              "      (dropout): Dropout(p=0.1, inplace=False)\n",
              "    )\n",
              "    (encoder): BertEncoder(\n",
              "      (layer): ModuleList(\n",
              "        (0-11): 12 x BertLayer(\n",
              "          (attention): BertAttention(\n",
              "            (self): BertSdpaSelfAttention(\n",
              "              (query): Linear(in_features=768, out_features=768, bias=True)\n",
              "              (key): Linear(in_features=768, out_features=768, bias=True)\n",
              "              (value): Linear(in_features=768, out_features=768, bias=True)\n",
              "              (dropout): Dropout(p=0.1, inplace=False)\n",
              "            )\n",
              "            (output): BertSelfOutput(\n",
              "              (dense): Linear(in_features=768, out_features=768, bias=True)\n",
              "              (LayerNorm): LayerNorm((768,), eps=1e-12, elementwise_affine=True)\n",
              "              (dropout): Dropout(p=0.1, inplace=False)\n",
              "            )\n",
              "          )\n",
              "          (intermediate): BertIntermediate(\n",
              "            (dense): Linear(in_features=768, out_features=3072, bias=True)\n",
              "            (intermediate_act_fn): GELUActivation()\n",
              "          )\n",
              "          (output): BertOutput(\n",
              "            (dense): Linear(in_features=3072, out_features=768, bias=True)\n",
              "            (LayerNorm): LayerNorm((768,), eps=1e-12, elementwise_affine=True)\n",
              "            (dropout): Dropout(p=0.1, inplace=False)\n",
              "          )\n",
              "        )\n",
              "      )\n",
              "    )\n",
              "    (pooler): BertPooler(\n",
              "      (dense): Linear(in_features=768, out_features=768, bias=True)\n",
              "      (activation): Tanh()\n",
              "    )\n",
              "  )\n",
              "  (dropout): Dropout(p=0.1, inplace=False)\n",
              "  (classifier): Linear(in_features=768, out_features=96, bias=True)\n",
              "  (pooler): GlobalMaxPooling1D()\n",
              ")"
            ]
          },
          "execution_count": 109,
          "metadata": {},
          "output_type": "execute_result"
        }
      ],
      "source": [
        "subNarrativeClassifier.eval()"
      ]
    },
    {
      "cell_type": "code",
      "execution_count": null,
      "metadata": {
        "id": "VNUuWUVvKXDZ"
      },
      "outputs": [],
      "source": [
        "with torch.no_grad():\n",
        "  prediction = subNarrativeClassifier(total_dataset[50]['input_ids'].squeeze(1).to(device), total_dataset[50]['attention_mask'].squeeze(1).to(device))"
      ]
    },
    {
      "cell_type": "code",
      "execution_count": null,
      "metadata": {
        "id": "SXb3AKp4aE-q"
      },
      "outputs": [],
      "source": [
        "torch.save(subNarrativeClassifier.state_dict(), \"drive/MyDrive/SemEvalTaskData/model/baselineSubNarrativeClassifier.pth\")"
      ]
    },
    {
      "cell_type": "code",
      "execution_count": null,
      "metadata": {
        "colab": {
          "base_uri": "https://localhost:8080/"
        },
        "id": "wrv6nZOJL32T",
        "outputId": "8f4f99cd-d852-44bf-b39f-b8a6f1ff7cfd"
      },
      "outputs": [
        {
          "data": {
            "text/plain": [
              "tensor([[0.0191, 0.0514, 0.0054, 0.0080, 0.0055, 0.0254, 0.0990, 0.0514, 0.0172,\n",
              "         0.0227, 0.0309, 0.0268, 0.0257, 0.0247, 0.0109, 0.0265, 0.0352, 0.0223,\n",
              "         0.0241, 0.0308, 0.0065, 0.0151, 0.0065, 0.0161, 0.0187, 0.0092, 0.0073,\n",
              "         0.0058, 0.0128, 0.0419, 0.0307, 0.0259, 0.0066, 0.0373, 0.0494, 0.0174,\n",
              "         0.0942, 0.0199, 0.0058, 0.0318, 0.0175, 0.0054, 0.0091, 0.0513, 0.0317,\n",
              "         0.0643, 0.0127, 0.0197, 0.0120, 0.0171, 0.0285, 0.0096, 0.0193, 0.0072,\n",
              "         0.0218, 0.0341, 0.0337, 0.0136, 0.0084, 0.0021, 0.0058, 0.0104, 0.0072,\n",
              "         0.0033, 0.0088, 0.0052, 0.0035, 0.0061, 0.0021, 0.0046, 0.0072, 0.0037,\n",
              "         0.0072, 0.0054, 0.0030, 0.0124, 0.0073, 0.0159, 0.0149, 0.0061, 0.0071,\n",
              "         0.0061, 0.0088, 0.0080, 0.0075, 0.0152, 0.0061, 0.0088, 0.0112, 0.0109,\n",
              "         0.0061, 0.0144, 0.0050, 0.0136, 0.0029, 0.3476]], device='cuda:0')"
            ]
          },
          "execution_count": 112,
          "metadata": {},
          "output_type": "execute_result"
        }
      ],
      "source": [
        "nn.Sigmoid()(prediction)"
      ]
    },
    {
      "cell_type": "code",
      "execution_count": null,
      "metadata": {
        "colab": {
          "base_uri": "https://localhost:8080/"
        },
        "id": "Yhctac5tQwD1",
        "outputId": "bf6fd84d-00c1-46b0-c86c-88ee85901024"
      },
      "outputs": [
        {
          "data": {
            "text/plain": [
              "95"
            ]
          },
          "execution_count": 87,
          "metadata": {},
          "output_type": "execute_result"
        }
      ],
      "source": [
        "np.argmax(nn.Sigmoid()(prediction)[0].cpu().numpy())"
      ]
    },
    {
      "cell_type": "code",
      "execution_count": null,
      "metadata": {
        "colab": {
          "base_uri": "https://localhost:8080/"
        },
        "id": "jyJPrB1gL5Qx",
        "outputId": "7ac92067-87e4-4b91-eea0-4a0e45a59003"
      },
      "outputs": [
        {
          "data": {
            "text/plain": [
              "tensor([0., 0., 0., 0., 0., 0., 0., 0., 0., 0., 0., 0., 0., 0., 0., 0., 0., 0.,\n",
              "        0., 0., 0., 0., 0., 0., 0., 0., 0., 0., 0., 0., 0., 0., 0., 0., 1., 0.,\n",
              "        1., 1., 0., 0., 0., 0., 0., 0., 0., 0., 0., 0., 0., 0., 0., 0., 0., 0.,\n",
              "        0., 0., 0., 0., 0., 0., 0., 0., 0., 0., 0., 0., 0., 0., 0., 0., 0., 0.,\n",
              "        0., 0., 0., 0., 0., 0., 0., 0., 0., 0., 0., 0., 0., 0., 0., 0., 0., 0.,\n",
              "        0., 0., 0., 0., 0., 0.])"
            ]
          },
          "execution_count": 110,
          "metadata": {},
          "output_type": "execute_result"
        }
      ],
      "source": [
        "total_dataset[50]['sub_narr_labels']"
      ]
    },
    {
      "cell_type": "code",
      "execution_count": null,
      "metadata": {
        "colab": {
          "base_uri": "https://localhost:8080/"
        },
        "id": "mSwJd5zVL8iU",
        "outputId": "558da8a7-5a7d-4ca7-fb1a-2acba4a82623"
      },
      "outputs": [
        {
          "data": {
            "text/plain": [
              "array([55])"
            ]
          },
          "execution_count": 79,
          "metadata": {},
          "output_type": "execute_result"
        }
      ],
      "source": [
        "np.where(total_dataset[10]['sub_narr_labels'].numpy() == 1)[0]"
      ]
    },
    {
      "cell_type": "code",
      "execution_count": null,
      "metadata": {
        "colab": {
          "base_uri": "https://localhost:8080/"
        },
        "id": "UyxBJ5l0QmM0",
        "outputId": "5c0da9b9-b714-49bd-eb34-e1eaaf60503b"
      },
      "outputs": [
        {
          "data": {
            "text/plain": [
              "torch.Size([1, 512])"
            ]
          },
          "execution_count": 89,
          "metadata": {},
          "output_type": "execute_result"
        }
      ],
      "source": [
        "total_dataset[50]['input_ids'].shape"
      ]
    },
    {
      "cell_type": "code",
      "execution_count": null,
      "metadata": {
        "id": "GHojkbItUecI"
      },
      "outputs": [],
      "source": [
        "tokenizer = BertTokenizer.from_pretrained('bert-base-multilingual-uncased')"
      ]
    },
    {
      "cell_type": "code",
      "execution_count": null,
      "metadata": {
        "id": "GumzkLtkUnlQ"
      },
      "outputs": [],
      "source": [
        "bertModel = BertModel.from_pretrained('bert-base-multilingual-uncased', return_dict=True)"
      ]
    },
    {
      "cell_type": "code",
      "execution_count": null,
      "metadata": {
        "id": "6kxy2L-8U8DG"
      },
      "outputs": [],
      "source": [
        "with torch.no_grad():\n",
        "  embeddings = bertModel(total_dataset[50]['input_ids'], total_dataset[50]['attention_mask'], output_hidden_states=True)"
      ]
    },
    {
      "cell_type": "code",
      "execution_count": null,
      "metadata": {
        "colab": {
          "base_uri": "https://localhost:8080/",
          "height": 49,
          "referenced_widgets": [
            "da7e9f93c7ce4688909250fe2c389988",
            "035454f616594f6395ebd15aca4e3fbd",
            "bf9e3b7f06904c5ba9e10792bec2a881",
            "3881ccedd4564af3ac0afaedb1331ea2",
            "d0ffb101f1bb4d518308ebc8a8711a56",
            "a06e0e8dafdb48edba4a88b597d8f9e3",
            "36fdd66dead94942b477c5d8a06557da",
            "4c1a93ee393b492493148f3b1f823439",
            "6405e2051e16473092e52ff77b57c940",
            "c1cd3405e3d6486ebaecce1a3b83647c",
            "384013a4fe384f388943d117c2778f09"
          ]
        },
        "id": "za2JINXCgPYp",
        "outputId": "5003ca9a-a916-449a-d2a6-c699110551b4"
      },
      "outputs": [
        {
          "data": {
            "application/vnd.jupyter.widget-view+json": {
              "model_id": "da7e9f93c7ce4688909250fe2c389988",
              "version_major": 2,
              "version_minor": 0
            },
            "text/plain": [
              "model.safetensors:   0%|          | 0.00/672M [00:00<?, ?B/s]"
            ]
          },
          "metadata": {},
          "output_type": "display_data"
        }
      ],
      "source": [
        "narrClassifier = BERTClassifier(22).to(device)"
      ]
    },
    {
      "cell_type": "code",
      "execution_count": null,
      "metadata": {
        "colab": {
          "base_uri": "https://localhost:8080/"
        },
        "id": "YJGcyj9eV4Oq",
        "outputId": "57a93026-ee9d-45c3-ca6d-be447a4b9132"
      },
      "outputs": [
        {
          "name": "stderr",
          "output_type": "stream",
          "text": [
            "<ipython-input-23-1a7eb0d4d364>:1: FutureWarning: You are using `torch.load` with `weights_only=False` (the current default value), which uses the default pickle module implicitly. It is possible to construct malicious pickle data which will execute arbitrary code during unpickling (See https://github.com/pytorch/pytorch/blob/main/SECURITY.md#untrusted-models for more details). In a future release, the default value for `weights_only` will be flipped to `True`. This limits the functions that could be executed during unpickling. Arbitrary objects will no longer be allowed to be loaded via this mode unless they are explicitly allowlisted by the user via `torch.serialization.add_safe_globals`. We recommend you start setting `weights_only=True` for any use case where you don't have full control of the loaded file. Please open an issue on GitHub for any issues related to this experimental feature.\n",
            "  narrClassifier.load_state_dict(torch.load(\"drive/MyDrive/SemEvalTaskData/model/baselineNarrativeClassifier.pth\"))\n"
          ]
        },
        {
          "data": {
            "text/plain": [
              "BERTClassifier(\n",
              "  (bert): BertModel(\n",
              "    (embeddings): BertEmbeddings(\n",
              "      (word_embeddings): Embedding(105879, 768, padding_idx=0)\n",
              "      (position_embeddings): Embedding(512, 768)\n",
              "      (token_type_embeddings): Embedding(2, 768)\n",
              "      (LayerNorm): LayerNorm((768,), eps=1e-12, elementwise_affine=True)\n",
              "      (dropout): Dropout(p=0.1, inplace=False)\n",
              "    )\n",
              "    (encoder): BertEncoder(\n",
              "      (layer): ModuleList(\n",
              "        (0-11): 12 x BertLayer(\n",
              "          (attention): BertAttention(\n",
              "            (self): BertSdpaSelfAttention(\n",
              "              (query): Linear(in_features=768, out_features=768, bias=True)\n",
              "              (key): Linear(in_features=768, out_features=768, bias=True)\n",
              "              (value): Linear(in_features=768, out_features=768, bias=True)\n",
              "              (dropout): Dropout(p=0.1, inplace=False)\n",
              "            )\n",
              "            (output): BertSelfOutput(\n",
              "              (dense): Linear(in_features=768, out_features=768, bias=True)\n",
              "              (LayerNorm): LayerNorm((768,), eps=1e-12, elementwise_affine=True)\n",
              "              (dropout): Dropout(p=0.1, inplace=False)\n",
              "            )\n",
              "          )\n",
              "          (intermediate): BertIntermediate(\n",
              "            (dense): Linear(in_features=768, out_features=3072, bias=True)\n",
              "            (intermediate_act_fn): GELUActivation()\n",
              "          )\n",
              "          (output): BertOutput(\n",
              "            (dense): Linear(in_features=3072, out_features=768, bias=True)\n",
              "            (LayerNorm): LayerNorm((768,), eps=1e-12, elementwise_affine=True)\n",
              "            (dropout): Dropout(p=0.1, inplace=False)\n",
              "          )\n",
              "        )\n",
              "      )\n",
              "    )\n",
              "    (pooler): BertPooler(\n",
              "      (dense): Linear(in_features=768, out_features=768, bias=True)\n",
              "      (activation): Tanh()\n",
              "    )\n",
              "  )\n",
              "  (dropout): Dropout(p=0.1, inplace=False)\n",
              "  (classifier): Linear(in_features=768, out_features=22, bias=True)\n",
              ")"
            ]
          },
          "execution_count": 23,
          "metadata": {},
          "output_type": "execute_result"
        }
      ],
      "source": [
        "narrClassifier.load_state_dict(torch.load(\"drive/MyDrive/SemEvalTaskData/model/baselineNarrativeClassifier.pth\"))\n",
        "narrClassifier.eval()"
      ]
    },
    {
      "cell_type": "code",
      "execution_count": null,
      "metadata": {
        "id": "zdeFo7NCfk4m"
      },
      "outputs": [],
      "source": [
        "predicitons = []\n",
        "\n",
        "for i in range(len(total_dataset)):\n",
        "  with torch.no_grad():\n",
        "    prediction = narrClassifier(total_dataset[i]['input_ids'].squeeze(1).to(device), total_dataset[i]['attention_mask'].squeeze(1).to(device))\n",
        "    predicitons.append(prediction)\n"
      ]
    },
    {
      "cell_type": "code",
      "execution_count": null,
      "metadata": {
        "colab": {
          "base_uri": "https://localhost:8080/"
        },
        "id": "L0kmkVVCnL0s",
        "outputId": "0fc7cfc8-3592-49b2-d7ff-97a47d2697b1"
      },
      "outputs": [
        {
          "data": {
            "text/plain": [
              "torch.Size([1, 22])"
            ]
          },
          "execution_count": 27,
          "metadata": {},
          "output_type": "execute_result"
        }
      ],
      "source": [
        "predicitons[0].shape"
      ]
    },
    {
      "cell_type": "code",
      "execution_count": null,
      "metadata": {
        "colab": {
          "base_uri": "https://localhost:8080/"
        },
        "id": "3Kd9nw9zsCZc",
        "outputId": "ee24bf0f-22a0-4871-bbbf-73fdb64a5a2a"
      },
      "outputs": [
        {
          "data": {
            "text/plain": [
              "torch.Size([1200, 22])"
            ]
          },
          "execution_count": 30,
          "metadata": {},
          "output_type": "execute_result"
        }
      ],
      "source": [
        "torch.stack(predicitons).squeeze(1).shape"
      ]
    },
    {
      "cell_type": "code",
      "execution_count": null,
      "metadata": {
        "id": "za05TXdQsH9N"
      },
      "outputs": [],
      "source": [
        "predcition_tensor = torch.sigmoid(torch.stack(predicitons).squeeze(1))"
      ]
    },
    {
      "cell_type": "code",
      "execution_count": null,
      "metadata": {
        "colab": {
          "base_uri": "https://localhost:8080/"
        },
        "id": "QwLSBh_2sVJg",
        "outputId": "5931795f-af0e-46b3-f752-f94a4674cd42"
      },
      "outputs": [
        {
          "data": {
            "text/plain": [
              "tensor([0.0286, 0.0322, 0.0717, 0.0421, 0.0376, 0.0560, 0.0354, 0.0278, 0.0308,\n",
              "        0.0272, 0.0216, 0.0220, 0.0288, 0.0150, 0.0126, 0.0165, 0.0206, 0.0154,\n",
              "        0.0152, 0.0260, 0.0082, 0.7358], device='cuda:0')"
            ]
          },
          "execution_count": 33,
          "metadata": {},
          "output_type": "execute_result"
        }
      ],
      "source": [
        "predcition_tensor[0]"
      ]
    },
    {
      "cell_type": "code",
      "execution_count": null,
      "metadata": {
        "id": "wzJLPwZlsdYx"
      },
      "outputs": [],
      "source": [
        "predicted_labels_np = torch.where(predcition_tensor > 0.5, 1, 0).cpu().numpy()"
      ]
    },
    {
      "cell_type": "code",
      "execution_count": null,
      "metadata": {
        "colab": {
          "base_uri": "https://localhost:8080/"
        },
        "id": "oWyLRfqXsqNv",
        "outputId": "8aa55bbf-75bc-4a5f-c2da-47f3dfdbe437"
      },
      "outputs": [
        {
          "data": {
            "text/plain": [
              "(1200, 22)"
            ]
          },
          "execution_count": 38,
          "metadata": {},
          "output_type": "execute_result"
        }
      ],
      "source": [
        "predicted_labels_np.shape"
      ]
    },
    {
      "cell_type": "code",
      "execution_count": null,
      "metadata": {
        "colab": {
          "base_uri": "https://localhost:8080/"
        },
        "id": "NEpgWNV2s5Vw",
        "outputId": "17d6c383-1b4e-46ee-e8f4-bdd7f1adca19"
      },
      "outputs": [
        {
          "data": {
            "text/plain": [
              "tensor([0., 0., 0., 0., 0., 0., 0., 0., 0., 0., 0., 0., 0., 0., 0., 0., 0., 0.,\n",
              "        0., 0., 0., 1.])"
            ]
          },
          "execution_count": 39,
          "metadata": {},
          "output_type": "execute_result"
        }
      ],
      "source": [
        "total_dataset[0]['narr_labels']"
      ]
    },
    {
      "cell_type": "code",
      "execution_count": null,
      "metadata": {
        "id": "SVowphlytoQF"
      },
      "outputs": [],
      "source": [
        "actual_np = []\n",
        "\n",
        "for i in range(len(total_dataset)):\n",
        "  with torch.no_grad():\n",
        "    actual_np.append(total_dataset[i]['narr_labels'].numpy())\n",
        "\n",
        "actual_np = np.array(actual_np)"
      ]
    },
    {
      "cell_type": "code",
      "execution_count": null,
      "metadata": {
        "colab": {
          "base_uri": "https://localhost:8080/"
        },
        "id": "YHCvdySqt5XK",
        "outputId": "0b30eae6-3e5a-4ad9-94aa-917282b22d3c"
      },
      "outputs": [
        {
          "data": {
            "text/plain": [
              "(1200, 22)"
            ]
          },
          "execution_count": 41,
          "metadata": {},
          "output_type": "execute_result"
        }
      ],
      "source": [
        "actual_np.shape"
      ]
    },
    {
      "cell_type": "code",
      "execution_count": null,
      "metadata": {
        "id": "4ILo9RgzuTU6"
      },
      "outputs": [],
      "source": [
        "from sklearn.metrics import f1_score"
      ]
    },
    {
      "cell_type": "code",
      "execution_count": null,
      "metadata": {
        "id": "kBGckC3IufMN"
      },
      "outputs": [],
      "source": [
        "f1_scores = f1_score(actual_np, predicted_labels_np, average=None)"
      ]
    },
    {
      "cell_type": "code",
      "execution_count": null,
      "metadata": {
        "colab": {
          "base_uri": "https://localhost:8080/"
        },
        "id": "8z9wVBPIunDJ",
        "outputId": "6e922a80-573d-468d-a3b5-11d0137ae0fe"
      },
      "outputs": [
        {
          "data": {
            "text/plain": [
              "array([0.046875  , 0.79279279, 0.6440678 , 0.43624161, 0.        ,\n",
              "       0.        , 0.65957447, 0.        , 0.        , 0.72955975,\n",
              "       0.        , 0.43037975, 0.62585034, 0.        , 0.        ,\n",
              "       0.        , 0.        , 0.        , 0.        , 0.94025974,\n",
              "       0.        , 0.80794702])"
            ]
          },
          "execution_count": 46,
          "metadata": {},
          "output_type": "execute_result"
        }
      ],
      "source": [
        "f1_scores"
      ]
    },
    {
      "cell_type": "code",
      "execution_count": null,
      "metadata": {
        "id": "FubHjll-uojj"
      },
      "outputs": [],
      "source": [
        "f1_avg_score_micro = f1_score(actual_np, predicted_labels_np, average='micro')\n",
        "f1_avg_score_macro = f1_score(actual_np, predicted_labels_np, average='macro')\n",
        "f1_score_weighted = f1_score(actual_np, predicted_labels_np, average='weighted')"
      ]
    },
    {
      "cell_type": "code",
      "execution_count": null,
      "metadata": {
        "colab": {
          "base_uri": "https://localhost:8080/"
        },
        "id": "cnOqKEPivlWa",
        "outputId": "f1c30132-5b59-499c-f286-2a0099b3af83"
      },
      "outputs": [
        {
          "data": {
            "text/plain": [
              "(0.6181259600614439, 0.27788855744330837, 0.548990554041843)"
            ]
          },
          "execution_count": 49,
          "metadata": {},
          "output_type": "execute_result"
        }
      ],
      "source": [
        "f1_avg_score_micro, f1_avg_score_macro, f1_score_weighted"
      ]
    },
    {
      "cell_type": "code",
      "execution_count": null,
      "metadata": {
        "id": "KiZGb-3tvnXD"
      },
      "outputs": [],
      "source": []
    },
    {
      "cell_type": "code",
      "execution_count": null,
      "metadata": {
        "id": "vXQUSA9wMKDS"
      },
      "outputs": [],
      "source": [
        "class NewsDatasetMultilingual(Dataset):\n",
        "  def __init__(self):\n",
        "    self.files = files\n",
        "    # self.annotation_file = annotations_file\n",
        "    self.enSubTask2File = enSubTask2File\n",
        "    self.hiSubTask2File = hiSubTask2File\n",
        "    self.bgSubTask2File = bgSubTask2File\n",
        "    self.ptSubTask2File = ptSubTask2File\n",
        "    self.ruSubTask2File = ruSubTask2File\n",
        "    self.tokenizer = AutoTokenizer.from_pretrained(\"microsoft/deberta-base\")\n",
        "\n",
        "  def __len__(self):\n",
        "    return len(self.files)\n",
        "\n",
        "  def __getitem__(self, index: int):\n",
        "    file_name  = self.files[index]\n",
        "    text = open(file_name, \"r\", encoding='utf-8').read()\n",
        "    text_labels = []\n",
        "    narr_text_labels = []\n",
        "    total_labels = [0 for i in range(96)]\n",
        "    narr_labels = [0 for i in range(22)]\n",
        "\n",
        "    sub_narrative_df = {}\n",
        "    narrative_df = {}\n",
        "\n",
        "    for k in label2Id.keys():\n",
        "      sub_narrative_df[k] = 0\n",
        "\n",
        "    for k in dominantLabel2Id.keys():\n",
        "      narrative_df[k] = 0\n",
        "\n",
        "    encoded_input = self.tokenizer(text, max_length=512, padding='max_length', truncation=True, return_tensors='pt')\n",
        "\n",
        "    if \"EN\" in file_name:\n",
        "      annotation_file = self.enSubTask2File\n",
        "    elif \"HI\" in file_name:\n",
        "      annotation_file = self.hiSubTask2File\n",
        "    elif \"BG\" in file_name:\n",
        "      annotation_file = self.bgSubTask2File\n",
        "    elif \"PT\" in file_name:\n",
        "      annotation_file = self.ptSubTask2File\n",
        "    elif \"RU\" in file_name:\n",
        "      annotation_file = self.ruSubTask2File\n",
        "\n",
        "    with open(annotation_file, encoding='utf-8') as annotations:\n",
        "      for line in annotations:\n",
        "        splits = line.split(\"\\t\")\n",
        "\n",
        "        if file_name.split(\"/\")[-1] == splits[0]:\n",
        "          sub_narrative_df['fileName'] = splits[0]\n",
        "          narrative_df['fileName'] = splits[0]\n",
        "          text_labels = splits[2].replace(\"\\n\", \"\").split(';')\n",
        "          narr_text_labels = splits[1].split(';')\n",
        "          break\n",
        "\n",
        "    for l in text_labels:\n",
        "      total_labels[label2Id[l]] = 1\n",
        "      sub_narrative_df[l] = 1\n",
        "\n",
        "    for l in narr_text_labels:\n",
        "      narr_labels[dominantLabel2Id[l]] = 1\n",
        "      narrative_df[l] = 1\n",
        "\n",
        "\n",
        "    rec = {}\n",
        "\n",
        "    rec = {\n",
        "        **encoded_input,\n",
        "        \"narr_labels\": torch.FloatTensor(narr_labels),\n",
        "        \"sub_narr_labels\": torch.FloatTensor(total_labels),\n",
        "        \"narr_dic\": narrative_df,\n",
        "        \"sub_narr_dic\": sub_narrative_df,\n",
        "        \"fileName\": file_name.split(\"/\")[-1]\n",
        "    }\n",
        "\n",
        "    return rec"
      ]
    },
    {
      "cell_type": "code",
      "execution_count": null,
      "metadata": {
        "colab": {
          "base_uri": "https://localhost:8080/",
          "height": 272,
          "referenced_widgets": [
            "f49ebf87df6d4ef5bbd75905cecca9c4",
            "6557d59df59843fe8a5c6e994846c657",
            "933f5263b481451ba4a348faa4b7ed83",
            "0da641c95a484708b8dbe0dd3539983d",
            "5ad915a103fe4915aabf38fd4bbd37d1",
            "50473a78263c44f8993126ba1713362f",
            "810d551cb03747ba96fdd28d7ab51293",
            "af514a08b1ef42419f3837b43e0f7b89",
            "16f0c6c87865494d8f9ee864eadb7625",
            "fa0b902f86b74e54a5de44ef45afa422",
            "4d3661535d06410bb45a944343924d28",
            "3bbd8b44bf924945a6de79614a7018f1",
            "8262202aa70e4b1b872f18f9de03dfad",
            "65e3be6ad6524a4296f6e755c4a6c94b",
            "10ecb52c3a2848e2af95a668b614e4dd",
            "389671fbe8af4a069271fa616fc5d36d",
            "f0d26ecd421749f197c9bff5347c3e56",
            "f98b69ba879640a8af51801855da61be",
            "57954a241bdf490cb553f40df304e853",
            "3dee593d013947c7b4bb0b802788817b",
            "bff0bb454e9f4936ab2dc06c5b6d05bb",
            "8886503529e746dabbbacb6340845db8",
            "f8aafe48412a4038896dcc6019fa3e67",
            "d19c49e51b5e43b0858127b83d5bbece",
            "1014c118658e45b89e0ca2b1a2eb0e88",
            "932f95eaa6894e54ba93d8f7fa2af6d3",
            "db70bbd4aad2469eb3ab91ae7ed4a285",
            "a7d2f3f1b12e42fe9e760fac21d4b537",
            "f21586c76af54da5aeaed4605c7823bb",
            "8936b4a500894266bcd52ea32f051701",
            "bbc0ce6e54ca431e921c72825accb475",
            "1e9da2edec6849fc83b1d9047f576b7c",
            "9f2bdcb317024985b0d2c8d97e3d23b3",
            "194e1e96a9604e62aaa098031dab6ca5",
            "df5eb1b2f0e84a73bb145fa9b87b8b1a",
            "f957390d6bb948eb8cec042ef6131c55",
            "b4e44fea5abe43888530b3e152a4eeed",
            "35e90dea92a7491595ccd1d2d1cae334",
            "9fb5c79fbe3c437f96c0fc8cae91fcc8",
            "0fde1d3d37b64e209eccf395fc7b2a52",
            "e7647d8c5bf9441a90e7f8855e4ffaec",
            "bc589c014e624b83a4e7d859a438a487",
            "cac210b5ea3f4acba66ee57a74f2cc39",
            "b73489ca045d44ff9b61e530260304dc"
          ]
        },
        "id": "pLUOP2BBNCX9",
        "outputId": "2e58e856-2b15-4a22-d1a7-48710299a198"
      },
      "outputs": [
        {
          "name": "stderr",
          "output_type": "stream",
          "text": [
            "/usr/local/lib/python3.10/dist-packages/huggingface_hub/utils/_auth.py:94: UserWarning: \n",
            "The secret `HF_TOKEN` does not exist in your Colab secrets.\n",
            "To authenticate with the Hugging Face Hub, create a token in your settings tab (https://huggingface.co/settings/tokens), set it as secret in your Google Colab and restart your session.\n",
            "You will be able to reuse this secret in all of your notebooks.\n",
            "Please note that authentication is recommended but still optional to access public models or datasets.\n",
            "  warnings.warn(\n"
          ]
        },
        {
          "data": {
            "application/vnd.jupyter.widget-view+json": {
              "model_id": "f49ebf87df6d4ef5bbd75905cecca9c4",
              "version_major": 2,
              "version_minor": 0
            },
            "text/plain": [
              "tokenizer_config.json:   0%|          | 0.00/52.0 [00:00<?, ?B/s]"
            ]
          },
          "metadata": {},
          "output_type": "display_data"
        },
        {
          "data": {
            "application/vnd.jupyter.widget-view+json": {
              "model_id": "3bbd8b44bf924945a6de79614a7018f1",
              "version_major": 2,
              "version_minor": 0
            },
            "text/plain": [
              "config.json:   0%|          | 0.00/474 [00:00<?, ?B/s]"
            ]
          },
          "metadata": {},
          "output_type": "display_data"
        },
        {
          "data": {
            "application/vnd.jupyter.widget-view+json": {
              "model_id": "f8aafe48412a4038896dcc6019fa3e67",
              "version_major": 2,
              "version_minor": 0
            },
            "text/plain": [
              "vocab.json:   0%|          | 0.00/899k [00:00<?, ?B/s]"
            ]
          },
          "metadata": {},
          "output_type": "display_data"
        },
        {
          "data": {
            "application/vnd.jupyter.widget-view+json": {
              "model_id": "194e1e96a9604e62aaa098031dab6ca5",
              "version_major": 2,
              "version_minor": 0
            },
            "text/plain": [
              "merges.txt:   0%|          | 0.00/456k [00:00<?, ?B/s]"
            ]
          },
          "metadata": {},
          "output_type": "display_data"
        }
      ],
      "source": [
        "total_dataset = NewsDatasetMultilingual()"
      ]
    },
    {
      "cell_type": "code",
      "execution_count": null,
      "metadata": {
        "id": "9dQgHlfwM4nm"
      },
      "outputs": [],
      "source": [
        "class DeBERTaClassifier(nn.Module):\n",
        "    def __init__(self, num_labels):\n",
        "        super(DeBERTaClassifier, self).__init__()\n",
        "        self.bert = DebertaModel.from_pretrained('microsoft/deberta-base', return_dict=True)\n",
        "        self.dropout = nn.Dropout(0.1)\n",
        "        self.classifier = nn.Linear(self.bert.config.hidden_size, num_labels)\n",
        "\n",
        "\n",
        "    def forward(self, input_ids, attention_mask, labels=None):\n",
        "        outputs = self.bert(input_ids=input_ids, attention_mask=attention_mask)\n",
        "        # sequence_output = outputs.pooler_output\n",
        "        # sequence_output = self.dropout(sequence_output)\n",
        "        # logits = self.classifier(sequence_output)\n",
        "        cls_output = outputs.last_hidden_state[:, 0, :]\n",
        "        cls_output = self.dropout(cls_output)\n",
        "        logits = self.classifier(cls_output)\n",
        "\n",
        "        return logits"
      ]
    },
    {
      "cell_type": "code",
      "execution_count": null,
      "metadata": {
        "colab": {
          "base_uri": "https://localhost:8080/",
          "height": 49,
          "referenced_widgets": [
            "c9d8280fb15f4d7bb8c3df2ee4b21c79",
            "e3e5299b0b2342ab8282589cd197ef1b",
            "23c6db71651e427a83f01b254f968054",
            "6130c0007cdb4e1ca9a2bd8d52288ebc",
            "c0a7664aa9a34381ae5498af04d1d4b1",
            "2f76328b96c0486ea7c7e7c43fe20594",
            "b8c316feacdd44a08ddada75ab4cb249",
            "f8693ac8ac6a40859beb8920f705644a",
            "5a3bdff3682743828efa1ffe2aafe123",
            "ac52cb05959f4f64a8708f99e2efbdfe",
            "4c7881778f3f46cb84a02cccd1a4bc18"
          ]
        },
        "id": "yacA1-HZNoLJ",
        "outputId": "c5feb7ea-ef5a-4ff7-e506-64e12e2b4e7e"
      },
      "outputs": [
        {
          "data": {
            "application/vnd.jupyter.widget-view+json": {
              "model_id": "c9d8280fb15f4d7bb8c3df2ee4b21c79",
              "version_major": 2,
              "version_minor": 0
            },
            "text/plain": [
              "pytorch_model.bin:   0%|          | 0.00/559M [00:00<?, ?B/s]"
            ]
          },
          "metadata": {},
          "output_type": "display_data"
        }
      ],
      "source": [
        "model = DeBERTaClassifier(22).to(device)"
      ]
    },
    {
      "cell_type": "code",
      "execution_count": null,
      "metadata": {
        "id": "U-tzlZKNNLV6"
      },
      "outputs": [],
      "source": [
        "train_dataset, eval_dataset = random_split(total_dataset, [int(0.9 * len(total_dataset)), len(total_dataset) - int(0.9 * len(total_dataset))])\n",
        "train_data_loader = DataLoader(train_dataset, shuffle=True, batch_size=5)"
      ]
    },
    {
      "cell_type": "code",
      "execution_count": null,
      "metadata": {
        "colab": {
          "base_uri": "https://localhost:8080/"
        },
        "id": "Ifqeg5CNNQp6",
        "outputId": "a3f1aeb9-7d91-42bf-abaf-9d7543bdc1fa"
      },
      "outputs": [
        {
          "name": "stdout",
          "output_type": "stream",
          "text": [
            "epoch 0\n",
            "epoch 0 step 0 total loss 0.6784797310829163\n",
            "epoch 0 step 100 total loss 0.3301529884338379\n",
            "epoch 0 step 200 total loss 0.2000536471605301\n",
            "prediction (120, 22) actual (120, 22)\n",
            "epoch 0 eval f1 micro 0.06808510638297872 eval f1 macro 0.018648018648018648 eval f1 weighted 0.04308628966163213 eval f1 samples 0.06666666666666667\n",
            "epoch 1\n"
          ]
        },
        {
          "name": "stderr",
          "output_type": "stream",
          "text": [
            "/usr/local/lib/python3.10/dist-packages/sklearn/metrics/_classification.py:1531: UndefinedMetricWarning: F-score is ill-defined and being set to 0.0 in labels with no true nor predicted samples. Use `zero_division` parameter to control this behavior.\n",
            "  _warn_prf(average, modifier, f\"{metric.capitalize()} is\", len(result))\n",
            "/usr/local/lib/python3.10/dist-packages/sklearn/metrics/_classification.py:1531: UndefinedMetricWarning: F-score is ill-defined and being set to 0.0 in labels with no true nor predicted samples. Use `zero_division` parameter to control this behavior.\n",
            "  _warn_prf(average, modifier, f\"{metric.capitalize()} is\", len(result))\n"
          ]
        },
        {
          "name": "stdout",
          "output_type": "stream",
          "text": [
            "epoch 1 step 0 total loss 0.23632517457008362\n",
            "epoch 1 step 100 total loss 0.20639300346374512\n",
            "epoch 1 step 200 total loss 0.23894375562667847\n",
            "prediction (120, 22) actual (120, 22)\n",
            "epoch 1 eval f1 micro 0.0 eval f1 macro 0.0 eval f1 weighted 0.0 eval f1 samples 0.0\n",
            "epoch 2\n"
          ]
        },
        {
          "name": "stderr",
          "output_type": "stream",
          "text": [
            "/usr/local/lib/python3.10/dist-packages/sklearn/metrics/_classification.py:1531: UndefinedMetricWarning: F-score is ill-defined and being set to 0.0 in labels with no true nor predicted samples. Use `zero_division` parameter to control this behavior.\n",
            "  _warn_prf(average, modifier, f\"{metric.capitalize()} is\", len(result))\n",
            "/usr/local/lib/python3.10/dist-packages/sklearn/metrics/_classification.py:1531: UndefinedMetricWarning: F-score is ill-defined and being set to 0.0 in labels with no true nor predicted samples. Use `zero_division` parameter to control this behavior.\n",
            "  _warn_prf(average, modifier, f\"{metric.capitalize()} is\", len(result))\n"
          ]
        },
        {
          "name": "stdout",
          "output_type": "stream",
          "text": [
            "epoch 2 step 0 total loss 0.20566658675670624\n",
            "epoch 2 step 100 total loss 0.20445291697978973\n",
            "epoch 2 step 200 total loss 0.27983081340789795\n",
            "prediction (120, 22) actual (120, 22)\n",
            "epoch 2 eval f1 micro 0.21818181818181817 eval f1 macro 0.07720057720057719 eval f1 weighted 0.19232441835181563 eval f1 samples 0.1311111111111111\n",
            "epoch 3\n"
          ]
        },
        {
          "name": "stderr",
          "output_type": "stream",
          "text": [
            "/usr/local/lib/python3.10/dist-packages/sklearn/metrics/_classification.py:1531: UndefinedMetricWarning: F-score is ill-defined and being set to 0.0 in labels with no true nor predicted samples. Use `zero_division` parameter to control this behavior.\n",
            "  _warn_prf(average, modifier, f\"{metric.capitalize()} is\", len(result))\n",
            "/usr/local/lib/python3.10/dist-packages/sklearn/metrics/_classification.py:1531: UndefinedMetricWarning: F-score is ill-defined and being set to 0.0 in labels with no true nor predicted samples. Use `zero_division` parameter to control this behavior.\n",
            "  _warn_prf(average, modifier, f\"{metric.capitalize()} is\", len(result))\n"
          ]
        },
        {
          "name": "stdout",
          "output_type": "stream",
          "text": [
            "epoch 3 step 0 total loss 0.17336751520633698\n",
            "epoch 3 step 100 total loss 0.13374444842338562\n",
            "epoch 3 step 200 total loss 0.14533182978630066\n",
            "prediction (120, 22) actual (120, 22)\n",
            "epoch 3 eval f1 micro 0.30405405405405406 eval f1 macro 0.13613943483229768 eval f1 weighted 0.2593987861219903 eval f1 samples 0.20878968253968253\n",
            "epoch 4\n"
          ]
        },
        {
          "name": "stderr",
          "output_type": "stream",
          "text": [
            "/usr/local/lib/python3.10/dist-packages/sklearn/metrics/_classification.py:1531: UndefinedMetricWarning: F-score is ill-defined and being set to 0.0 in labels with no true nor predicted samples. Use `zero_division` parameter to control this behavior.\n",
            "  _warn_prf(average, modifier, f\"{metric.capitalize()} is\", len(result))\n",
            "/usr/local/lib/python3.10/dist-packages/sklearn/metrics/_classification.py:1531: UndefinedMetricWarning: F-score is ill-defined and being set to 0.0 in labels with no true nor predicted samples. Use `zero_division` parameter to control this behavior.\n",
            "  _warn_prf(average, modifier, f\"{metric.capitalize()} is\", len(result))\n"
          ]
        },
        {
          "name": "stdout",
          "output_type": "stream",
          "text": [
            "epoch 4 step 0 total loss 0.10798680782318115\n",
            "epoch 4 step 100 total loss 0.15694059431552887\n",
            "epoch 4 step 200 total loss 0.25312086939811707\n",
            "prediction (120, 22) actual (120, 22)\n",
            "epoch 4 eval f1 micro 0.31438127090301005 eval f1 macro 0.14333192243860993 eval f1 weighted 0.2806979069493719 eval f1 samples 0.1799957912457912\n",
            "Finished Training\n"
          ]
        },
        {
          "name": "stderr",
          "output_type": "stream",
          "text": [
            "/usr/local/lib/python3.10/dist-packages/sklearn/metrics/_classification.py:1531: UndefinedMetricWarning: F-score is ill-defined and being set to 0.0 in labels with no true nor predicted samples. Use `zero_division` parameter to control this behavior.\n",
            "  _warn_prf(average, modifier, f\"{metric.capitalize()} is\", len(result))\n",
            "/usr/local/lib/python3.10/dist-packages/sklearn/metrics/_classification.py:1531: UndefinedMetricWarning: F-score is ill-defined and being set to 0.0 in labels with no true nor predicted samples. Use `zero_division` parameter to control this behavior.\n",
            "  _warn_prf(average, modifier, f\"{metric.capitalize()} is\", len(result))\n"
          ]
        }
      ],
      "source": [
        "train_loss_history = []\n",
        "eval_f1_history = []\n",
        "\n",
        "bceLoss = nn.BCEWithLogitsLoss().to(device)\n",
        "optimizer = torch.optim.AdamW(model.parameters(), lr=3e-5)\n",
        "\n",
        "for epoch in range(5):\n",
        "    model.train()\n",
        "    print(\"epoch\", epoch)\n",
        "    for i, data in enumerate(train_data_loader, 0):\n",
        "        # print(\"epoch\", epoch, \"step\", i)\n",
        "        inputs = data\n",
        "        input_ids = inputs['input_ids'].squeeze(1).to(device)\n",
        "        attention_mask = inputs['attention_mask'].squeeze(1).to(device)\n",
        "        dominantLabels = inputs['narr_labels'].to(device)\n",
        "        # zero the parameter gradients\n",
        "        optimizer.zero_grad()\n",
        "        # print(\"shape of input\", inputs['input_ids'].shape, \"max\", torch.max(inputs['input_ids'], dim=0))\n",
        "        # forward + backward + optimize\n",
        "        # print(\"input_ids\", input_ids.shape, \"dominantLabels\", dominantLabels.shape)\n",
        "        outputs = model(input_ids, attention_mask).to(device)\n",
        "        # print(\"shape of output\", outputs.shape, \"labels\", labels.shape)\n",
        "        loss = bceLoss(outputs, dominantLabels)\n",
        "\n",
        "        train_loss_history.append(loss.item())\n",
        "        if i % 100 == 0:\n",
        "          print(\"epoch\", epoch, \"step\", i, \"total loss\", loss.item())\n",
        "\n",
        "        loss.backward()\n",
        "        optimizer.step()\n",
        "\n",
        "    eval_f1_micro, eval_f1_macro, eval_f1_weighted, eval_f1_samples = evaluate(model, eval_dataset, 'narr_labels')\n",
        "    eval_f1_history.append([eval_f1_micro, eval_f1_macro, eval_f1_weighted, eval_f1_samples])\n",
        "    print(\"epoch\", epoch, \"eval f1 micro\", eval_f1_micro, \"eval f1 macro\", eval_f1_macro, \"eval f1 weighted\", eval_f1_weighted, \"eval f1 samples\", eval_f1_samples)\n",
        "\n",
        "print('Finished Training')"
      ]
    },
    {
      "cell_type": "code",
      "execution_count": null,
      "metadata": {
        "colab": {
          "base_uri": "https://localhost:8080/"
        },
        "id": "k3cSgRHhYRFt",
        "outputId": "09d19521-8410-4377-ee75-8c8dc549daac"
      },
      "outputs": [
        {
          "name": "stdout",
          "output_type": "stream",
          "text": [
            "epoch 5\n",
            "epoch 5 step 0 total loss 0.1829933524131775\n",
            "epoch 5 step 100 total loss 0.16444499790668488\n",
            "epoch 5 step 200 total loss 0.17021027207374573\n",
            "prediction (120, 22) actual (120, 22)\n",
            "epoch 5 eval f1 micro 0.29152542372881357 eval f1 macro 0.13987901718164875 eval f1 weighted 0.2565400116319367 eval f1 samples 0.20715608465608465\n",
            "epoch 6\n"
          ]
        },
        {
          "name": "stderr",
          "output_type": "stream",
          "text": [
            "/usr/local/lib/python3.10/dist-packages/sklearn/metrics/_classification.py:1531: UndefinedMetricWarning: F-score is ill-defined and being set to 0.0 in labels with no true nor predicted samples. Use `zero_division` parameter to control this behavior.\n",
            "  _warn_prf(average, modifier, f\"{metric.capitalize()} is\", len(result))\n",
            "/usr/local/lib/python3.10/dist-packages/sklearn/metrics/_classification.py:1531: UndefinedMetricWarning: F-score is ill-defined and being set to 0.0 in labels with no true nor predicted samples. Use `zero_division` parameter to control this behavior.\n",
            "  _warn_prf(average, modifier, f\"{metric.capitalize()} is\", len(result))\n"
          ]
        },
        {
          "name": "stdout",
          "output_type": "stream",
          "text": [
            "epoch 6 step 0 total loss 0.1758723109960556\n",
            "epoch 6 step 100 total loss 0.17895790934562683\n",
            "epoch 6 step 200 total loss 0.12984901666641235\n",
            "prediction (120, 22) actual (120, 22)\n",
            "epoch 6 eval f1 micro 0.3291139240506329 eval f1 macro 0.14821074863242817 eval f1 weighted 0.2992784995584061 eval f1 samples 0.27403679653679647\n",
            "epoch 7\n"
          ]
        },
        {
          "name": "stderr",
          "output_type": "stream",
          "text": [
            "/usr/local/lib/python3.10/dist-packages/sklearn/metrics/_classification.py:1531: UndefinedMetricWarning: F-score is ill-defined and being set to 0.0 in labels with no true nor predicted samples. Use `zero_division` parameter to control this behavior.\n",
            "  _warn_prf(average, modifier, f\"{metric.capitalize()} is\", len(result))\n",
            "/usr/local/lib/python3.10/dist-packages/sklearn/metrics/_classification.py:1531: UndefinedMetricWarning: F-score is ill-defined and being set to 0.0 in labels with no true nor predicted samples. Use `zero_division` parameter to control this behavior.\n",
            "  _warn_prf(average, modifier, f\"{metric.capitalize()} is\", len(result))\n"
          ]
        },
        {
          "name": "stdout",
          "output_type": "stream",
          "text": [
            "epoch 7 step 0 total loss 0.2280624955892563\n",
            "epoch 7 step 100 total loss 0.10113441199064255\n",
            "epoch 7 step 200 total loss 0.12894868850708008\n",
            "prediction (120, 22) actual (120, 22)\n",
            "epoch 7 eval f1 micro 0.3375 eval f1 macro 0.16736719582569384 eval f1 weighted 0.30514310651296955 eval f1 samples 0.2698214285714286\n",
            "epoch 8\n"
          ]
        },
        {
          "name": "stderr",
          "output_type": "stream",
          "text": [
            "/usr/local/lib/python3.10/dist-packages/sklearn/metrics/_classification.py:1531: UndefinedMetricWarning: F-score is ill-defined and being set to 0.0 in labels with no true nor predicted samples. Use `zero_division` parameter to control this behavior.\n",
            "  _warn_prf(average, modifier, f\"{metric.capitalize()} is\", len(result))\n",
            "/usr/local/lib/python3.10/dist-packages/sklearn/metrics/_classification.py:1531: UndefinedMetricWarning: F-score is ill-defined and being set to 0.0 in labels with no true nor predicted samples. Use `zero_division` parameter to control this behavior.\n",
            "  _warn_prf(average, modifier, f\"{metric.capitalize()} is\", len(result))\n"
          ]
        },
        {
          "name": "stdout",
          "output_type": "stream",
          "text": [
            "epoch 8 step 0 total loss 0.12375824898481369\n",
            "epoch 8 step 100 total loss 0.055231187492609024\n",
            "epoch 8 step 200 total loss 0.09603504091501236\n",
            "prediction (120, 22) actual (120, 22)\n",
            "epoch 8 eval f1 micro 0.33766233766233766 eval f1 macro 0.16285970661969246 eval f1 weighted 0.3146988092393185 eval f1 samples 0.26328703703703704\n",
            "epoch 9\n"
          ]
        },
        {
          "name": "stderr",
          "output_type": "stream",
          "text": [
            "/usr/local/lib/python3.10/dist-packages/sklearn/metrics/_classification.py:1531: UndefinedMetricWarning: F-score is ill-defined and being set to 0.0 in labels with no true nor predicted samples. Use `zero_division` parameter to control this behavior.\n",
            "  _warn_prf(average, modifier, f\"{metric.capitalize()} is\", len(result))\n",
            "/usr/local/lib/python3.10/dist-packages/sklearn/metrics/_classification.py:1531: UndefinedMetricWarning: F-score is ill-defined and being set to 0.0 in labels with no true nor predicted samples. Use `zero_division` parameter to control this behavior.\n",
            "  _warn_prf(average, modifier, f\"{metric.capitalize()} is\", len(result))\n"
          ]
        },
        {
          "name": "stdout",
          "output_type": "stream",
          "text": [
            "epoch 9 step 0 total loss 0.17092835903167725\n",
            "epoch 9 step 100 total loss 0.08195503801107407\n",
            "epoch 9 step 200 total loss 0.18563134968280792\n",
            "prediction (120, 22) actual (120, 22)\n",
            "epoch 9 eval f1 micro 0.3829787234042553 eval f1 macro 0.16970532401605798 eval f1 weighted 0.3354174861609124 eval f1 samples 0.3288095238095238\n",
            "Finished Training\n"
          ]
        },
        {
          "name": "stderr",
          "output_type": "stream",
          "text": [
            "/usr/local/lib/python3.10/dist-packages/sklearn/metrics/_classification.py:1531: UndefinedMetricWarning: F-score is ill-defined and being set to 0.0 in labels with no true nor predicted samples. Use `zero_division` parameter to control this behavior.\n",
            "  _warn_prf(average, modifier, f\"{metric.capitalize()} is\", len(result))\n",
            "/usr/local/lib/python3.10/dist-packages/sklearn/metrics/_classification.py:1531: UndefinedMetricWarning: F-score is ill-defined and being set to 0.0 in labels with no true nor predicted samples. Use `zero_division` parameter to control this behavior.\n",
            "  _warn_prf(average, modifier, f\"{metric.capitalize()} is\", len(result))\n"
          ]
        }
      ],
      "source": [
        "for epoch in range(5, 10):\n",
        "    model.train()\n",
        "    print(\"epoch\", epoch)\n",
        "    for i, data in enumerate(train_data_loader, 0):\n",
        "        # print(\"epoch\", epoch, \"step\", i)\n",
        "        inputs = data\n",
        "        input_ids = inputs['input_ids'].squeeze(1).to(device)\n",
        "        attention_mask = inputs['attention_mask'].squeeze(1).to(device)\n",
        "        dominantLabels = inputs['narr_labels'].to(device)\n",
        "        # zero the parameter gradients\n",
        "        optimizer.zero_grad()\n",
        "        # print(\"shape of input\", inputs['input_ids'].shape, \"max\", torch.max(inputs['input_ids'], dim=0))\n",
        "        # forward + backward + optimize\n",
        "        # print(\"input_ids\", input_ids.shape, \"dominantLabels\", dominantLabels.shape)\n",
        "        outputs = model(input_ids, attention_mask).to(device)\n",
        "        # print(\"shape of output\", outputs.shape, \"labels\", labels.shape)\n",
        "        loss = bceLoss(outputs, dominantLabels)\n",
        "\n",
        "        train_loss_history.append(loss.item())\n",
        "        if i % 100 == 0:\n",
        "          print(\"epoch\", epoch, \"step\", i, \"total loss\", loss.item())\n",
        "\n",
        "        loss.backward()\n",
        "        optimizer.step()\n",
        "\n",
        "    eval_f1_micro, eval_f1_macro, eval_f1_weighted, eval_f1_samples = evaluate(model, eval_dataset, 'narr_labels')\n",
        "    eval_f1_history.append([eval_f1_micro, eval_f1_macro, eval_f1_weighted, eval_f1_samples])\n",
        "    print(\"epoch\", epoch, \"eval f1 micro\", eval_f1_micro, \"eval f1 macro\", eval_f1_macro, \"eval f1 weighted\", eval_f1_weighted, \"eval f1 samples\", eval_f1_samples)\n",
        "\n",
        "print('Finished Training')"
      ]
    },
    {
      "cell_type": "code",
      "execution_count": null,
      "metadata": {
        "colab": {
          "base_uri": "https://localhost:8080/"
        },
        "id": "q2VOFugdOJjM",
        "outputId": "e3f2efc6-618a-49d7-917f-2823233abc65"
      },
      "outputs": [
        {
          "name": "stdout",
          "output_type": "stream",
          "text": [
            "prediction (1080, 22) actual (1080, 22)\n",
            "train f1 micro 0.7366436203645506 train f1 macro 0.6072887447876355 train f1 weighted 0.7115202219970236 train f1 samples 0.6251945276945277\n"
          ]
        }
      ],
      "source": [
        "train_f1_micro, train_f1_macro, train_f1_weighted, train_f1_samples = evaluate(model, train_dataset, 'narr_labels')\n",
        "print(\"train f1 micro\", train_f1_micro, \"train f1 macro\", train_f1_macro, \"train f1 weighted\", train_f1_weighted, \"train f1 samples\", train_f1_samples)"
      ]
    },
    {
      "cell_type": "code",
      "execution_count": null,
      "metadata": {
        "id": "2IXoN5b8f5Gk"
      },
      "outputs": [],
      "source": []
    }
  ],
  "metadata": {
    "accelerator": "GPU",
    "colab": {
      "gpuType": "T4",
      "provenance": []
    },
    "kernelspec": {
      "display_name": "Python 3",
      "name": "python3"
    },
    "language_info": {
      "name": "python"
    },
    "widgets": {
      "application/vnd.jupyter.widget-state+json": {
        "035454f616594f6395ebd15aca4e3fbd": {
          "model_module": "@jupyter-widgets/controls",
          "model_module_version": "1.5.0",
          "model_name": "HTMLModel",
          "state": {
            "_dom_classes": [],
            "_model_module": "@jupyter-widgets/controls",
            "_model_module_version": "1.5.0",
            "_model_name": "HTMLModel",
            "_view_count": null,
            "_view_module": "@jupyter-widgets/controls",
            "_view_module_version": "1.5.0",
            "_view_name": "HTMLView",
            "description": "",
            "description_tooltip": null,
            "layout": "IPY_MODEL_a06e0e8dafdb48edba4a88b597d8f9e3",
            "placeholder": "​",
            "style": "IPY_MODEL_36fdd66dead94942b477c5d8a06557da",
            "value": "model.safetensors: 100%"
          }
        },
        "0da641c95a484708b8dbe0dd3539983d": {
          "model_module": "@jupyter-widgets/controls",
          "model_module_version": "1.5.0",
          "model_name": "HTMLModel",
          "state": {
            "_dom_classes": [],
            "_model_module": "@jupyter-widgets/controls",
            "_model_module_version": "1.5.0",
            "_model_name": "HTMLModel",
            "_view_count": null,
            "_view_module": "@jupyter-widgets/controls",
            "_view_module_version": "1.5.0",
            "_view_name": "HTMLView",
            "description": "",
            "description_tooltip": null,
            "layout": "IPY_MODEL_fa0b902f86b74e54a5de44ef45afa422",
            "placeholder": "​",
            "style": "IPY_MODEL_4d3661535d06410bb45a944343924d28",
            "value": " 52.0/52.0 [00:00&lt;00:00, 3.06kB/s]"
          }
        },
        "0fde1d3d37b64e209eccf395fc7b2a52": {
          "model_module": "@jupyter-widgets/controls",
          "model_module_version": "1.5.0",
          "model_name": "DescriptionStyleModel",
          "state": {
            "_model_module": "@jupyter-widgets/controls",
            "_model_module_version": "1.5.0",
            "_model_name": "DescriptionStyleModel",
            "_view_count": null,
            "_view_module": "@jupyter-widgets/base",
            "_view_module_version": "1.2.0",
            "_view_name": "StyleView",
            "description_width": ""
          }
        },
        "1014c118658e45b89e0ca2b1a2eb0e88": {
          "model_module": "@jupyter-widgets/controls",
          "model_module_version": "1.5.0",
          "model_name": "FloatProgressModel",
          "state": {
            "_dom_classes": [],
            "_model_module": "@jupyter-widgets/controls",
            "_model_module_version": "1.5.0",
            "_model_name": "FloatProgressModel",
            "_view_count": null,
            "_view_module": "@jupyter-widgets/controls",
            "_view_module_version": "1.5.0",
            "_view_name": "ProgressView",
            "bar_style": "success",
            "description": "",
            "description_tooltip": null,
            "layout": "IPY_MODEL_8936b4a500894266bcd52ea32f051701",
            "max": 898825,
            "min": 0,
            "orientation": "horizontal",
            "style": "IPY_MODEL_bbc0ce6e54ca431e921c72825accb475",
            "value": 898825
          }
        },
        "10ecb52c3a2848e2af95a668b614e4dd": {
          "model_module": "@jupyter-widgets/controls",
          "model_module_version": "1.5.0",
          "model_name": "HTMLModel",
          "state": {
            "_dom_classes": [],
            "_model_module": "@jupyter-widgets/controls",
            "_model_module_version": "1.5.0",
            "_model_name": "HTMLModel",
            "_view_count": null,
            "_view_module": "@jupyter-widgets/controls",
            "_view_module_version": "1.5.0",
            "_view_name": "HTMLView",
            "description": "",
            "description_tooltip": null,
            "layout": "IPY_MODEL_bff0bb454e9f4936ab2dc06c5b6d05bb",
            "placeholder": "​",
            "style": "IPY_MODEL_8886503529e746dabbbacb6340845db8",
            "value": " 474/474 [00:00&lt;00:00, 32.2kB/s]"
          }
        },
        "16f0c6c87865494d8f9ee864eadb7625": {
          "model_module": "@jupyter-widgets/controls",
          "model_module_version": "1.5.0",
          "model_name": "ProgressStyleModel",
          "state": {
            "_model_module": "@jupyter-widgets/controls",
            "_model_module_version": "1.5.0",
            "_model_name": "ProgressStyleModel",
            "_view_count": null,
            "_view_module": "@jupyter-widgets/base",
            "_view_module_version": "1.2.0",
            "_view_name": "StyleView",
            "bar_color": null,
            "description_width": ""
          }
        },
        "194e1e96a9604e62aaa098031dab6ca5": {
          "model_module": "@jupyter-widgets/controls",
          "model_module_version": "1.5.0",
          "model_name": "HBoxModel",
          "state": {
            "_dom_classes": [],
            "_model_module": "@jupyter-widgets/controls",
            "_model_module_version": "1.5.0",
            "_model_name": "HBoxModel",
            "_view_count": null,
            "_view_module": "@jupyter-widgets/controls",
            "_view_module_version": "1.5.0",
            "_view_name": "HBoxView",
            "box_style": "",
            "children": [
              "IPY_MODEL_df5eb1b2f0e84a73bb145fa9b87b8b1a",
              "IPY_MODEL_f957390d6bb948eb8cec042ef6131c55",
              "IPY_MODEL_b4e44fea5abe43888530b3e152a4eeed"
            ],
            "layout": "IPY_MODEL_35e90dea92a7491595ccd1d2d1cae334"
          }
        },
        "1e9da2edec6849fc83b1d9047f576b7c": {
          "model_module": "@jupyter-widgets/base",
          "model_module_version": "1.2.0",
          "model_name": "LayoutModel",
          "state": {
            "_model_module": "@jupyter-widgets/base",
            "_model_module_version": "1.2.0",
            "_model_name": "LayoutModel",
            "_view_count": null,
            "_view_module": "@jupyter-widgets/base",
            "_view_module_version": "1.2.0",
            "_view_name": "LayoutView",
            "align_content": null,
            "align_items": null,
            "align_self": null,
            "border": null,
            "bottom": null,
            "display": null,
            "flex": null,
            "flex_flow": null,
            "grid_area": null,
            "grid_auto_columns": null,
            "grid_auto_flow": null,
            "grid_auto_rows": null,
            "grid_column": null,
            "grid_gap": null,
            "grid_row": null,
            "grid_template_areas": null,
            "grid_template_columns": null,
            "grid_template_rows": null,
            "height": null,
            "justify_content": null,
            "justify_items": null,
            "left": null,
            "margin": null,
            "max_height": null,
            "max_width": null,
            "min_height": null,
            "min_width": null,
            "object_fit": null,
            "object_position": null,
            "order": null,
            "overflow": null,
            "overflow_x": null,
            "overflow_y": null,
            "padding": null,
            "right": null,
            "top": null,
            "visibility": null,
            "width": null
          }
        },
        "23c6db71651e427a83f01b254f968054": {
          "model_module": "@jupyter-widgets/controls",
          "model_module_version": "1.5.0",
          "model_name": "FloatProgressModel",
          "state": {
            "_dom_classes": [],
            "_model_module": "@jupyter-widgets/controls",
            "_model_module_version": "1.5.0",
            "_model_name": "FloatProgressModel",
            "_view_count": null,
            "_view_module": "@jupyter-widgets/controls",
            "_view_module_version": "1.5.0",
            "_view_name": "ProgressView",
            "bar_style": "success",
            "description": "",
            "description_tooltip": null,
            "layout": "IPY_MODEL_f8693ac8ac6a40859beb8920f705644a",
            "max": 558614189,
            "min": 0,
            "orientation": "horizontal",
            "style": "IPY_MODEL_5a3bdff3682743828efa1ffe2aafe123",
            "value": 558614189
          }
        },
        "2f76328b96c0486ea7c7e7c43fe20594": {
          "model_module": "@jupyter-widgets/base",
          "model_module_version": "1.2.0",
          "model_name": "LayoutModel",
          "state": {
            "_model_module": "@jupyter-widgets/base",
            "_model_module_version": "1.2.0",
            "_model_name": "LayoutModel",
            "_view_count": null,
            "_view_module": "@jupyter-widgets/base",
            "_view_module_version": "1.2.0",
            "_view_name": "LayoutView",
            "align_content": null,
            "align_items": null,
            "align_self": null,
            "border": null,
            "bottom": null,
            "display": null,
            "flex": null,
            "flex_flow": null,
            "grid_area": null,
            "grid_auto_columns": null,
            "grid_auto_flow": null,
            "grid_auto_rows": null,
            "grid_column": null,
            "grid_gap": null,
            "grid_row": null,
            "grid_template_areas": null,
            "grid_template_columns": null,
            "grid_template_rows": null,
            "height": null,
            "justify_content": null,
            "justify_items": null,
            "left": null,
            "margin": null,
            "max_height": null,
            "max_width": null,
            "min_height": null,
            "min_width": null,
            "object_fit": null,
            "object_position": null,
            "order": null,
            "overflow": null,
            "overflow_x": null,
            "overflow_y": null,
            "padding": null,
            "right": null,
            "top": null,
            "visibility": null,
            "width": null
          }
        },
        "35e90dea92a7491595ccd1d2d1cae334": {
          "model_module": "@jupyter-widgets/base",
          "model_module_version": "1.2.0",
          "model_name": "LayoutModel",
          "state": {
            "_model_module": "@jupyter-widgets/base",
            "_model_module_version": "1.2.0",
            "_model_name": "LayoutModel",
            "_view_count": null,
            "_view_module": "@jupyter-widgets/base",
            "_view_module_version": "1.2.0",
            "_view_name": "LayoutView",
            "align_content": null,
            "align_items": null,
            "align_self": null,
            "border": null,
            "bottom": null,
            "display": null,
            "flex": null,
            "flex_flow": null,
            "grid_area": null,
            "grid_auto_columns": null,
            "grid_auto_flow": null,
            "grid_auto_rows": null,
            "grid_column": null,
            "grid_gap": null,
            "grid_row": null,
            "grid_template_areas": null,
            "grid_template_columns": null,
            "grid_template_rows": null,
            "height": null,
            "justify_content": null,
            "justify_items": null,
            "left": null,
            "margin": null,
            "max_height": null,
            "max_width": null,
            "min_height": null,
            "min_width": null,
            "object_fit": null,
            "object_position": null,
            "order": null,
            "overflow": null,
            "overflow_x": null,
            "overflow_y": null,
            "padding": null,
            "right": null,
            "top": null,
            "visibility": null,
            "width": null
          }
        },
        "36fdd66dead94942b477c5d8a06557da": {
          "model_module": "@jupyter-widgets/controls",
          "model_module_version": "1.5.0",
          "model_name": "DescriptionStyleModel",
          "state": {
            "_model_module": "@jupyter-widgets/controls",
            "_model_module_version": "1.5.0",
            "_model_name": "DescriptionStyleModel",
            "_view_count": null,
            "_view_module": "@jupyter-widgets/base",
            "_view_module_version": "1.2.0",
            "_view_name": "StyleView",
            "description_width": ""
          }
        },
        "384013a4fe384f388943d117c2778f09": {
          "model_module": "@jupyter-widgets/controls",
          "model_module_version": "1.5.0",
          "model_name": "DescriptionStyleModel",
          "state": {
            "_model_module": "@jupyter-widgets/controls",
            "_model_module_version": "1.5.0",
            "_model_name": "DescriptionStyleModel",
            "_view_count": null,
            "_view_module": "@jupyter-widgets/base",
            "_view_module_version": "1.2.0",
            "_view_name": "StyleView",
            "description_width": ""
          }
        },
        "3881ccedd4564af3ac0afaedb1331ea2": {
          "model_module": "@jupyter-widgets/controls",
          "model_module_version": "1.5.0",
          "model_name": "HTMLModel",
          "state": {
            "_dom_classes": [],
            "_model_module": "@jupyter-widgets/controls",
            "_model_module_version": "1.5.0",
            "_model_name": "HTMLModel",
            "_view_count": null,
            "_view_module": "@jupyter-widgets/controls",
            "_view_module_version": "1.5.0",
            "_view_name": "HTMLView",
            "description": "",
            "description_tooltip": null,
            "layout": "IPY_MODEL_c1cd3405e3d6486ebaecce1a3b83647c",
            "placeholder": "​",
            "style": "IPY_MODEL_384013a4fe384f388943d117c2778f09",
            "value": " 672M/672M [00:07&lt;00:00, 160MB/s]"
          }
        },
        "389671fbe8af4a069271fa616fc5d36d": {
          "model_module": "@jupyter-widgets/base",
          "model_module_version": "1.2.0",
          "model_name": "LayoutModel",
          "state": {
            "_model_module": "@jupyter-widgets/base",
            "_model_module_version": "1.2.0",
            "_model_name": "LayoutModel",
            "_view_count": null,
            "_view_module": "@jupyter-widgets/base",
            "_view_module_version": "1.2.0",
            "_view_name": "LayoutView",
            "align_content": null,
            "align_items": null,
            "align_self": null,
            "border": null,
            "bottom": null,
            "display": null,
            "flex": null,
            "flex_flow": null,
            "grid_area": null,
            "grid_auto_columns": null,
            "grid_auto_flow": null,
            "grid_auto_rows": null,
            "grid_column": null,
            "grid_gap": null,
            "grid_row": null,
            "grid_template_areas": null,
            "grid_template_columns": null,
            "grid_template_rows": null,
            "height": null,
            "justify_content": null,
            "justify_items": null,
            "left": null,
            "margin": null,
            "max_height": null,
            "max_width": null,
            "min_height": null,
            "min_width": null,
            "object_fit": null,
            "object_position": null,
            "order": null,
            "overflow": null,
            "overflow_x": null,
            "overflow_y": null,
            "padding": null,
            "right": null,
            "top": null,
            "visibility": null,
            "width": null
          }
        },
        "3bbd8b44bf924945a6de79614a7018f1": {
          "model_module": "@jupyter-widgets/controls",
          "model_module_version": "1.5.0",
          "model_name": "HBoxModel",
          "state": {
            "_dom_classes": [],
            "_model_module": "@jupyter-widgets/controls",
            "_model_module_version": "1.5.0",
            "_model_name": "HBoxModel",
            "_view_count": null,
            "_view_module": "@jupyter-widgets/controls",
            "_view_module_version": "1.5.0",
            "_view_name": "HBoxView",
            "box_style": "",
            "children": [
              "IPY_MODEL_8262202aa70e4b1b872f18f9de03dfad",
              "IPY_MODEL_65e3be6ad6524a4296f6e755c4a6c94b",
              "IPY_MODEL_10ecb52c3a2848e2af95a668b614e4dd"
            ],
            "layout": "IPY_MODEL_389671fbe8af4a069271fa616fc5d36d"
          }
        },
        "3dee593d013947c7b4bb0b802788817b": {
          "model_module": "@jupyter-widgets/controls",
          "model_module_version": "1.5.0",
          "model_name": "ProgressStyleModel",
          "state": {
            "_model_module": "@jupyter-widgets/controls",
            "_model_module_version": "1.5.0",
            "_model_name": "ProgressStyleModel",
            "_view_count": null,
            "_view_module": "@jupyter-widgets/base",
            "_view_module_version": "1.2.0",
            "_view_name": "StyleView",
            "bar_color": null,
            "description_width": ""
          }
        },
        "4c1a93ee393b492493148f3b1f823439": {
          "model_module": "@jupyter-widgets/base",
          "model_module_version": "1.2.0",
          "model_name": "LayoutModel",
          "state": {
            "_model_module": "@jupyter-widgets/base",
            "_model_module_version": "1.2.0",
            "_model_name": "LayoutModel",
            "_view_count": null,
            "_view_module": "@jupyter-widgets/base",
            "_view_module_version": "1.2.0",
            "_view_name": "LayoutView",
            "align_content": null,
            "align_items": null,
            "align_self": null,
            "border": null,
            "bottom": null,
            "display": null,
            "flex": null,
            "flex_flow": null,
            "grid_area": null,
            "grid_auto_columns": null,
            "grid_auto_flow": null,
            "grid_auto_rows": null,
            "grid_column": null,
            "grid_gap": null,
            "grid_row": null,
            "grid_template_areas": null,
            "grid_template_columns": null,
            "grid_template_rows": null,
            "height": null,
            "justify_content": null,
            "justify_items": null,
            "left": null,
            "margin": null,
            "max_height": null,
            "max_width": null,
            "min_height": null,
            "min_width": null,
            "object_fit": null,
            "object_position": null,
            "order": null,
            "overflow": null,
            "overflow_x": null,
            "overflow_y": null,
            "padding": null,
            "right": null,
            "top": null,
            "visibility": null,
            "width": null
          }
        },
        "4c7881778f3f46cb84a02cccd1a4bc18": {
          "model_module": "@jupyter-widgets/controls",
          "model_module_version": "1.5.0",
          "model_name": "DescriptionStyleModel",
          "state": {
            "_model_module": "@jupyter-widgets/controls",
            "_model_module_version": "1.5.0",
            "_model_name": "DescriptionStyleModel",
            "_view_count": null,
            "_view_module": "@jupyter-widgets/base",
            "_view_module_version": "1.2.0",
            "_view_name": "StyleView",
            "description_width": ""
          }
        },
        "4d3661535d06410bb45a944343924d28": {
          "model_module": "@jupyter-widgets/controls",
          "model_module_version": "1.5.0",
          "model_name": "DescriptionStyleModel",
          "state": {
            "_model_module": "@jupyter-widgets/controls",
            "_model_module_version": "1.5.0",
            "_model_name": "DescriptionStyleModel",
            "_view_count": null,
            "_view_module": "@jupyter-widgets/base",
            "_view_module_version": "1.2.0",
            "_view_name": "StyleView",
            "description_width": ""
          }
        },
        "50473a78263c44f8993126ba1713362f": {
          "model_module": "@jupyter-widgets/base",
          "model_module_version": "1.2.0",
          "model_name": "LayoutModel",
          "state": {
            "_model_module": "@jupyter-widgets/base",
            "_model_module_version": "1.2.0",
            "_model_name": "LayoutModel",
            "_view_count": null,
            "_view_module": "@jupyter-widgets/base",
            "_view_module_version": "1.2.0",
            "_view_name": "LayoutView",
            "align_content": null,
            "align_items": null,
            "align_self": null,
            "border": null,
            "bottom": null,
            "display": null,
            "flex": null,
            "flex_flow": null,
            "grid_area": null,
            "grid_auto_columns": null,
            "grid_auto_flow": null,
            "grid_auto_rows": null,
            "grid_column": null,
            "grid_gap": null,
            "grid_row": null,
            "grid_template_areas": null,
            "grid_template_columns": null,
            "grid_template_rows": null,
            "height": null,
            "justify_content": null,
            "justify_items": null,
            "left": null,
            "margin": null,
            "max_height": null,
            "max_width": null,
            "min_height": null,
            "min_width": null,
            "object_fit": null,
            "object_position": null,
            "order": null,
            "overflow": null,
            "overflow_x": null,
            "overflow_y": null,
            "padding": null,
            "right": null,
            "top": null,
            "visibility": null,
            "width": null
          }
        },
        "57954a241bdf490cb553f40df304e853": {
          "model_module": "@jupyter-widgets/base",
          "model_module_version": "1.2.0",
          "model_name": "LayoutModel",
          "state": {
            "_model_module": "@jupyter-widgets/base",
            "_model_module_version": "1.2.0",
            "_model_name": "LayoutModel",
            "_view_count": null,
            "_view_module": "@jupyter-widgets/base",
            "_view_module_version": "1.2.0",
            "_view_name": "LayoutView",
            "align_content": null,
            "align_items": null,
            "align_self": null,
            "border": null,
            "bottom": null,
            "display": null,
            "flex": null,
            "flex_flow": null,
            "grid_area": null,
            "grid_auto_columns": null,
            "grid_auto_flow": null,
            "grid_auto_rows": null,
            "grid_column": null,
            "grid_gap": null,
            "grid_row": null,
            "grid_template_areas": null,
            "grid_template_columns": null,
            "grid_template_rows": null,
            "height": null,
            "justify_content": null,
            "justify_items": null,
            "left": null,
            "margin": null,
            "max_height": null,
            "max_width": null,
            "min_height": null,
            "min_width": null,
            "object_fit": null,
            "object_position": null,
            "order": null,
            "overflow": null,
            "overflow_x": null,
            "overflow_y": null,
            "padding": null,
            "right": null,
            "top": null,
            "visibility": null,
            "width": null
          }
        },
        "5a3bdff3682743828efa1ffe2aafe123": {
          "model_module": "@jupyter-widgets/controls",
          "model_module_version": "1.5.0",
          "model_name": "ProgressStyleModel",
          "state": {
            "_model_module": "@jupyter-widgets/controls",
            "_model_module_version": "1.5.0",
            "_model_name": "ProgressStyleModel",
            "_view_count": null,
            "_view_module": "@jupyter-widgets/base",
            "_view_module_version": "1.2.0",
            "_view_name": "StyleView",
            "bar_color": null,
            "description_width": ""
          }
        },
        "5ad915a103fe4915aabf38fd4bbd37d1": {
          "model_module": "@jupyter-widgets/base",
          "model_module_version": "1.2.0",
          "model_name": "LayoutModel",
          "state": {
            "_model_module": "@jupyter-widgets/base",
            "_model_module_version": "1.2.0",
            "_model_name": "LayoutModel",
            "_view_count": null,
            "_view_module": "@jupyter-widgets/base",
            "_view_module_version": "1.2.0",
            "_view_name": "LayoutView",
            "align_content": null,
            "align_items": null,
            "align_self": null,
            "border": null,
            "bottom": null,
            "display": null,
            "flex": null,
            "flex_flow": null,
            "grid_area": null,
            "grid_auto_columns": null,
            "grid_auto_flow": null,
            "grid_auto_rows": null,
            "grid_column": null,
            "grid_gap": null,
            "grid_row": null,
            "grid_template_areas": null,
            "grid_template_columns": null,
            "grid_template_rows": null,
            "height": null,
            "justify_content": null,
            "justify_items": null,
            "left": null,
            "margin": null,
            "max_height": null,
            "max_width": null,
            "min_height": null,
            "min_width": null,
            "object_fit": null,
            "object_position": null,
            "order": null,
            "overflow": null,
            "overflow_x": null,
            "overflow_y": null,
            "padding": null,
            "right": null,
            "top": null,
            "visibility": null,
            "width": null
          }
        },
        "6130c0007cdb4e1ca9a2bd8d52288ebc": {
          "model_module": "@jupyter-widgets/controls",
          "model_module_version": "1.5.0",
          "model_name": "HTMLModel",
          "state": {
            "_dom_classes": [],
            "_model_module": "@jupyter-widgets/controls",
            "_model_module_version": "1.5.0",
            "_model_name": "HTMLModel",
            "_view_count": null,
            "_view_module": "@jupyter-widgets/controls",
            "_view_module_version": "1.5.0",
            "_view_name": "HTMLView",
            "description": "",
            "description_tooltip": null,
            "layout": "IPY_MODEL_ac52cb05959f4f64a8708f99e2efbdfe",
            "placeholder": "​",
            "style": "IPY_MODEL_4c7881778f3f46cb84a02cccd1a4bc18",
            "value": " 559M/559M [00:02&lt;00:00, 252MB/s]"
          }
        },
        "6405e2051e16473092e52ff77b57c940": {
          "model_module": "@jupyter-widgets/controls",
          "model_module_version": "1.5.0",
          "model_name": "ProgressStyleModel",
          "state": {
            "_model_module": "@jupyter-widgets/controls",
            "_model_module_version": "1.5.0",
            "_model_name": "ProgressStyleModel",
            "_view_count": null,
            "_view_module": "@jupyter-widgets/base",
            "_view_module_version": "1.2.0",
            "_view_name": "StyleView",
            "bar_color": null,
            "description_width": ""
          }
        },
        "6557d59df59843fe8a5c6e994846c657": {
          "model_module": "@jupyter-widgets/controls",
          "model_module_version": "1.5.0",
          "model_name": "HTMLModel",
          "state": {
            "_dom_classes": [],
            "_model_module": "@jupyter-widgets/controls",
            "_model_module_version": "1.5.0",
            "_model_name": "HTMLModel",
            "_view_count": null,
            "_view_module": "@jupyter-widgets/controls",
            "_view_module_version": "1.5.0",
            "_view_name": "HTMLView",
            "description": "",
            "description_tooltip": null,
            "layout": "IPY_MODEL_50473a78263c44f8993126ba1713362f",
            "placeholder": "​",
            "style": "IPY_MODEL_810d551cb03747ba96fdd28d7ab51293",
            "value": "tokenizer_config.json: 100%"
          }
        },
        "65e3be6ad6524a4296f6e755c4a6c94b": {
          "model_module": "@jupyter-widgets/controls",
          "model_module_version": "1.5.0",
          "model_name": "FloatProgressModel",
          "state": {
            "_dom_classes": [],
            "_model_module": "@jupyter-widgets/controls",
            "_model_module_version": "1.5.0",
            "_model_name": "FloatProgressModel",
            "_view_count": null,
            "_view_module": "@jupyter-widgets/controls",
            "_view_module_version": "1.5.0",
            "_view_name": "ProgressView",
            "bar_style": "success",
            "description": "",
            "description_tooltip": null,
            "layout": "IPY_MODEL_57954a241bdf490cb553f40df304e853",
            "max": 474,
            "min": 0,
            "orientation": "horizontal",
            "style": "IPY_MODEL_3dee593d013947c7b4bb0b802788817b",
            "value": 474
          }
        },
        "810d551cb03747ba96fdd28d7ab51293": {
          "model_module": "@jupyter-widgets/controls",
          "model_module_version": "1.5.0",
          "model_name": "DescriptionStyleModel",
          "state": {
            "_model_module": "@jupyter-widgets/controls",
            "_model_module_version": "1.5.0",
            "_model_name": "DescriptionStyleModel",
            "_view_count": null,
            "_view_module": "@jupyter-widgets/base",
            "_view_module_version": "1.2.0",
            "_view_name": "StyleView",
            "description_width": ""
          }
        },
        "8262202aa70e4b1b872f18f9de03dfad": {
          "model_module": "@jupyter-widgets/controls",
          "model_module_version": "1.5.0",
          "model_name": "HTMLModel",
          "state": {
            "_dom_classes": [],
            "_model_module": "@jupyter-widgets/controls",
            "_model_module_version": "1.5.0",
            "_model_name": "HTMLModel",
            "_view_count": null,
            "_view_module": "@jupyter-widgets/controls",
            "_view_module_version": "1.5.0",
            "_view_name": "HTMLView",
            "description": "",
            "description_tooltip": null,
            "layout": "IPY_MODEL_f0d26ecd421749f197c9bff5347c3e56",
            "placeholder": "​",
            "style": "IPY_MODEL_f98b69ba879640a8af51801855da61be",
            "value": "config.json: 100%"
          }
        },
        "8886503529e746dabbbacb6340845db8": {
          "model_module": "@jupyter-widgets/controls",
          "model_module_version": "1.5.0",
          "model_name": "DescriptionStyleModel",
          "state": {
            "_model_module": "@jupyter-widgets/controls",
            "_model_module_version": "1.5.0",
            "_model_name": "DescriptionStyleModel",
            "_view_count": null,
            "_view_module": "@jupyter-widgets/base",
            "_view_module_version": "1.2.0",
            "_view_name": "StyleView",
            "description_width": ""
          }
        },
        "8936b4a500894266bcd52ea32f051701": {
          "model_module": "@jupyter-widgets/base",
          "model_module_version": "1.2.0",
          "model_name": "LayoutModel",
          "state": {
            "_model_module": "@jupyter-widgets/base",
            "_model_module_version": "1.2.0",
            "_model_name": "LayoutModel",
            "_view_count": null,
            "_view_module": "@jupyter-widgets/base",
            "_view_module_version": "1.2.0",
            "_view_name": "LayoutView",
            "align_content": null,
            "align_items": null,
            "align_self": null,
            "border": null,
            "bottom": null,
            "display": null,
            "flex": null,
            "flex_flow": null,
            "grid_area": null,
            "grid_auto_columns": null,
            "grid_auto_flow": null,
            "grid_auto_rows": null,
            "grid_column": null,
            "grid_gap": null,
            "grid_row": null,
            "grid_template_areas": null,
            "grid_template_columns": null,
            "grid_template_rows": null,
            "height": null,
            "justify_content": null,
            "justify_items": null,
            "left": null,
            "margin": null,
            "max_height": null,
            "max_width": null,
            "min_height": null,
            "min_width": null,
            "object_fit": null,
            "object_position": null,
            "order": null,
            "overflow": null,
            "overflow_x": null,
            "overflow_y": null,
            "padding": null,
            "right": null,
            "top": null,
            "visibility": null,
            "width": null
          }
        },
        "932f95eaa6894e54ba93d8f7fa2af6d3": {
          "model_module": "@jupyter-widgets/controls",
          "model_module_version": "1.5.0",
          "model_name": "HTMLModel",
          "state": {
            "_dom_classes": [],
            "_model_module": "@jupyter-widgets/controls",
            "_model_module_version": "1.5.0",
            "_model_name": "HTMLModel",
            "_view_count": null,
            "_view_module": "@jupyter-widgets/controls",
            "_view_module_version": "1.5.0",
            "_view_name": "HTMLView",
            "description": "",
            "description_tooltip": null,
            "layout": "IPY_MODEL_1e9da2edec6849fc83b1d9047f576b7c",
            "placeholder": "​",
            "style": "IPY_MODEL_9f2bdcb317024985b0d2c8d97e3d23b3",
            "value": " 899k/899k [00:00&lt;00:00, 4.28MB/s]"
          }
        },
        "933f5263b481451ba4a348faa4b7ed83": {
          "model_module": "@jupyter-widgets/controls",
          "model_module_version": "1.5.0",
          "model_name": "FloatProgressModel",
          "state": {
            "_dom_classes": [],
            "_model_module": "@jupyter-widgets/controls",
            "_model_module_version": "1.5.0",
            "_model_name": "FloatProgressModel",
            "_view_count": null,
            "_view_module": "@jupyter-widgets/controls",
            "_view_module_version": "1.5.0",
            "_view_name": "ProgressView",
            "bar_style": "success",
            "description": "",
            "description_tooltip": null,
            "layout": "IPY_MODEL_af514a08b1ef42419f3837b43e0f7b89",
            "max": 52,
            "min": 0,
            "orientation": "horizontal",
            "style": "IPY_MODEL_16f0c6c87865494d8f9ee864eadb7625",
            "value": 52
          }
        },
        "9f2bdcb317024985b0d2c8d97e3d23b3": {
          "model_module": "@jupyter-widgets/controls",
          "model_module_version": "1.5.0",
          "model_name": "DescriptionStyleModel",
          "state": {
            "_model_module": "@jupyter-widgets/controls",
            "_model_module_version": "1.5.0",
            "_model_name": "DescriptionStyleModel",
            "_view_count": null,
            "_view_module": "@jupyter-widgets/base",
            "_view_module_version": "1.2.0",
            "_view_name": "StyleView",
            "description_width": ""
          }
        },
        "9fb5c79fbe3c437f96c0fc8cae91fcc8": {
          "model_module": "@jupyter-widgets/base",
          "model_module_version": "1.2.0",
          "model_name": "LayoutModel",
          "state": {
            "_model_module": "@jupyter-widgets/base",
            "_model_module_version": "1.2.0",
            "_model_name": "LayoutModel",
            "_view_count": null,
            "_view_module": "@jupyter-widgets/base",
            "_view_module_version": "1.2.0",
            "_view_name": "LayoutView",
            "align_content": null,
            "align_items": null,
            "align_self": null,
            "border": null,
            "bottom": null,
            "display": null,
            "flex": null,
            "flex_flow": null,
            "grid_area": null,
            "grid_auto_columns": null,
            "grid_auto_flow": null,
            "grid_auto_rows": null,
            "grid_column": null,
            "grid_gap": null,
            "grid_row": null,
            "grid_template_areas": null,
            "grid_template_columns": null,
            "grid_template_rows": null,
            "height": null,
            "justify_content": null,
            "justify_items": null,
            "left": null,
            "margin": null,
            "max_height": null,
            "max_width": null,
            "min_height": null,
            "min_width": null,
            "object_fit": null,
            "object_position": null,
            "order": null,
            "overflow": null,
            "overflow_x": null,
            "overflow_y": null,
            "padding": null,
            "right": null,
            "top": null,
            "visibility": null,
            "width": null
          }
        },
        "a06e0e8dafdb48edba4a88b597d8f9e3": {
          "model_module": "@jupyter-widgets/base",
          "model_module_version": "1.2.0",
          "model_name": "LayoutModel",
          "state": {
            "_model_module": "@jupyter-widgets/base",
            "_model_module_version": "1.2.0",
            "_model_name": "LayoutModel",
            "_view_count": null,
            "_view_module": "@jupyter-widgets/base",
            "_view_module_version": "1.2.0",
            "_view_name": "LayoutView",
            "align_content": null,
            "align_items": null,
            "align_self": null,
            "border": null,
            "bottom": null,
            "display": null,
            "flex": null,
            "flex_flow": null,
            "grid_area": null,
            "grid_auto_columns": null,
            "grid_auto_flow": null,
            "grid_auto_rows": null,
            "grid_column": null,
            "grid_gap": null,
            "grid_row": null,
            "grid_template_areas": null,
            "grid_template_columns": null,
            "grid_template_rows": null,
            "height": null,
            "justify_content": null,
            "justify_items": null,
            "left": null,
            "margin": null,
            "max_height": null,
            "max_width": null,
            "min_height": null,
            "min_width": null,
            "object_fit": null,
            "object_position": null,
            "order": null,
            "overflow": null,
            "overflow_x": null,
            "overflow_y": null,
            "padding": null,
            "right": null,
            "top": null,
            "visibility": null,
            "width": null
          }
        },
        "a7d2f3f1b12e42fe9e760fac21d4b537": {
          "model_module": "@jupyter-widgets/base",
          "model_module_version": "1.2.0",
          "model_name": "LayoutModel",
          "state": {
            "_model_module": "@jupyter-widgets/base",
            "_model_module_version": "1.2.0",
            "_model_name": "LayoutModel",
            "_view_count": null,
            "_view_module": "@jupyter-widgets/base",
            "_view_module_version": "1.2.0",
            "_view_name": "LayoutView",
            "align_content": null,
            "align_items": null,
            "align_self": null,
            "border": null,
            "bottom": null,
            "display": null,
            "flex": null,
            "flex_flow": null,
            "grid_area": null,
            "grid_auto_columns": null,
            "grid_auto_flow": null,
            "grid_auto_rows": null,
            "grid_column": null,
            "grid_gap": null,
            "grid_row": null,
            "grid_template_areas": null,
            "grid_template_columns": null,
            "grid_template_rows": null,
            "height": null,
            "justify_content": null,
            "justify_items": null,
            "left": null,
            "margin": null,
            "max_height": null,
            "max_width": null,
            "min_height": null,
            "min_width": null,
            "object_fit": null,
            "object_position": null,
            "order": null,
            "overflow": null,
            "overflow_x": null,
            "overflow_y": null,
            "padding": null,
            "right": null,
            "top": null,
            "visibility": null,
            "width": null
          }
        },
        "ac52cb05959f4f64a8708f99e2efbdfe": {
          "model_module": "@jupyter-widgets/base",
          "model_module_version": "1.2.0",
          "model_name": "LayoutModel",
          "state": {
            "_model_module": "@jupyter-widgets/base",
            "_model_module_version": "1.2.0",
            "_model_name": "LayoutModel",
            "_view_count": null,
            "_view_module": "@jupyter-widgets/base",
            "_view_module_version": "1.2.0",
            "_view_name": "LayoutView",
            "align_content": null,
            "align_items": null,
            "align_self": null,
            "border": null,
            "bottom": null,
            "display": null,
            "flex": null,
            "flex_flow": null,
            "grid_area": null,
            "grid_auto_columns": null,
            "grid_auto_flow": null,
            "grid_auto_rows": null,
            "grid_column": null,
            "grid_gap": null,
            "grid_row": null,
            "grid_template_areas": null,
            "grid_template_columns": null,
            "grid_template_rows": null,
            "height": null,
            "justify_content": null,
            "justify_items": null,
            "left": null,
            "margin": null,
            "max_height": null,
            "max_width": null,
            "min_height": null,
            "min_width": null,
            "object_fit": null,
            "object_position": null,
            "order": null,
            "overflow": null,
            "overflow_x": null,
            "overflow_y": null,
            "padding": null,
            "right": null,
            "top": null,
            "visibility": null,
            "width": null
          }
        },
        "af514a08b1ef42419f3837b43e0f7b89": {
          "model_module": "@jupyter-widgets/base",
          "model_module_version": "1.2.0",
          "model_name": "LayoutModel",
          "state": {
            "_model_module": "@jupyter-widgets/base",
            "_model_module_version": "1.2.0",
            "_model_name": "LayoutModel",
            "_view_count": null,
            "_view_module": "@jupyter-widgets/base",
            "_view_module_version": "1.2.0",
            "_view_name": "LayoutView",
            "align_content": null,
            "align_items": null,
            "align_self": null,
            "border": null,
            "bottom": null,
            "display": null,
            "flex": null,
            "flex_flow": null,
            "grid_area": null,
            "grid_auto_columns": null,
            "grid_auto_flow": null,
            "grid_auto_rows": null,
            "grid_column": null,
            "grid_gap": null,
            "grid_row": null,
            "grid_template_areas": null,
            "grid_template_columns": null,
            "grid_template_rows": null,
            "height": null,
            "justify_content": null,
            "justify_items": null,
            "left": null,
            "margin": null,
            "max_height": null,
            "max_width": null,
            "min_height": null,
            "min_width": null,
            "object_fit": null,
            "object_position": null,
            "order": null,
            "overflow": null,
            "overflow_x": null,
            "overflow_y": null,
            "padding": null,
            "right": null,
            "top": null,
            "visibility": null,
            "width": null
          }
        },
        "b4e44fea5abe43888530b3e152a4eeed": {
          "model_module": "@jupyter-widgets/controls",
          "model_module_version": "1.5.0",
          "model_name": "HTMLModel",
          "state": {
            "_dom_classes": [],
            "_model_module": "@jupyter-widgets/controls",
            "_model_module_version": "1.5.0",
            "_model_name": "HTMLModel",
            "_view_count": null,
            "_view_module": "@jupyter-widgets/controls",
            "_view_module_version": "1.5.0",
            "_view_name": "HTMLView",
            "description": "",
            "description_tooltip": null,
            "layout": "IPY_MODEL_cac210b5ea3f4acba66ee57a74f2cc39",
            "placeholder": "​",
            "style": "IPY_MODEL_b73489ca045d44ff9b61e530260304dc",
            "value": " 456k/456k [00:00&lt;00:00, 16.6MB/s]"
          }
        },
        "b73489ca045d44ff9b61e530260304dc": {
          "model_module": "@jupyter-widgets/controls",
          "model_module_version": "1.5.0",
          "model_name": "DescriptionStyleModel",
          "state": {
            "_model_module": "@jupyter-widgets/controls",
            "_model_module_version": "1.5.0",
            "_model_name": "DescriptionStyleModel",
            "_view_count": null,
            "_view_module": "@jupyter-widgets/base",
            "_view_module_version": "1.2.0",
            "_view_name": "StyleView",
            "description_width": ""
          }
        },
        "b8c316feacdd44a08ddada75ab4cb249": {
          "model_module": "@jupyter-widgets/controls",
          "model_module_version": "1.5.0",
          "model_name": "DescriptionStyleModel",
          "state": {
            "_model_module": "@jupyter-widgets/controls",
            "_model_module_version": "1.5.0",
            "_model_name": "DescriptionStyleModel",
            "_view_count": null,
            "_view_module": "@jupyter-widgets/base",
            "_view_module_version": "1.2.0",
            "_view_name": "StyleView",
            "description_width": ""
          }
        },
        "bbc0ce6e54ca431e921c72825accb475": {
          "model_module": "@jupyter-widgets/controls",
          "model_module_version": "1.5.0",
          "model_name": "ProgressStyleModel",
          "state": {
            "_model_module": "@jupyter-widgets/controls",
            "_model_module_version": "1.5.0",
            "_model_name": "ProgressStyleModel",
            "_view_count": null,
            "_view_module": "@jupyter-widgets/base",
            "_view_module_version": "1.2.0",
            "_view_name": "StyleView",
            "bar_color": null,
            "description_width": ""
          }
        },
        "bc589c014e624b83a4e7d859a438a487": {
          "model_module": "@jupyter-widgets/controls",
          "model_module_version": "1.5.0",
          "model_name": "ProgressStyleModel",
          "state": {
            "_model_module": "@jupyter-widgets/controls",
            "_model_module_version": "1.5.0",
            "_model_name": "ProgressStyleModel",
            "_view_count": null,
            "_view_module": "@jupyter-widgets/base",
            "_view_module_version": "1.2.0",
            "_view_name": "StyleView",
            "bar_color": null,
            "description_width": ""
          }
        },
        "bf9e3b7f06904c5ba9e10792bec2a881": {
          "model_module": "@jupyter-widgets/controls",
          "model_module_version": "1.5.0",
          "model_name": "FloatProgressModel",
          "state": {
            "_dom_classes": [],
            "_model_module": "@jupyter-widgets/controls",
            "_model_module_version": "1.5.0",
            "_model_name": "FloatProgressModel",
            "_view_count": null,
            "_view_module": "@jupyter-widgets/controls",
            "_view_module_version": "1.5.0",
            "_view_name": "ProgressView",
            "bar_style": "success",
            "description": "",
            "description_tooltip": null,
            "layout": "IPY_MODEL_4c1a93ee393b492493148f3b1f823439",
            "max": 672247920,
            "min": 0,
            "orientation": "horizontal",
            "style": "IPY_MODEL_6405e2051e16473092e52ff77b57c940",
            "value": 672247920
          }
        },
        "bff0bb454e9f4936ab2dc06c5b6d05bb": {
          "model_module": "@jupyter-widgets/base",
          "model_module_version": "1.2.0",
          "model_name": "LayoutModel",
          "state": {
            "_model_module": "@jupyter-widgets/base",
            "_model_module_version": "1.2.0",
            "_model_name": "LayoutModel",
            "_view_count": null,
            "_view_module": "@jupyter-widgets/base",
            "_view_module_version": "1.2.0",
            "_view_name": "LayoutView",
            "align_content": null,
            "align_items": null,
            "align_self": null,
            "border": null,
            "bottom": null,
            "display": null,
            "flex": null,
            "flex_flow": null,
            "grid_area": null,
            "grid_auto_columns": null,
            "grid_auto_flow": null,
            "grid_auto_rows": null,
            "grid_column": null,
            "grid_gap": null,
            "grid_row": null,
            "grid_template_areas": null,
            "grid_template_columns": null,
            "grid_template_rows": null,
            "height": null,
            "justify_content": null,
            "justify_items": null,
            "left": null,
            "margin": null,
            "max_height": null,
            "max_width": null,
            "min_height": null,
            "min_width": null,
            "object_fit": null,
            "object_position": null,
            "order": null,
            "overflow": null,
            "overflow_x": null,
            "overflow_y": null,
            "padding": null,
            "right": null,
            "top": null,
            "visibility": null,
            "width": null
          }
        },
        "c0a7664aa9a34381ae5498af04d1d4b1": {
          "model_module": "@jupyter-widgets/base",
          "model_module_version": "1.2.0",
          "model_name": "LayoutModel",
          "state": {
            "_model_module": "@jupyter-widgets/base",
            "_model_module_version": "1.2.0",
            "_model_name": "LayoutModel",
            "_view_count": null,
            "_view_module": "@jupyter-widgets/base",
            "_view_module_version": "1.2.0",
            "_view_name": "LayoutView",
            "align_content": null,
            "align_items": null,
            "align_self": null,
            "border": null,
            "bottom": null,
            "display": null,
            "flex": null,
            "flex_flow": null,
            "grid_area": null,
            "grid_auto_columns": null,
            "grid_auto_flow": null,
            "grid_auto_rows": null,
            "grid_column": null,
            "grid_gap": null,
            "grid_row": null,
            "grid_template_areas": null,
            "grid_template_columns": null,
            "grid_template_rows": null,
            "height": null,
            "justify_content": null,
            "justify_items": null,
            "left": null,
            "margin": null,
            "max_height": null,
            "max_width": null,
            "min_height": null,
            "min_width": null,
            "object_fit": null,
            "object_position": null,
            "order": null,
            "overflow": null,
            "overflow_x": null,
            "overflow_y": null,
            "padding": null,
            "right": null,
            "top": null,
            "visibility": null,
            "width": null
          }
        },
        "c1cd3405e3d6486ebaecce1a3b83647c": {
          "model_module": "@jupyter-widgets/base",
          "model_module_version": "1.2.0",
          "model_name": "LayoutModel",
          "state": {
            "_model_module": "@jupyter-widgets/base",
            "_model_module_version": "1.2.0",
            "_model_name": "LayoutModel",
            "_view_count": null,
            "_view_module": "@jupyter-widgets/base",
            "_view_module_version": "1.2.0",
            "_view_name": "LayoutView",
            "align_content": null,
            "align_items": null,
            "align_self": null,
            "border": null,
            "bottom": null,
            "display": null,
            "flex": null,
            "flex_flow": null,
            "grid_area": null,
            "grid_auto_columns": null,
            "grid_auto_flow": null,
            "grid_auto_rows": null,
            "grid_column": null,
            "grid_gap": null,
            "grid_row": null,
            "grid_template_areas": null,
            "grid_template_columns": null,
            "grid_template_rows": null,
            "height": null,
            "justify_content": null,
            "justify_items": null,
            "left": null,
            "margin": null,
            "max_height": null,
            "max_width": null,
            "min_height": null,
            "min_width": null,
            "object_fit": null,
            "object_position": null,
            "order": null,
            "overflow": null,
            "overflow_x": null,
            "overflow_y": null,
            "padding": null,
            "right": null,
            "top": null,
            "visibility": null,
            "width": null
          }
        },
        "c9d8280fb15f4d7bb8c3df2ee4b21c79": {
          "model_module": "@jupyter-widgets/controls",
          "model_module_version": "1.5.0",
          "model_name": "HBoxModel",
          "state": {
            "_dom_classes": [],
            "_model_module": "@jupyter-widgets/controls",
            "_model_module_version": "1.5.0",
            "_model_name": "HBoxModel",
            "_view_count": null,
            "_view_module": "@jupyter-widgets/controls",
            "_view_module_version": "1.5.0",
            "_view_name": "HBoxView",
            "box_style": "",
            "children": [
              "IPY_MODEL_e3e5299b0b2342ab8282589cd197ef1b",
              "IPY_MODEL_23c6db71651e427a83f01b254f968054",
              "IPY_MODEL_6130c0007cdb4e1ca9a2bd8d52288ebc"
            ],
            "layout": "IPY_MODEL_c0a7664aa9a34381ae5498af04d1d4b1"
          }
        },
        "cac210b5ea3f4acba66ee57a74f2cc39": {
          "model_module": "@jupyter-widgets/base",
          "model_module_version": "1.2.0",
          "model_name": "LayoutModel",
          "state": {
            "_model_module": "@jupyter-widgets/base",
            "_model_module_version": "1.2.0",
            "_model_name": "LayoutModel",
            "_view_count": null,
            "_view_module": "@jupyter-widgets/base",
            "_view_module_version": "1.2.0",
            "_view_name": "LayoutView",
            "align_content": null,
            "align_items": null,
            "align_self": null,
            "border": null,
            "bottom": null,
            "display": null,
            "flex": null,
            "flex_flow": null,
            "grid_area": null,
            "grid_auto_columns": null,
            "grid_auto_flow": null,
            "grid_auto_rows": null,
            "grid_column": null,
            "grid_gap": null,
            "grid_row": null,
            "grid_template_areas": null,
            "grid_template_columns": null,
            "grid_template_rows": null,
            "height": null,
            "justify_content": null,
            "justify_items": null,
            "left": null,
            "margin": null,
            "max_height": null,
            "max_width": null,
            "min_height": null,
            "min_width": null,
            "object_fit": null,
            "object_position": null,
            "order": null,
            "overflow": null,
            "overflow_x": null,
            "overflow_y": null,
            "padding": null,
            "right": null,
            "top": null,
            "visibility": null,
            "width": null
          }
        },
        "d0ffb101f1bb4d518308ebc8a8711a56": {
          "model_module": "@jupyter-widgets/base",
          "model_module_version": "1.2.0",
          "model_name": "LayoutModel",
          "state": {
            "_model_module": "@jupyter-widgets/base",
            "_model_module_version": "1.2.0",
            "_model_name": "LayoutModel",
            "_view_count": null,
            "_view_module": "@jupyter-widgets/base",
            "_view_module_version": "1.2.0",
            "_view_name": "LayoutView",
            "align_content": null,
            "align_items": null,
            "align_self": null,
            "border": null,
            "bottom": null,
            "display": null,
            "flex": null,
            "flex_flow": null,
            "grid_area": null,
            "grid_auto_columns": null,
            "grid_auto_flow": null,
            "grid_auto_rows": null,
            "grid_column": null,
            "grid_gap": null,
            "grid_row": null,
            "grid_template_areas": null,
            "grid_template_columns": null,
            "grid_template_rows": null,
            "height": null,
            "justify_content": null,
            "justify_items": null,
            "left": null,
            "margin": null,
            "max_height": null,
            "max_width": null,
            "min_height": null,
            "min_width": null,
            "object_fit": null,
            "object_position": null,
            "order": null,
            "overflow": null,
            "overflow_x": null,
            "overflow_y": null,
            "padding": null,
            "right": null,
            "top": null,
            "visibility": null,
            "width": null
          }
        },
        "d19c49e51b5e43b0858127b83d5bbece": {
          "model_module": "@jupyter-widgets/controls",
          "model_module_version": "1.5.0",
          "model_name": "HTMLModel",
          "state": {
            "_dom_classes": [],
            "_model_module": "@jupyter-widgets/controls",
            "_model_module_version": "1.5.0",
            "_model_name": "HTMLModel",
            "_view_count": null,
            "_view_module": "@jupyter-widgets/controls",
            "_view_module_version": "1.5.0",
            "_view_name": "HTMLView",
            "description": "",
            "description_tooltip": null,
            "layout": "IPY_MODEL_a7d2f3f1b12e42fe9e760fac21d4b537",
            "placeholder": "​",
            "style": "IPY_MODEL_f21586c76af54da5aeaed4605c7823bb",
            "value": "vocab.json: 100%"
          }
        },
        "da7e9f93c7ce4688909250fe2c389988": {
          "model_module": "@jupyter-widgets/controls",
          "model_module_version": "1.5.0",
          "model_name": "HBoxModel",
          "state": {
            "_dom_classes": [],
            "_model_module": "@jupyter-widgets/controls",
            "_model_module_version": "1.5.0",
            "_model_name": "HBoxModel",
            "_view_count": null,
            "_view_module": "@jupyter-widgets/controls",
            "_view_module_version": "1.5.0",
            "_view_name": "HBoxView",
            "box_style": "",
            "children": [
              "IPY_MODEL_035454f616594f6395ebd15aca4e3fbd",
              "IPY_MODEL_bf9e3b7f06904c5ba9e10792bec2a881",
              "IPY_MODEL_3881ccedd4564af3ac0afaedb1331ea2"
            ],
            "layout": "IPY_MODEL_d0ffb101f1bb4d518308ebc8a8711a56"
          }
        },
        "db70bbd4aad2469eb3ab91ae7ed4a285": {
          "model_module": "@jupyter-widgets/base",
          "model_module_version": "1.2.0",
          "model_name": "LayoutModel",
          "state": {
            "_model_module": "@jupyter-widgets/base",
            "_model_module_version": "1.2.0",
            "_model_name": "LayoutModel",
            "_view_count": null,
            "_view_module": "@jupyter-widgets/base",
            "_view_module_version": "1.2.0",
            "_view_name": "LayoutView",
            "align_content": null,
            "align_items": null,
            "align_self": null,
            "border": null,
            "bottom": null,
            "display": null,
            "flex": null,
            "flex_flow": null,
            "grid_area": null,
            "grid_auto_columns": null,
            "grid_auto_flow": null,
            "grid_auto_rows": null,
            "grid_column": null,
            "grid_gap": null,
            "grid_row": null,
            "grid_template_areas": null,
            "grid_template_columns": null,
            "grid_template_rows": null,
            "height": null,
            "justify_content": null,
            "justify_items": null,
            "left": null,
            "margin": null,
            "max_height": null,
            "max_width": null,
            "min_height": null,
            "min_width": null,
            "object_fit": null,
            "object_position": null,
            "order": null,
            "overflow": null,
            "overflow_x": null,
            "overflow_y": null,
            "padding": null,
            "right": null,
            "top": null,
            "visibility": null,
            "width": null
          }
        },
        "df5eb1b2f0e84a73bb145fa9b87b8b1a": {
          "model_module": "@jupyter-widgets/controls",
          "model_module_version": "1.5.0",
          "model_name": "HTMLModel",
          "state": {
            "_dom_classes": [],
            "_model_module": "@jupyter-widgets/controls",
            "_model_module_version": "1.5.0",
            "_model_name": "HTMLModel",
            "_view_count": null,
            "_view_module": "@jupyter-widgets/controls",
            "_view_module_version": "1.5.0",
            "_view_name": "HTMLView",
            "description": "",
            "description_tooltip": null,
            "layout": "IPY_MODEL_9fb5c79fbe3c437f96c0fc8cae91fcc8",
            "placeholder": "​",
            "style": "IPY_MODEL_0fde1d3d37b64e209eccf395fc7b2a52",
            "value": "merges.txt: 100%"
          }
        },
        "e3e5299b0b2342ab8282589cd197ef1b": {
          "model_module": "@jupyter-widgets/controls",
          "model_module_version": "1.5.0",
          "model_name": "HTMLModel",
          "state": {
            "_dom_classes": [],
            "_model_module": "@jupyter-widgets/controls",
            "_model_module_version": "1.5.0",
            "_model_name": "HTMLModel",
            "_view_count": null,
            "_view_module": "@jupyter-widgets/controls",
            "_view_module_version": "1.5.0",
            "_view_name": "HTMLView",
            "description": "",
            "description_tooltip": null,
            "layout": "IPY_MODEL_2f76328b96c0486ea7c7e7c43fe20594",
            "placeholder": "​",
            "style": "IPY_MODEL_b8c316feacdd44a08ddada75ab4cb249",
            "value": "pytorch_model.bin: 100%"
          }
        },
        "e7647d8c5bf9441a90e7f8855e4ffaec": {
          "model_module": "@jupyter-widgets/base",
          "model_module_version": "1.2.0",
          "model_name": "LayoutModel",
          "state": {
            "_model_module": "@jupyter-widgets/base",
            "_model_module_version": "1.2.0",
            "_model_name": "LayoutModel",
            "_view_count": null,
            "_view_module": "@jupyter-widgets/base",
            "_view_module_version": "1.2.0",
            "_view_name": "LayoutView",
            "align_content": null,
            "align_items": null,
            "align_self": null,
            "border": null,
            "bottom": null,
            "display": null,
            "flex": null,
            "flex_flow": null,
            "grid_area": null,
            "grid_auto_columns": null,
            "grid_auto_flow": null,
            "grid_auto_rows": null,
            "grid_column": null,
            "grid_gap": null,
            "grid_row": null,
            "grid_template_areas": null,
            "grid_template_columns": null,
            "grid_template_rows": null,
            "height": null,
            "justify_content": null,
            "justify_items": null,
            "left": null,
            "margin": null,
            "max_height": null,
            "max_width": null,
            "min_height": null,
            "min_width": null,
            "object_fit": null,
            "object_position": null,
            "order": null,
            "overflow": null,
            "overflow_x": null,
            "overflow_y": null,
            "padding": null,
            "right": null,
            "top": null,
            "visibility": null,
            "width": null
          }
        },
        "f0d26ecd421749f197c9bff5347c3e56": {
          "model_module": "@jupyter-widgets/base",
          "model_module_version": "1.2.0",
          "model_name": "LayoutModel",
          "state": {
            "_model_module": "@jupyter-widgets/base",
            "_model_module_version": "1.2.0",
            "_model_name": "LayoutModel",
            "_view_count": null,
            "_view_module": "@jupyter-widgets/base",
            "_view_module_version": "1.2.0",
            "_view_name": "LayoutView",
            "align_content": null,
            "align_items": null,
            "align_self": null,
            "border": null,
            "bottom": null,
            "display": null,
            "flex": null,
            "flex_flow": null,
            "grid_area": null,
            "grid_auto_columns": null,
            "grid_auto_flow": null,
            "grid_auto_rows": null,
            "grid_column": null,
            "grid_gap": null,
            "grid_row": null,
            "grid_template_areas": null,
            "grid_template_columns": null,
            "grid_template_rows": null,
            "height": null,
            "justify_content": null,
            "justify_items": null,
            "left": null,
            "margin": null,
            "max_height": null,
            "max_width": null,
            "min_height": null,
            "min_width": null,
            "object_fit": null,
            "object_position": null,
            "order": null,
            "overflow": null,
            "overflow_x": null,
            "overflow_y": null,
            "padding": null,
            "right": null,
            "top": null,
            "visibility": null,
            "width": null
          }
        },
        "f21586c76af54da5aeaed4605c7823bb": {
          "model_module": "@jupyter-widgets/controls",
          "model_module_version": "1.5.0",
          "model_name": "DescriptionStyleModel",
          "state": {
            "_model_module": "@jupyter-widgets/controls",
            "_model_module_version": "1.5.0",
            "_model_name": "DescriptionStyleModel",
            "_view_count": null,
            "_view_module": "@jupyter-widgets/base",
            "_view_module_version": "1.2.0",
            "_view_name": "StyleView",
            "description_width": ""
          }
        },
        "f49ebf87df6d4ef5bbd75905cecca9c4": {
          "model_module": "@jupyter-widgets/controls",
          "model_module_version": "1.5.0",
          "model_name": "HBoxModel",
          "state": {
            "_dom_classes": [],
            "_model_module": "@jupyter-widgets/controls",
            "_model_module_version": "1.5.0",
            "_model_name": "HBoxModel",
            "_view_count": null,
            "_view_module": "@jupyter-widgets/controls",
            "_view_module_version": "1.5.0",
            "_view_name": "HBoxView",
            "box_style": "",
            "children": [
              "IPY_MODEL_6557d59df59843fe8a5c6e994846c657",
              "IPY_MODEL_933f5263b481451ba4a348faa4b7ed83",
              "IPY_MODEL_0da641c95a484708b8dbe0dd3539983d"
            ],
            "layout": "IPY_MODEL_5ad915a103fe4915aabf38fd4bbd37d1"
          }
        },
        "f8693ac8ac6a40859beb8920f705644a": {
          "model_module": "@jupyter-widgets/base",
          "model_module_version": "1.2.0",
          "model_name": "LayoutModel",
          "state": {
            "_model_module": "@jupyter-widgets/base",
            "_model_module_version": "1.2.0",
            "_model_name": "LayoutModel",
            "_view_count": null,
            "_view_module": "@jupyter-widgets/base",
            "_view_module_version": "1.2.0",
            "_view_name": "LayoutView",
            "align_content": null,
            "align_items": null,
            "align_self": null,
            "border": null,
            "bottom": null,
            "display": null,
            "flex": null,
            "flex_flow": null,
            "grid_area": null,
            "grid_auto_columns": null,
            "grid_auto_flow": null,
            "grid_auto_rows": null,
            "grid_column": null,
            "grid_gap": null,
            "grid_row": null,
            "grid_template_areas": null,
            "grid_template_columns": null,
            "grid_template_rows": null,
            "height": null,
            "justify_content": null,
            "justify_items": null,
            "left": null,
            "margin": null,
            "max_height": null,
            "max_width": null,
            "min_height": null,
            "min_width": null,
            "object_fit": null,
            "object_position": null,
            "order": null,
            "overflow": null,
            "overflow_x": null,
            "overflow_y": null,
            "padding": null,
            "right": null,
            "top": null,
            "visibility": null,
            "width": null
          }
        },
        "f8aafe48412a4038896dcc6019fa3e67": {
          "model_module": "@jupyter-widgets/controls",
          "model_module_version": "1.5.0",
          "model_name": "HBoxModel",
          "state": {
            "_dom_classes": [],
            "_model_module": "@jupyter-widgets/controls",
            "_model_module_version": "1.5.0",
            "_model_name": "HBoxModel",
            "_view_count": null,
            "_view_module": "@jupyter-widgets/controls",
            "_view_module_version": "1.5.0",
            "_view_name": "HBoxView",
            "box_style": "",
            "children": [
              "IPY_MODEL_d19c49e51b5e43b0858127b83d5bbece",
              "IPY_MODEL_1014c118658e45b89e0ca2b1a2eb0e88",
              "IPY_MODEL_932f95eaa6894e54ba93d8f7fa2af6d3"
            ],
            "layout": "IPY_MODEL_db70bbd4aad2469eb3ab91ae7ed4a285"
          }
        },
        "f957390d6bb948eb8cec042ef6131c55": {
          "model_module": "@jupyter-widgets/controls",
          "model_module_version": "1.5.0",
          "model_name": "FloatProgressModel",
          "state": {
            "_dom_classes": [],
            "_model_module": "@jupyter-widgets/controls",
            "_model_module_version": "1.5.0",
            "_model_name": "FloatProgressModel",
            "_view_count": null,
            "_view_module": "@jupyter-widgets/controls",
            "_view_module_version": "1.5.0",
            "_view_name": "ProgressView",
            "bar_style": "success",
            "description": "",
            "description_tooltip": null,
            "layout": "IPY_MODEL_e7647d8c5bf9441a90e7f8855e4ffaec",
            "max": 456318,
            "min": 0,
            "orientation": "horizontal",
            "style": "IPY_MODEL_bc589c014e624b83a4e7d859a438a487",
            "value": 456318
          }
        },
        "f98b69ba879640a8af51801855da61be": {
          "model_module": "@jupyter-widgets/controls",
          "model_module_version": "1.5.0",
          "model_name": "DescriptionStyleModel",
          "state": {
            "_model_module": "@jupyter-widgets/controls",
            "_model_module_version": "1.5.0",
            "_model_name": "DescriptionStyleModel",
            "_view_count": null,
            "_view_module": "@jupyter-widgets/base",
            "_view_module_version": "1.2.0",
            "_view_name": "StyleView",
            "description_width": ""
          }
        },
        "fa0b902f86b74e54a5de44ef45afa422": {
          "model_module": "@jupyter-widgets/base",
          "model_module_version": "1.2.0",
          "model_name": "LayoutModel",
          "state": {
            "_model_module": "@jupyter-widgets/base",
            "_model_module_version": "1.2.0",
            "_model_name": "LayoutModel",
            "_view_count": null,
            "_view_module": "@jupyter-widgets/base",
            "_view_module_version": "1.2.0",
            "_view_name": "LayoutView",
            "align_content": null,
            "align_items": null,
            "align_self": null,
            "border": null,
            "bottom": null,
            "display": null,
            "flex": null,
            "flex_flow": null,
            "grid_area": null,
            "grid_auto_columns": null,
            "grid_auto_flow": null,
            "grid_auto_rows": null,
            "grid_column": null,
            "grid_gap": null,
            "grid_row": null,
            "grid_template_areas": null,
            "grid_template_columns": null,
            "grid_template_rows": null,
            "height": null,
            "justify_content": null,
            "justify_items": null,
            "left": null,
            "margin": null,
            "max_height": null,
            "max_width": null,
            "min_height": null,
            "min_width": null,
            "object_fit": null,
            "object_position": null,
            "order": null,
            "overflow": null,
            "overflow_x": null,
            "overflow_y": null,
            "padding": null,
            "right": null,
            "top": null,
            "visibility": null,
            "width": null
          }
        },
        "e10414181a004736b4c2b7cded7b38dd": {
          "model_module": "@jupyter-widgets/controls",
          "model_name": "HBoxModel",
          "model_module_version": "1.5.0",
          "state": {
            "_dom_classes": [],
            "_model_module": "@jupyter-widgets/controls",
            "_model_module_version": "1.5.0",
            "_model_name": "HBoxModel",
            "_view_count": null,
            "_view_module": "@jupyter-widgets/controls",
            "_view_module_version": "1.5.0",
            "_view_name": "HBoxView",
            "box_style": "",
            "children": [
              "IPY_MODEL_d77f883c5ebc444681f8c4d89202696c",
              "IPY_MODEL_a2ad6759686e4fd59f1008af69316881",
              "IPY_MODEL_3b5239e0bb704c74ac03c233d003444b"
            ],
            "layout": "IPY_MODEL_fd01d5cd52d7472590a76e91651743ff"
          }
        },
        "d77f883c5ebc444681f8c4d89202696c": {
          "model_module": "@jupyter-widgets/controls",
          "model_name": "HTMLModel",
          "model_module_version": "1.5.0",
          "state": {
            "_dom_classes": [],
            "_model_module": "@jupyter-widgets/controls",
            "_model_module_version": "1.5.0",
            "_model_name": "HTMLModel",
            "_view_count": null,
            "_view_module": "@jupyter-widgets/controls",
            "_view_module_version": "1.5.0",
            "_view_name": "HTMLView",
            "description": "",
            "description_tooltip": null,
            "layout": "IPY_MODEL_ec42d831a18144e880614b1f8d1bc358",
            "placeholder": "​",
            "style": "IPY_MODEL_8900a86581e047c2a03093a319ab7f2c",
            "value": "tokenizer_config.json: 100%"
          }
        },
        "a2ad6759686e4fd59f1008af69316881": {
          "model_module": "@jupyter-widgets/controls",
          "model_name": "FloatProgressModel",
          "model_module_version": "1.5.0",
          "state": {
            "_dom_classes": [],
            "_model_module": "@jupyter-widgets/controls",
            "_model_module_version": "1.5.0",
            "_model_name": "FloatProgressModel",
            "_view_count": null,
            "_view_module": "@jupyter-widgets/controls",
            "_view_module_version": "1.5.0",
            "_view_name": "ProgressView",
            "bar_style": "success",
            "description": "",
            "description_tooltip": null,
            "layout": "IPY_MODEL_ad3322f02b8549c4bcac5f82546703eb",
            "max": 48,
            "min": 0,
            "orientation": "horizontal",
            "style": "IPY_MODEL_a89f14d839aa447f8962d21a2e1f2190",
            "value": 48
          }
        },
        "3b5239e0bb704c74ac03c233d003444b": {
          "model_module": "@jupyter-widgets/controls",
          "model_name": "HTMLModel",
          "model_module_version": "1.5.0",
          "state": {
            "_dom_classes": [],
            "_model_module": "@jupyter-widgets/controls",
            "_model_module_version": "1.5.0",
            "_model_name": "HTMLModel",
            "_view_count": null,
            "_view_module": "@jupyter-widgets/controls",
            "_view_module_version": "1.5.0",
            "_view_name": "HTMLView",
            "description": "",
            "description_tooltip": null,
            "layout": "IPY_MODEL_45c09548743e46d3908decc8699b6fa3",
            "placeholder": "​",
            "style": "IPY_MODEL_49ebf12950ad480e9b71f838c0be4458",
            "value": " 48.0/48.0 [00:00&lt;00:00, 3.46kB/s]"
          }
        },
        "fd01d5cd52d7472590a76e91651743ff": {
          "model_module": "@jupyter-widgets/base",
          "model_name": "LayoutModel",
          "model_module_version": "1.2.0",
          "state": {
            "_model_module": "@jupyter-widgets/base",
            "_model_module_version": "1.2.0",
            "_model_name": "LayoutModel",
            "_view_count": null,
            "_view_module": "@jupyter-widgets/base",
            "_view_module_version": "1.2.0",
            "_view_name": "LayoutView",
            "align_content": null,
            "align_items": null,
            "align_self": null,
            "border": null,
            "bottom": null,
            "display": null,
            "flex": null,
            "flex_flow": null,
            "grid_area": null,
            "grid_auto_columns": null,
            "grid_auto_flow": null,
            "grid_auto_rows": null,
            "grid_column": null,
            "grid_gap": null,
            "grid_row": null,
            "grid_template_areas": null,
            "grid_template_columns": null,
            "grid_template_rows": null,
            "height": null,
            "justify_content": null,
            "justify_items": null,
            "left": null,
            "margin": null,
            "max_height": null,
            "max_width": null,
            "min_height": null,
            "min_width": null,
            "object_fit": null,
            "object_position": null,
            "order": null,
            "overflow": null,
            "overflow_x": null,
            "overflow_y": null,
            "padding": null,
            "right": null,
            "top": null,
            "visibility": null,
            "width": null
          }
        },
        "ec42d831a18144e880614b1f8d1bc358": {
          "model_module": "@jupyter-widgets/base",
          "model_name": "LayoutModel",
          "model_module_version": "1.2.0",
          "state": {
            "_model_module": "@jupyter-widgets/base",
            "_model_module_version": "1.2.0",
            "_model_name": "LayoutModel",
            "_view_count": null,
            "_view_module": "@jupyter-widgets/base",
            "_view_module_version": "1.2.0",
            "_view_name": "LayoutView",
            "align_content": null,
            "align_items": null,
            "align_self": null,
            "border": null,
            "bottom": null,
            "display": null,
            "flex": null,
            "flex_flow": null,
            "grid_area": null,
            "grid_auto_columns": null,
            "grid_auto_flow": null,
            "grid_auto_rows": null,
            "grid_column": null,
            "grid_gap": null,
            "grid_row": null,
            "grid_template_areas": null,
            "grid_template_columns": null,
            "grid_template_rows": null,
            "height": null,
            "justify_content": null,
            "justify_items": null,
            "left": null,
            "margin": null,
            "max_height": null,
            "max_width": null,
            "min_height": null,
            "min_width": null,
            "object_fit": null,
            "object_position": null,
            "order": null,
            "overflow": null,
            "overflow_x": null,
            "overflow_y": null,
            "padding": null,
            "right": null,
            "top": null,
            "visibility": null,
            "width": null
          }
        },
        "8900a86581e047c2a03093a319ab7f2c": {
          "model_module": "@jupyter-widgets/controls",
          "model_name": "DescriptionStyleModel",
          "model_module_version": "1.5.0",
          "state": {
            "_model_module": "@jupyter-widgets/controls",
            "_model_module_version": "1.5.0",
            "_model_name": "DescriptionStyleModel",
            "_view_count": null,
            "_view_module": "@jupyter-widgets/base",
            "_view_module_version": "1.2.0",
            "_view_name": "StyleView",
            "description_width": ""
          }
        },
        "ad3322f02b8549c4bcac5f82546703eb": {
          "model_module": "@jupyter-widgets/base",
          "model_name": "LayoutModel",
          "model_module_version": "1.2.0",
          "state": {
            "_model_module": "@jupyter-widgets/base",
            "_model_module_version": "1.2.0",
            "_model_name": "LayoutModel",
            "_view_count": null,
            "_view_module": "@jupyter-widgets/base",
            "_view_module_version": "1.2.0",
            "_view_name": "LayoutView",
            "align_content": null,
            "align_items": null,
            "align_self": null,
            "border": null,
            "bottom": null,
            "display": null,
            "flex": null,
            "flex_flow": null,
            "grid_area": null,
            "grid_auto_columns": null,
            "grid_auto_flow": null,
            "grid_auto_rows": null,
            "grid_column": null,
            "grid_gap": null,
            "grid_row": null,
            "grid_template_areas": null,
            "grid_template_columns": null,
            "grid_template_rows": null,
            "height": null,
            "justify_content": null,
            "justify_items": null,
            "left": null,
            "margin": null,
            "max_height": null,
            "max_width": null,
            "min_height": null,
            "min_width": null,
            "object_fit": null,
            "object_position": null,
            "order": null,
            "overflow": null,
            "overflow_x": null,
            "overflow_y": null,
            "padding": null,
            "right": null,
            "top": null,
            "visibility": null,
            "width": null
          }
        },
        "a89f14d839aa447f8962d21a2e1f2190": {
          "model_module": "@jupyter-widgets/controls",
          "model_name": "ProgressStyleModel",
          "model_module_version": "1.5.0",
          "state": {
            "_model_module": "@jupyter-widgets/controls",
            "_model_module_version": "1.5.0",
            "_model_name": "ProgressStyleModel",
            "_view_count": null,
            "_view_module": "@jupyter-widgets/base",
            "_view_module_version": "1.2.0",
            "_view_name": "StyleView",
            "bar_color": null,
            "description_width": ""
          }
        },
        "45c09548743e46d3908decc8699b6fa3": {
          "model_module": "@jupyter-widgets/base",
          "model_name": "LayoutModel",
          "model_module_version": "1.2.0",
          "state": {
            "_model_module": "@jupyter-widgets/base",
            "_model_module_version": "1.2.0",
            "_model_name": "LayoutModel",
            "_view_count": null,
            "_view_module": "@jupyter-widgets/base",
            "_view_module_version": "1.2.0",
            "_view_name": "LayoutView",
            "align_content": null,
            "align_items": null,
            "align_self": null,
            "border": null,
            "bottom": null,
            "display": null,
            "flex": null,
            "flex_flow": null,
            "grid_area": null,
            "grid_auto_columns": null,
            "grid_auto_flow": null,
            "grid_auto_rows": null,
            "grid_column": null,
            "grid_gap": null,
            "grid_row": null,
            "grid_template_areas": null,
            "grid_template_columns": null,
            "grid_template_rows": null,
            "height": null,
            "justify_content": null,
            "justify_items": null,
            "left": null,
            "margin": null,
            "max_height": null,
            "max_width": null,
            "min_height": null,
            "min_width": null,
            "object_fit": null,
            "object_position": null,
            "order": null,
            "overflow": null,
            "overflow_x": null,
            "overflow_y": null,
            "padding": null,
            "right": null,
            "top": null,
            "visibility": null,
            "width": null
          }
        },
        "49ebf12950ad480e9b71f838c0be4458": {
          "model_module": "@jupyter-widgets/controls",
          "model_name": "DescriptionStyleModel",
          "model_module_version": "1.5.0",
          "state": {
            "_model_module": "@jupyter-widgets/controls",
            "_model_module_version": "1.5.0",
            "_model_name": "DescriptionStyleModel",
            "_view_count": null,
            "_view_module": "@jupyter-widgets/base",
            "_view_module_version": "1.2.0",
            "_view_name": "StyleView",
            "description_width": ""
          }
        },
        "6598d6c6fa3d4b65a2ce7e3678ef1d17": {
          "model_module": "@jupyter-widgets/controls",
          "model_name": "HBoxModel",
          "model_module_version": "1.5.0",
          "state": {
            "_dom_classes": [],
            "_model_module": "@jupyter-widgets/controls",
            "_model_module_version": "1.5.0",
            "_model_name": "HBoxModel",
            "_view_count": null,
            "_view_module": "@jupyter-widgets/controls",
            "_view_module_version": "1.5.0",
            "_view_name": "HBoxView",
            "box_style": "",
            "children": [
              "IPY_MODEL_97081e5ae56f48d8a7748b6bcf60c5eb",
              "IPY_MODEL_be444b4dbffc4cbd9b3f9053d1a6eaf3",
              "IPY_MODEL_597c4b7e146a494c8fb651d18d57c972"
            ],
            "layout": "IPY_MODEL_984e8bd4ddd54abd8ab9442a42aa8e80"
          }
        },
        "97081e5ae56f48d8a7748b6bcf60c5eb": {
          "model_module": "@jupyter-widgets/controls",
          "model_name": "HTMLModel",
          "model_module_version": "1.5.0",
          "state": {
            "_dom_classes": [],
            "_model_module": "@jupyter-widgets/controls",
            "_model_module_version": "1.5.0",
            "_model_name": "HTMLModel",
            "_view_count": null,
            "_view_module": "@jupyter-widgets/controls",
            "_view_module_version": "1.5.0",
            "_view_name": "HTMLView",
            "description": "",
            "description_tooltip": null,
            "layout": "IPY_MODEL_fe3bf3e723324cdea514a7496a3b07b9",
            "placeholder": "​",
            "style": "IPY_MODEL_db8e3a09e4184d5e97084a38419cc366",
            "value": "vocab.txt: 100%"
          }
        },
        "be444b4dbffc4cbd9b3f9053d1a6eaf3": {
          "model_module": "@jupyter-widgets/controls",
          "model_name": "FloatProgressModel",
          "model_module_version": "1.5.0",
          "state": {
            "_dom_classes": [],
            "_model_module": "@jupyter-widgets/controls",
            "_model_module_version": "1.5.0",
            "_model_name": "FloatProgressModel",
            "_view_count": null,
            "_view_module": "@jupyter-widgets/controls",
            "_view_module_version": "1.5.0",
            "_view_name": "ProgressView",
            "bar_style": "success",
            "description": "",
            "description_tooltip": null,
            "layout": "IPY_MODEL_579423dc742a488abcf57dca9b1d474d",
            "max": 871891,
            "min": 0,
            "orientation": "horizontal",
            "style": "IPY_MODEL_3f9aa9bd7da94b4a82bcd1b63a76019d",
            "value": 871891
          }
        },
        "597c4b7e146a494c8fb651d18d57c972": {
          "model_module": "@jupyter-widgets/controls",
          "model_name": "HTMLModel",
          "model_module_version": "1.5.0",
          "state": {
            "_dom_classes": [],
            "_model_module": "@jupyter-widgets/controls",
            "_model_module_version": "1.5.0",
            "_model_name": "HTMLModel",
            "_view_count": null,
            "_view_module": "@jupyter-widgets/controls",
            "_view_module_version": "1.5.0",
            "_view_name": "HTMLView",
            "description": "",
            "description_tooltip": null,
            "layout": "IPY_MODEL_68215807e6db4b0296d3c29439569101",
            "placeholder": "​",
            "style": "IPY_MODEL_8dc06aec85f041c38176689d3b5c72c8",
            "value": " 872k/872k [00:00&lt;00:00, 8.43MB/s]"
          }
        },
        "984e8bd4ddd54abd8ab9442a42aa8e80": {
          "model_module": "@jupyter-widgets/base",
          "model_name": "LayoutModel",
          "model_module_version": "1.2.0",
          "state": {
            "_model_module": "@jupyter-widgets/base",
            "_model_module_version": "1.2.0",
            "_model_name": "LayoutModel",
            "_view_count": null,
            "_view_module": "@jupyter-widgets/base",
            "_view_module_version": "1.2.0",
            "_view_name": "LayoutView",
            "align_content": null,
            "align_items": null,
            "align_self": null,
            "border": null,
            "bottom": null,
            "display": null,
            "flex": null,
            "flex_flow": null,
            "grid_area": null,
            "grid_auto_columns": null,
            "grid_auto_flow": null,
            "grid_auto_rows": null,
            "grid_column": null,
            "grid_gap": null,
            "grid_row": null,
            "grid_template_areas": null,
            "grid_template_columns": null,
            "grid_template_rows": null,
            "height": null,
            "justify_content": null,
            "justify_items": null,
            "left": null,
            "margin": null,
            "max_height": null,
            "max_width": null,
            "min_height": null,
            "min_width": null,
            "object_fit": null,
            "object_position": null,
            "order": null,
            "overflow": null,
            "overflow_x": null,
            "overflow_y": null,
            "padding": null,
            "right": null,
            "top": null,
            "visibility": null,
            "width": null
          }
        },
        "fe3bf3e723324cdea514a7496a3b07b9": {
          "model_module": "@jupyter-widgets/base",
          "model_name": "LayoutModel",
          "model_module_version": "1.2.0",
          "state": {
            "_model_module": "@jupyter-widgets/base",
            "_model_module_version": "1.2.0",
            "_model_name": "LayoutModel",
            "_view_count": null,
            "_view_module": "@jupyter-widgets/base",
            "_view_module_version": "1.2.0",
            "_view_name": "LayoutView",
            "align_content": null,
            "align_items": null,
            "align_self": null,
            "border": null,
            "bottom": null,
            "display": null,
            "flex": null,
            "flex_flow": null,
            "grid_area": null,
            "grid_auto_columns": null,
            "grid_auto_flow": null,
            "grid_auto_rows": null,
            "grid_column": null,
            "grid_gap": null,
            "grid_row": null,
            "grid_template_areas": null,
            "grid_template_columns": null,
            "grid_template_rows": null,
            "height": null,
            "justify_content": null,
            "justify_items": null,
            "left": null,
            "margin": null,
            "max_height": null,
            "max_width": null,
            "min_height": null,
            "min_width": null,
            "object_fit": null,
            "object_position": null,
            "order": null,
            "overflow": null,
            "overflow_x": null,
            "overflow_y": null,
            "padding": null,
            "right": null,
            "top": null,
            "visibility": null,
            "width": null
          }
        },
        "db8e3a09e4184d5e97084a38419cc366": {
          "model_module": "@jupyter-widgets/controls",
          "model_name": "DescriptionStyleModel",
          "model_module_version": "1.5.0",
          "state": {
            "_model_module": "@jupyter-widgets/controls",
            "_model_module_version": "1.5.0",
            "_model_name": "DescriptionStyleModel",
            "_view_count": null,
            "_view_module": "@jupyter-widgets/base",
            "_view_module_version": "1.2.0",
            "_view_name": "StyleView",
            "description_width": ""
          }
        },
        "579423dc742a488abcf57dca9b1d474d": {
          "model_module": "@jupyter-widgets/base",
          "model_name": "LayoutModel",
          "model_module_version": "1.2.0",
          "state": {
            "_model_module": "@jupyter-widgets/base",
            "_model_module_version": "1.2.0",
            "_model_name": "LayoutModel",
            "_view_count": null,
            "_view_module": "@jupyter-widgets/base",
            "_view_module_version": "1.2.0",
            "_view_name": "LayoutView",
            "align_content": null,
            "align_items": null,
            "align_self": null,
            "border": null,
            "bottom": null,
            "display": null,
            "flex": null,
            "flex_flow": null,
            "grid_area": null,
            "grid_auto_columns": null,
            "grid_auto_flow": null,
            "grid_auto_rows": null,
            "grid_column": null,
            "grid_gap": null,
            "grid_row": null,
            "grid_template_areas": null,
            "grid_template_columns": null,
            "grid_template_rows": null,
            "height": null,
            "justify_content": null,
            "justify_items": null,
            "left": null,
            "margin": null,
            "max_height": null,
            "max_width": null,
            "min_height": null,
            "min_width": null,
            "object_fit": null,
            "object_position": null,
            "order": null,
            "overflow": null,
            "overflow_x": null,
            "overflow_y": null,
            "padding": null,
            "right": null,
            "top": null,
            "visibility": null,
            "width": null
          }
        },
        "3f9aa9bd7da94b4a82bcd1b63a76019d": {
          "model_module": "@jupyter-widgets/controls",
          "model_name": "ProgressStyleModel",
          "model_module_version": "1.5.0",
          "state": {
            "_model_module": "@jupyter-widgets/controls",
            "_model_module_version": "1.5.0",
            "_model_name": "ProgressStyleModel",
            "_view_count": null,
            "_view_module": "@jupyter-widgets/base",
            "_view_module_version": "1.2.0",
            "_view_name": "StyleView",
            "bar_color": null,
            "description_width": ""
          }
        },
        "68215807e6db4b0296d3c29439569101": {
          "model_module": "@jupyter-widgets/base",
          "model_name": "LayoutModel",
          "model_module_version": "1.2.0",
          "state": {
            "_model_module": "@jupyter-widgets/base",
            "_model_module_version": "1.2.0",
            "_model_name": "LayoutModel",
            "_view_count": null,
            "_view_module": "@jupyter-widgets/base",
            "_view_module_version": "1.2.0",
            "_view_name": "LayoutView",
            "align_content": null,
            "align_items": null,
            "align_self": null,
            "border": null,
            "bottom": null,
            "display": null,
            "flex": null,
            "flex_flow": null,
            "grid_area": null,
            "grid_auto_columns": null,
            "grid_auto_flow": null,
            "grid_auto_rows": null,
            "grid_column": null,
            "grid_gap": null,
            "grid_row": null,
            "grid_template_areas": null,
            "grid_template_columns": null,
            "grid_template_rows": null,
            "height": null,
            "justify_content": null,
            "justify_items": null,
            "left": null,
            "margin": null,
            "max_height": null,
            "max_width": null,
            "min_height": null,
            "min_width": null,
            "object_fit": null,
            "object_position": null,
            "order": null,
            "overflow": null,
            "overflow_x": null,
            "overflow_y": null,
            "padding": null,
            "right": null,
            "top": null,
            "visibility": null,
            "width": null
          }
        },
        "8dc06aec85f041c38176689d3b5c72c8": {
          "model_module": "@jupyter-widgets/controls",
          "model_name": "DescriptionStyleModel",
          "model_module_version": "1.5.0",
          "state": {
            "_model_module": "@jupyter-widgets/controls",
            "_model_module_version": "1.5.0",
            "_model_name": "DescriptionStyleModel",
            "_view_count": null,
            "_view_module": "@jupyter-widgets/base",
            "_view_module_version": "1.2.0",
            "_view_name": "StyleView",
            "description_width": ""
          }
        },
        "5ed5107aab664b47b761c9601d46510b": {
          "model_module": "@jupyter-widgets/controls",
          "model_name": "HBoxModel",
          "model_module_version": "1.5.0",
          "state": {
            "_dom_classes": [],
            "_model_module": "@jupyter-widgets/controls",
            "_model_module_version": "1.5.0",
            "_model_name": "HBoxModel",
            "_view_count": null,
            "_view_module": "@jupyter-widgets/controls",
            "_view_module_version": "1.5.0",
            "_view_name": "HBoxView",
            "box_style": "",
            "children": [
              "IPY_MODEL_a1be6366573c419fb0c43cb3498b2629",
              "IPY_MODEL_79a48d8dcd054fc486f20c512821351b",
              "IPY_MODEL_e4d5344df26e43be8602382a0e6bd9d4"
            ],
            "layout": "IPY_MODEL_b7d2309213b04dd68ce16bfeb9474d65"
          }
        },
        "a1be6366573c419fb0c43cb3498b2629": {
          "model_module": "@jupyter-widgets/controls",
          "model_name": "HTMLModel",
          "model_module_version": "1.5.0",
          "state": {
            "_dom_classes": [],
            "_model_module": "@jupyter-widgets/controls",
            "_model_module_version": "1.5.0",
            "_model_name": "HTMLModel",
            "_view_count": null,
            "_view_module": "@jupyter-widgets/controls",
            "_view_module_version": "1.5.0",
            "_view_name": "HTMLView",
            "description": "",
            "description_tooltip": null,
            "layout": "IPY_MODEL_b0637ed08704450686427b05bb0cadd2",
            "placeholder": "​",
            "style": "IPY_MODEL_113a696ad0af4bef97d07207208d9b00",
            "value": "tokenizer.json: 100%"
          }
        },
        "79a48d8dcd054fc486f20c512821351b": {
          "model_module": "@jupyter-widgets/controls",
          "model_name": "FloatProgressModel",
          "model_module_version": "1.5.0",
          "state": {
            "_dom_classes": [],
            "_model_module": "@jupyter-widgets/controls",
            "_model_module_version": "1.5.0",
            "_model_name": "FloatProgressModel",
            "_view_count": null,
            "_view_module": "@jupyter-widgets/controls",
            "_view_module_version": "1.5.0",
            "_view_name": "ProgressView",
            "bar_style": "success",
            "description": "",
            "description_tooltip": null,
            "layout": "IPY_MODEL_935a9007a7ed4fa79d27d24b148ac1c6",
            "max": 1715180,
            "min": 0,
            "orientation": "horizontal",
            "style": "IPY_MODEL_e7d5ba4b0c2c457687ed7f6cc3744f69",
            "value": 1715180
          }
        },
        "e4d5344df26e43be8602382a0e6bd9d4": {
          "model_module": "@jupyter-widgets/controls",
          "model_name": "HTMLModel",
          "model_module_version": "1.5.0",
          "state": {
            "_dom_classes": [],
            "_model_module": "@jupyter-widgets/controls",
            "_model_module_version": "1.5.0",
            "_model_name": "HTMLModel",
            "_view_count": null,
            "_view_module": "@jupyter-widgets/controls",
            "_view_module_version": "1.5.0",
            "_view_name": "HTMLView",
            "description": "",
            "description_tooltip": null,
            "layout": "IPY_MODEL_ac5fb82f23fd4eaf99fe817d54ad2529",
            "placeholder": "​",
            "style": "IPY_MODEL_4e8f38b9a89d451bb185c33438fed283",
            "value": " 1.72M/1.72M [00:00&lt;00:00, 6.19MB/s]"
          }
        },
        "b7d2309213b04dd68ce16bfeb9474d65": {
          "model_module": "@jupyter-widgets/base",
          "model_name": "LayoutModel",
          "model_module_version": "1.2.0",
          "state": {
            "_model_module": "@jupyter-widgets/base",
            "_model_module_version": "1.2.0",
            "_model_name": "LayoutModel",
            "_view_count": null,
            "_view_module": "@jupyter-widgets/base",
            "_view_module_version": "1.2.0",
            "_view_name": "LayoutView",
            "align_content": null,
            "align_items": null,
            "align_self": null,
            "border": null,
            "bottom": null,
            "display": null,
            "flex": null,
            "flex_flow": null,
            "grid_area": null,
            "grid_auto_columns": null,
            "grid_auto_flow": null,
            "grid_auto_rows": null,
            "grid_column": null,
            "grid_gap": null,
            "grid_row": null,
            "grid_template_areas": null,
            "grid_template_columns": null,
            "grid_template_rows": null,
            "height": null,
            "justify_content": null,
            "justify_items": null,
            "left": null,
            "margin": null,
            "max_height": null,
            "max_width": null,
            "min_height": null,
            "min_width": null,
            "object_fit": null,
            "object_position": null,
            "order": null,
            "overflow": null,
            "overflow_x": null,
            "overflow_y": null,
            "padding": null,
            "right": null,
            "top": null,
            "visibility": null,
            "width": null
          }
        },
        "b0637ed08704450686427b05bb0cadd2": {
          "model_module": "@jupyter-widgets/base",
          "model_name": "LayoutModel",
          "model_module_version": "1.2.0",
          "state": {
            "_model_module": "@jupyter-widgets/base",
            "_model_module_version": "1.2.0",
            "_model_name": "LayoutModel",
            "_view_count": null,
            "_view_module": "@jupyter-widgets/base",
            "_view_module_version": "1.2.0",
            "_view_name": "LayoutView",
            "align_content": null,
            "align_items": null,
            "align_self": null,
            "border": null,
            "bottom": null,
            "display": null,
            "flex": null,
            "flex_flow": null,
            "grid_area": null,
            "grid_auto_columns": null,
            "grid_auto_flow": null,
            "grid_auto_rows": null,
            "grid_column": null,
            "grid_gap": null,
            "grid_row": null,
            "grid_template_areas": null,
            "grid_template_columns": null,
            "grid_template_rows": null,
            "height": null,
            "justify_content": null,
            "justify_items": null,
            "left": null,
            "margin": null,
            "max_height": null,
            "max_width": null,
            "min_height": null,
            "min_width": null,
            "object_fit": null,
            "object_position": null,
            "order": null,
            "overflow": null,
            "overflow_x": null,
            "overflow_y": null,
            "padding": null,
            "right": null,
            "top": null,
            "visibility": null,
            "width": null
          }
        },
        "113a696ad0af4bef97d07207208d9b00": {
          "model_module": "@jupyter-widgets/controls",
          "model_name": "DescriptionStyleModel",
          "model_module_version": "1.5.0",
          "state": {
            "_model_module": "@jupyter-widgets/controls",
            "_model_module_version": "1.5.0",
            "_model_name": "DescriptionStyleModel",
            "_view_count": null,
            "_view_module": "@jupyter-widgets/base",
            "_view_module_version": "1.2.0",
            "_view_name": "StyleView",
            "description_width": ""
          }
        },
        "935a9007a7ed4fa79d27d24b148ac1c6": {
          "model_module": "@jupyter-widgets/base",
          "model_name": "LayoutModel",
          "model_module_version": "1.2.0",
          "state": {
            "_model_module": "@jupyter-widgets/base",
            "_model_module_version": "1.2.0",
            "_model_name": "LayoutModel",
            "_view_count": null,
            "_view_module": "@jupyter-widgets/base",
            "_view_module_version": "1.2.0",
            "_view_name": "LayoutView",
            "align_content": null,
            "align_items": null,
            "align_self": null,
            "border": null,
            "bottom": null,
            "display": null,
            "flex": null,
            "flex_flow": null,
            "grid_area": null,
            "grid_auto_columns": null,
            "grid_auto_flow": null,
            "grid_auto_rows": null,
            "grid_column": null,
            "grid_gap": null,
            "grid_row": null,
            "grid_template_areas": null,
            "grid_template_columns": null,
            "grid_template_rows": null,
            "height": null,
            "justify_content": null,
            "justify_items": null,
            "left": null,
            "margin": null,
            "max_height": null,
            "max_width": null,
            "min_height": null,
            "min_width": null,
            "object_fit": null,
            "object_position": null,
            "order": null,
            "overflow": null,
            "overflow_x": null,
            "overflow_y": null,
            "padding": null,
            "right": null,
            "top": null,
            "visibility": null,
            "width": null
          }
        },
        "e7d5ba4b0c2c457687ed7f6cc3744f69": {
          "model_module": "@jupyter-widgets/controls",
          "model_name": "ProgressStyleModel",
          "model_module_version": "1.5.0",
          "state": {
            "_model_module": "@jupyter-widgets/controls",
            "_model_module_version": "1.5.0",
            "_model_name": "ProgressStyleModel",
            "_view_count": null,
            "_view_module": "@jupyter-widgets/base",
            "_view_module_version": "1.2.0",
            "_view_name": "StyleView",
            "bar_color": null,
            "description_width": ""
          }
        },
        "ac5fb82f23fd4eaf99fe817d54ad2529": {
          "model_module": "@jupyter-widgets/base",
          "model_name": "LayoutModel",
          "model_module_version": "1.2.0",
          "state": {
            "_model_module": "@jupyter-widgets/base",
            "_model_module_version": "1.2.0",
            "_model_name": "LayoutModel",
            "_view_count": null,
            "_view_module": "@jupyter-widgets/base",
            "_view_module_version": "1.2.0",
            "_view_name": "LayoutView",
            "align_content": null,
            "align_items": null,
            "align_self": null,
            "border": null,
            "bottom": null,
            "display": null,
            "flex": null,
            "flex_flow": null,
            "grid_area": null,
            "grid_auto_columns": null,
            "grid_auto_flow": null,
            "grid_auto_rows": null,
            "grid_column": null,
            "grid_gap": null,
            "grid_row": null,
            "grid_template_areas": null,
            "grid_template_columns": null,
            "grid_template_rows": null,
            "height": null,
            "justify_content": null,
            "justify_items": null,
            "left": null,
            "margin": null,
            "max_height": null,
            "max_width": null,
            "min_height": null,
            "min_width": null,
            "object_fit": null,
            "object_position": null,
            "order": null,
            "overflow": null,
            "overflow_x": null,
            "overflow_y": null,
            "padding": null,
            "right": null,
            "top": null,
            "visibility": null,
            "width": null
          }
        },
        "4e8f38b9a89d451bb185c33438fed283": {
          "model_module": "@jupyter-widgets/controls",
          "model_name": "DescriptionStyleModel",
          "model_module_version": "1.5.0",
          "state": {
            "_model_module": "@jupyter-widgets/controls",
            "_model_module_version": "1.5.0",
            "_model_name": "DescriptionStyleModel",
            "_view_count": null,
            "_view_module": "@jupyter-widgets/base",
            "_view_module_version": "1.2.0",
            "_view_name": "StyleView",
            "description_width": ""
          }
        },
        "9e94f050ff70458089e8db6947a06ffc": {
          "model_module": "@jupyter-widgets/controls",
          "model_name": "HBoxModel",
          "model_module_version": "1.5.0",
          "state": {
            "_dom_classes": [],
            "_model_module": "@jupyter-widgets/controls",
            "_model_module_version": "1.5.0",
            "_model_name": "HBoxModel",
            "_view_count": null,
            "_view_module": "@jupyter-widgets/controls",
            "_view_module_version": "1.5.0",
            "_view_name": "HBoxView",
            "box_style": "",
            "children": [
              "IPY_MODEL_11cfebf0b49d4d38b2c9a236cbb7634c",
              "IPY_MODEL_37e82d36304f476381ec0082ddaf3c0a",
              "IPY_MODEL_ea02631a5d4c4bb0b6a130073e8992f8"
            ],
            "layout": "IPY_MODEL_124c16bb95634e539c725d65f60bf2a9"
          }
        },
        "11cfebf0b49d4d38b2c9a236cbb7634c": {
          "model_module": "@jupyter-widgets/controls",
          "model_name": "HTMLModel",
          "model_module_version": "1.5.0",
          "state": {
            "_dom_classes": [],
            "_model_module": "@jupyter-widgets/controls",
            "_model_module_version": "1.5.0",
            "_model_name": "HTMLModel",
            "_view_count": null,
            "_view_module": "@jupyter-widgets/controls",
            "_view_module_version": "1.5.0",
            "_view_name": "HTMLView",
            "description": "",
            "description_tooltip": null,
            "layout": "IPY_MODEL_9981a690508b49d2a155483c2a434e3a",
            "placeholder": "​",
            "style": "IPY_MODEL_eafa1cd6bf67448f806d25ee646bc03e",
            "value": "config.json: 100%"
          }
        },
        "37e82d36304f476381ec0082ddaf3c0a": {
          "model_module": "@jupyter-widgets/controls",
          "model_name": "FloatProgressModel",
          "model_module_version": "1.5.0",
          "state": {
            "_dom_classes": [],
            "_model_module": "@jupyter-widgets/controls",
            "_model_module_version": "1.5.0",
            "_model_name": "FloatProgressModel",
            "_view_count": null,
            "_view_module": "@jupyter-widgets/controls",
            "_view_module_version": "1.5.0",
            "_view_name": "ProgressView",
            "bar_style": "success",
            "description": "",
            "description_tooltip": null,
            "layout": "IPY_MODEL_167b5de7366d4f43ae137abd0fa08c44",
            "max": 625,
            "min": 0,
            "orientation": "horizontal",
            "style": "IPY_MODEL_e549c97d50724851a894b5136a10ca8c",
            "value": 625
          }
        },
        "ea02631a5d4c4bb0b6a130073e8992f8": {
          "model_module": "@jupyter-widgets/controls",
          "model_name": "HTMLModel",
          "model_module_version": "1.5.0",
          "state": {
            "_dom_classes": [],
            "_model_module": "@jupyter-widgets/controls",
            "_model_module_version": "1.5.0",
            "_model_name": "HTMLModel",
            "_view_count": null,
            "_view_module": "@jupyter-widgets/controls",
            "_view_module_version": "1.5.0",
            "_view_name": "HTMLView",
            "description": "",
            "description_tooltip": null,
            "layout": "IPY_MODEL_87d40c67414649f3a500fe4fc6f932a4",
            "placeholder": "​",
            "style": "IPY_MODEL_425b5ce6939a4a95b25c73226bba8580",
            "value": " 625/625 [00:00&lt;00:00, 24.0kB/s]"
          }
        },
        "124c16bb95634e539c725d65f60bf2a9": {
          "model_module": "@jupyter-widgets/base",
          "model_name": "LayoutModel",
          "model_module_version": "1.2.0",
          "state": {
            "_model_module": "@jupyter-widgets/base",
            "_model_module_version": "1.2.0",
            "_model_name": "LayoutModel",
            "_view_count": null,
            "_view_module": "@jupyter-widgets/base",
            "_view_module_version": "1.2.0",
            "_view_name": "LayoutView",
            "align_content": null,
            "align_items": null,
            "align_self": null,
            "border": null,
            "bottom": null,
            "display": null,
            "flex": null,
            "flex_flow": null,
            "grid_area": null,
            "grid_auto_columns": null,
            "grid_auto_flow": null,
            "grid_auto_rows": null,
            "grid_column": null,
            "grid_gap": null,
            "grid_row": null,
            "grid_template_areas": null,
            "grid_template_columns": null,
            "grid_template_rows": null,
            "height": null,
            "justify_content": null,
            "justify_items": null,
            "left": null,
            "margin": null,
            "max_height": null,
            "max_width": null,
            "min_height": null,
            "min_width": null,
            "object_fit": null,
            "object_position": null,
            "order": null,
            "overflow": null,
            "overflow_x": null,
            "overflow_y": null,
            "padding": null,
            "right": null,
            "top": null,
            "visibility": null,
            "width": null
          }
        },
        "9981a690508b49d2a155483c2a434e3a": {
          "model_module": "@jupyter-widgets/base",
          "model_name": "LayoutModel",
          "model_module_version": "1.2.0",
          "state": {
            "_model_module": "@jupyter-widgets/base",
            "_model_module_version": "1.2.0",
            "_model_name": "LayoutModel",
            "_view_count": null,
            "_view_module": "@jupyter-widgets/base",
            "_view_module_version": "1.2.0",
            "_view_name": "LayoutView",
            "align_content": null,
            "align_items": null,
            "align_self": null,
            "border": null,
            "bottom": null,
            "display": null,
            "flex": null,
            "flex_flow": null,
            "grid_area": null,
            "grid_auto_columns": null,
            "grid_auto_flow": null,
            "grid_auto_rows": null,
            "grid_column": null,
            "grid_gap": null,
            "grid_row": null,
            "grid_template_areas": null,
            "grid_template_columns": null,
            "grid_template_rows": null,
            "height": null,
            "justify_content": null,
            "justify_items": null,
            "left": null,
            "margin": null,
            "max_height": null,
            "max_width": null,
            "min_height": null,
            "min_width": null,
            "object_fit": null,
            "object_position": null,
            "order": null,
            "overflow": null,
            "overflow_x": null,
            "overflow_y": null,
            "padding": null,
            "right": null,
            "top": null,
            "visibility": null,
            "width": null
          }
        },
        "eafa1cd6bf67448f806d25ee646bc03e": {
          "model_module": "@jupyter-widgets/controls",
          "model_name": "DescriptionStyleModel",
          "model_module_version": "1.5.0",
          "state": {
            "_model_module": "@jupyter-widgets/controls",
            "_model_module_version": "1.5.0",
            "_model_name": "DescriptionStyleModel",
            "_view_count": null,
            "_view_module": "@jupyter-widgets/base",
            "_view_module_version": "1.2.0",
            "_view_name": "StyleView",
            "description_width": ""
          }
        },
        "167b5de7366d4f43ae137abd0fa08c44": {
          "model_module": "@jupyter-widgets/base",
          "model_name": "LayoutModel",
          "model_module_version": "1.2.0",
          "state": {
            "_model_module": "@jupyter-widgets/base",
            "_model_module_version": "1.2.0",
            "_model_name": "LayoutModel",
            "_view_count": null,
            "_view_module": "@jupyter-widgets/base",
            "_view_module_version": "1.2.0",
            "_view_name": "LayoutView",
            "align_content": null,
            "align_items": null,
            "align_self": null,
            "border": null,
            "bottom": null,
            "display": null,
            "flex": null,
            "flex_flow": null,
            "grid_area": null,
            "grid_auto_columns": null,
            "grid_auto_flow": null,
            "grid_auto_rows": null,
            "grid_column": null,
            "grid_gap": null,
            "grid_row": null,
            "grid_template_areas": null,
            "grid_template_columns": null,
            "grid_template_rows": null,
            "height": null,
            "justify_content": null,
            "justify_items": null,
            "left": null,
            "margin": null,
            "max_height": null,
            "max_width": null,
            "min_height": null,
            "min_width": null,
            "object_fit": null,
            "object_position": null,
            "order": null,
            "overflow": null,
            "overflow_x": null,
            "overflow_y": null,
            "padding": null,
            "right": null,
            "top": null,
            "visibility": null,
            "width": null
          }
        },
        "e549c97d50724851a894b5136a10ca8c": {
          "model_module": "@jupyter-widgets/controls",
          "model_name": "ProgressStyleModel",
          "model_module_version": "1.5.0",
          "state": {
            "_model_module": "@jupyter-widgets/controls",
            "_model_module_version": "1.5.0",
            "_model_name": "ProgressStyleModel",
            "_view_count": null,
            "_view_module": "@jupyter-widgets/base",
            "_view_module_version": "1.2.0",
            "_view_name": "StyleView",
            "bar_color": null,
            "description_width": ""
          }
        },
        "87d40c67414649f3a500fe4fc6f932a4": {
          "model_module": "@jupyter-widgets/base",
          "model_name": "LayoutModel",
          "model_module_version": "1.2.0",
          "state": {
            "_model_module": "@jupyter-widgets/base",
            "_model_module_version": "1.2.0",
            "_model_name": "LayoutModel",
            "_view_count": null,
            "_view_module": "@jupyter-widgets/base",
            "_view_module_version": "1.2.0",
            "_view_name": "LayoutView",
            "align_content": null,
            "align_items": null,
            "align_self": null,
            "border": null,
            "bottom": null,
            "display": null,
            "flex": null,
            "flex_flow": null,
            "grid_area": null,
            "grid_auto_columns": null,
            "grid_auto_flow": null,
            "grid_auto_rows": null,
            "grid_column": null,
            "grid_gap": null,
            "grid_row": null,
            "grid_template_areas": null,
            "grid_template_columns": null,
            "grid_template_rows": null,
            "height": null,
            "justify_content": null,
            "justify_items": null,
            "left": null,
            "margin": null,
            "max_height": null,
            "max_width": null,
            "min_height": null,
            "min_width": null,
            "object_fit": null,
            "object_position": null,
            "order": null,
            "overflow": null,
            "overflow_x": null,
            "overflow_y": null,
            "padding": null,
            "right": null,
            "top": null,
            "visibility": null,
            "width": null
          }
        },
        "425b5ce6939a4a95b25c73226bba8580": {
          "model_module": "@jupyter-widgets/controls",
          "model_name": "DescriptionStyleModel",
          "model_module_version": "1.5.0",
          "state": {
            "_model_module": "@jupyter-widgets/controls",
            "_model_module_version": "1.5.0",
            "_model_name": "DescriptionStyleModel",
            "_view_count": null,
            "_view_module": "@jupyter-widgets/base",
            "_view_module_version": "1.2.0",
            "_view_name": "StyleView",
            "description_width": ""
          }
        },
        "f4b772b020484a318e78be009221c695": {
          "model_module": "@jupyter-widgets/controls",
          "model_name": "HBoxModel",
          "model_module_version": "1.5.0",
          "state": {
            "_dom_classes": [],
            "_model_module": "@jupyter-widgets/controls",
            "_model_module_version": "1.5.0",
            "_model_name": "HBoxModel",
            "_view_count": null,
            "_view_module": "@jupyter-widgets/controls",
            "_view_module_version": "1.5.0",
            "_view_name": "HBoxView",
            "box_style": "",
            "children": [
              "IPY_MODEL_6e0b446f9c9046d6b6fafd3a77af14f4",
              "IPY_MODEL_d42a8c11f6c94eb4b47ef20963102ace",
              "IPY_MODEL_7bf1bafe36374f89aa43e5536fe5f226"
            ],
            "layout": "IPY_MODEL_209deb889de44ee2af35ea57a9bd58b0"
          }
        },
        "6e0b446f9c9046d6b6fafd3a77af14f4": {
          "model_module": "@jupyter-widgets/controls",
          "model_name": "HTMLModel",
          "model_module_version": "1.5.0",
          "state": {
            "_dom_classes": [],
            "_model_module": "@jupyter-widgets/controls",
            "_model_module_version": "1.5.0",
            "_model_name": "HTMLModel",
            "_view_count": null,
            "_view_module": "@jupyter-widgets/controls",
            "_view_module_version": "1.5.0",
            "_view_name": "HTMLView",
            "description": "",
            "description_tooltip": null,
            "layout": "IPY_MODEL_e604d117d98a41ef9f0cc9f8a7ee11bf",
            "placeholder": "​",
            "style": "IPY_MODEL_7667e862edb340ffb73ab1ec6379473d",
            "value": "model.safetensors: 100%"
          }
        },
        "d42a8c11f6c94eb4b47ef20963102ace": {
          "model_module": "@jupyter-widgets/controls",
          "model_name": "FloatProgressModel",
          "model_module_version": "1.5.0",
          "state": {
            "_dom_classes": [],
            "_model_module": "@jupyter-widgets/controls",
            "_model_module_version": "1.5.0",
            "_model_name": "FloatProgressModel",
            "_view_count": null,
            "_view_module": "@jupyter-widgets/controls",
            "_view_module_version": "1.5.0",
            "_view_name": "ProgressView",
            "bar_style": "success",
            "description": "",
            "description_tooltip": null,
            "layout": "IPY_MODEL_68422ff1538248ad87ab6170612f5a99",
            "max": 672247920,
            "min": 0,
            "orientation": "horizontal",
            "style": "IPY_MODEL_374f3e733e904058b8081a3acb9aaa0c",
            "value": 672247920
          }
        },
        "7bf1bafe36374f89aa43e5536fe5f226": {
          "model_module": "@jupyter-widgets/controls",
          "model_name": "HTMLModel",
          "model_module_version": "1.5.0",
          "state": {
            "_dom_classes": [],
            "_model_module": "@jupyter-widgets/controls",
            "_model_module_version": "1.5.0",
            "_model_name": "HTMLModel",
            "_view_count": null,
            "_view_module": "@jupyter-widgets/controls",
            "_view_module_version": "1.5.0",
            "_view_name": "HTMLView",
            "description": "",
            "description_tooltip": null,
            "layout": "IPY_MODEL_cbf4eaec04d2406d944c56900be9dab8",
            "placeholder": "​",
            "style": "IPY_MODEL_b108cb970ea441ea882be32ac0a026d4",
            "value": " 672M/672M [00:07&lt;00:00, 200MB/s]"
          }
        },
        "209deb889de44ee2af35ea57a9bd58b0": {
          "model_module": "@jupyter-widgets/base",
          "model_name": "LayoutModel",
          "model_module_version": "1.2.0",
          "state": {
            "_model_module": "@jupyter-widgets/base",
            "_model_module_version": "1.2.0",
            "_model_name": "LayoutModel",
            "_view_count": null,
            "_view_module": "@jupyter-widgets/base",
            "_view_module_version": "1.2.0",
            "_view_name": "LayoutView",
            "align_content": null,
            "align_items": null,
            "align_self": null,
            "border": null,
            "bottom": null,
            "display": null,
            "flex": null,
            "flex_flow": null,
            "grid_area": null,
            "grid_auto_columns": null,
            "grid_auto_flow": null,
            "grid_auto_rows": null,
            "grid_column": null,
            "grid_gap": null,
            "grid_row": null,
            "grid_template_areas": null,
            "grid_template_columns": null,
            "grid_template_rows": null,
            "height": null,
            "justify_content": null,
            "justify_items": null,
            "left": null,
            "margin": null,
            "max_height": null,
            "max_width": null,
            "min_height": null,
            "min_width": null,
            "object_fit": null,
            "object_position": null,
            "order": null,
            "overflow": null,
            "overflow_x": null,
            "overflow_y": null,
            "padding": null,
            "right": null,
            "top": null,
            "visibility": null,
            "width": null
          }
        },
        "e604d117d98a41ef9f0cc9f8a7ee11bf": {
          "model_module": "@jupyter-widgets/base",
          "model_name": "LayoutModel",
          "model_module_version": "1.2.0",
          "state": {
            "_model_module": "@jupyter-widgets/base",
            "_model_module_version": "1.2.0",
            "_model_name": "LayoutModel",
            "_view_count": null,
            "_view_module": "@jupyter-widgets/base",
            "_view_module_version": "1.2.0",
            "_view_name": "LayoutView",
            "align_content": null,
            "align_items": null,
            "align_self": null,
            "border": null,
            "bottom": null,
            "display": null,
            "flex": null,
            "flex_flow": null,
            "grid_area": null,
            "grid_auto_columns": null,
            "grid_auto_flow": null,
            "grid_auto_rows": null,
            "grid_column": null,
            "grid_gap": null,
            "grid_row": null,
            "grid_template_areas": null,
            "grid_template_columns": null,
            "grid_template_rows": null,
            "height": null,
            "justify_content": null,
            "justify_items": null,
            "left": null,
            "margin": null,
            "max_height": null,
            "max_width": null,
            "min_height": null,
            "min_width": null,
            "object_fit": null,
            "object_position": null,
            "order": null,
            "overflow": null,
            "overflow_x": null,
            "overflow_y": null,
            "padding": null,
            "right": null,
            "top": null,
            "visibility": null,
            "width": null
          }
        },
        "7667e862edb340ffb73ab1ec6379473d": {
          "model_module": "@jupyter-widgets/controls",
          "model_name": "DescriptionStyleModel",
          "model_module_version": "1.5.0",
          "state": {
            "_model_module": "@jupyter-widgets/controls",
            "_model_module_version": "1.5.0",
            "_model_name": "DescriptionStyleModel",
            "_view_count": null,
            "_view_module": "@jupyter-widgets/base",
            "_view_module_version": "1.2.0",
            "_view_name": "StyleView",
            "description_width": ""
          }
        },
        "68422ff1538248ad87ab6170612f5a99": {
          "model_module": "@jupyter-widgets/base",
          "model_name": "LayoutModel",
          "model_module_version": "1.2.0",
          "state": {
            "_model_module": "@jupyter-widgets/base",
            "_model_module_version": "1.2.0",
            "_model_name": "LayoutModel",
            "_view_count": null,
            "_view_module": "@jupyter-widgets/base",
            "_view_module_version": "1.2.0",
            "_view_name": "LayoutView",
            "align_content": null,
            "align_items": null,
            "align_self": null,
            "border": null,
            "bottom": null,
            "display": null,
            "flex": null,
            "flex_flow": null,
            "grid_area": null,
            "grid_auto_columns": null,
            "grid_auto_flow": null,
            "grid_auto_rows": null,
            "grid_column": null,
            "grid_gap": null,
            "grid_row": null,
            "grid_template_areas": null,
            "grid_template_columns": null,
            "grid_template_rows": null,
            "height": null,
            "justify_content": null,
            "justify_items": null,
            "left": null,
            "margin": null,
            "max_height": null,
            "max_width": null,
            "min_height": null,
            "min_width": null,
            "object_fit": null,
            "object_position": null,
            "order": null,
            "overflow": null,
            "overflow_x": null,
            "overflow_y": null,
            "padding": null,
            "right": null,
            "top": null,
            "visibility": null,
            "width": null
          }
        },
        "374f3e733e904058b8081a3acb9aaa0c": {
          "model_module": "@jupyter-widgets/controls",
          "model_name": "ProgressStyleModel",
          "model_module_version": "1.5.0",
          "state": {
            "_model_module": "@jupyter-widgets/controls",
            "_model_module_version": "1.5.0",
            "_model_name": "ProgressStyleModel",
            "_view_count": null,
            "_view_module": "@jupyter-widgets/base",
            "_view_module_version": "1.2.0",
            "_view_name": "StyleView",
            "bar_color": null,
            "description_width": ""
          }
        },
        "cbf4eaec04d2406d944c56900be9dab8": {
          "model_module": "@jupyter-widgets/base",
          "model_name": "LayoutModel",
          "model_module_version": "1.2.0",
          "state": {
            "_model_module": "@jupyter-widgets/base",
            "_model_module_version": "1.2.0",
            "_model_name": "LayoutModel",
            "_view_count": null,
            "_view_module": "@jupyter-widgets/base",
            "_view_module_version": "1.2.0",
            "_view_name": "LayoutView",
            "align_content": null,
            "align_items": null,
            "align_self": null,
            "border": null,
            "bottom": null,
            "display": null,
            "flex": null,
            "flex_flow": null,
            "grid_area": null,
            "grid_auto_columns": null,
            "grid_auto_flow": null,
            "grid_auto_rows": null,
            "grid_column": null,
            "grid_gap": null,
            "grid_row": null,
            "grid_template_areas": null,
            "grid_template_columns": null,
            "grid_template_rows": null,
            "height": null,
            "justify_content": null,
            "justify_items": null,
            "left": null,
            "margin": null,
            "max_height": null,
            "max_width": null,
            "min_height": null,
            "min_width": null,
            "object_fit": null,
            "object_position": null,
            "order": null,
            "overflow": null,
            "overflow_x": null,
            "overflow_y": null,
            "padding": null,
            "right": null,
            "top": null,
            "visibility": null,
            "width": null
          }
        },
        "b108cb970ea441ea882be32ac0a026d4": {
          "model_module": "@jupyter-widgets/controls",
          "model_name": "DescriptionStyleModel",
          "model_module_version": "1.5.0",
          "state": {
            "_model_module": "@jupyter-widgets/controls",
            "_model_module_version": "1.5.0",
            "_model_name": "DescriptionStyleModel",
            "_view_count": null,
            "_view_module": "@jupyter-widgets/base",
            "_view_module_version": "1.2.0",
            "_view_name": "StyleView",
            "description_width": ""
          }
        }
      }
    }
  },
  "nbformat": 4,
  "nbformat_minor": 0
}